{
 "cells": [
  {
   "cell_type": "markdown",
   "metadata": {},
   "source": [
    "### Anomaly Detection using the Azure Cognitive Services Detector\n",
    "This notbook illustrates the example described in our blog post about anomaly detectors. It is based on examples from the Azure Cog services anomaly detection blogs,  but with different data. \n",
    "\n",
    "To use the cognitive service, you need to go to the Azure portal and then to cognitive services.  There you can use the search bar to look for the “Anomaly Detector” (at the time of this writing it is still in “preview”).  You will need to create an instance and that will get you an API key and an endpoint for billing.   \n",
    "\n",
    "You should go to this page to see what is currently required to launch the container.  Assuming you have docker installed on a machine (your laptop or in the cloud), you must first pull the container.\n",
    "\n",
    "docker pull containerpreview.azurecr.io/microsoft/cognitive-services-anomaly-detector:latest\n",
    "\n",
    "Next you will use ApiKey and billing endpoint to launch the container.   This command works:\n",
    "\n",
    "docker run --rm -it -p 5000:5000 containerpreview.azurecr.io/microsoft/cognitive-services-anomaly-detector:latest Eula=accept Billing={ENDPOINT_URI} ApiKey={API_KEY}\n",
    "\n"
   ]
  },
  {
   "cell_type": "code",
   "execution_count": 1,
   "metadata": {},
   "outputs": [],
   "source": [
    "import requests\n",
    "import json\n",
    "import requests\n",
    "import json\n",
    "import pandas as pd\n",
    "import numpy as np\n",
    "#from __future__ import print_function\n",
    "import warnings\n",
    "warnings.filterwarnings('ignore')\n",
    "\n",
    "# Import library to display results\n",
    "import matplotlib.pyplot as plt\n",
    "%matplotlib inline "
   ]
  },
  {
   "cell_type": "code",
   "execution_count": 2,
   "metadata": {},
   "outputs": [],
   "source": [
    "# To start sending requests to the Anomaly Detector API, paste your subscription key you received after creating Anomaly Detector resource. \n",
    "subscription_key = 'your-subscription-key-goes-here' \n",
    "\n",
    "# You will point your anomaly detection work at the container running on your \"edge\" device.\n",
    "# in this case we ran it on the same host as the notebook.\n",
    "\n",
    "endpoint = 'http://localhost:5000/anomalydetector/v1.0/timeseries/entire/detect'"
   ]
  },
  {
   "cell_type": "code",
   "execution_count": 3,
   "metadata": {},
   "outputs": [
    {
     "data": {
      "text/html": [
       "\n",
       "    <div class=\"bk-root\">\n",
       "        <a href=\"https://bokeh.pydata.org\" target=\"_blank\" class=\"bk-logo bk-logo-small bk-logo-notebook\"></a>\n",
       "        <span id=\"1001\">Loading BokehJS ...</span>\n",
       "    </div>"
      ]
     },
     "metadata": {},
     "output_type": "display_data"
    },
    {
     "data": {
      "application/javascript": [
       "\n",
       "(function(root) {\n",
       "  function now() {\n",
       "    return new Date();\n",
       "  }\n",
       "\n",
       "  var force = true;\n",
       "\n",
       "  if (typeof root._bokeh_onload_callbacks === \"undefined\" || force === true) {\n",
       "    root._bokeh_onload_callbacks = [];\n",
       "    root._bokeh_is_loading = undefined;\n",
       "  }\n",
       "\n",
       "  var JS_MIME_TYPE = 'application/javascript';\n",
       "  var HTML_MIME_TYPE = 'text/html';\n",
       "  var EXEC_MIME_TYPE = 'application/vnd.bokehjs_exec.v0+json';\n",
       "  var CLASS_NAME = 'output_bokeh rendered_html';\n",
       "\n",
       "  /**\n",
       "   * Render data to the DOM node\n",
       "   */\n",
       "  function render(props, node) {\n",
       "    var script = document.createElement(\"script\");\n",
       "    node.appendChild(script);\n",
       "  }\n",
       "\n",
       "  /**\n",
       "   * Handle when an output is cleared or removed\n",
       "   */\n",
       "  function handleClearOutput(event, handle) {\n",
       "    var cell = handle.cell;\n",
       "\n",
       "    var id = cell.output_area._bokeh_element_id;\n",
       "    var server_id = cell.output_area._bokeh_server_id;\n",
       "    // Clean up Bokeh references\n",
       "    if (id != null && id in Bokeh.index) {\n",
       "      Bokeh.index[id].model.document.clear();\n",
       "      delete Bokeh.index[id];\n",
       "    }\n",
       "\n",
       "    if (server_id !== undefined) {\n",
       "      // Clean up Bokeh references\n",
       "      var cmd = \"from bokeh.io.state import curstate; print(curstate().uuid_to_server['\" + server_id + \"'].get_sessions()[0].document.roots[0]._id)\";\n",
       "      cell.notebook.kernel.execute(cmd, {\n",
       "        iopub: {\n",
       "          output: function(msg) {\n",
       "            var id = msg.content.text.trim();\n",
       "            if (id in Bokeh.index) {\n",
       "              Bokeh.index[id].model.document.clear();\n",
       "              delete Bokeh.index[id];\n",
       "            }\n",
       "          }\n",
       "        }\n",
       "      });\n",
       "      // Destroy server and session\n",
       "      var cmd = \"import bokeh.io.notebook as ion; ion.destroy_server('\" + server_id + \"')\";\n",
       "      cell.notebook.kernel.execute(cmd);\n",
       "    }\n",
       "  }\n",
       "\n",
       "  /**\n",
       "   * Handle when a new output is added\n",
       "   */\n",
       "  function handleAddOutput(event, handle) {\n",
       "    var output_area = handle.output_area;\n",
       "    var output = handle.output;\n",
       "\n",
       "    // limit handleAddOutput to display_data with EXEC_MIME_TYPE content only\n",
       "    if ((output.output_type != \"display_data\") || (!output.data.hasOwnProperty(EXEC_MIME_TYPE))) {\n",
       "      return\n",
       "    }\n",
       "\n",
       "    var toinsert = output_area.element.find(\".\" + CLASS_NAME.split(' ')[0]);\n",
       "\n",
       "    if (output.metadata[EXEC_MIME_TYPE][\"id\"] !== undefined) {\n",
       "      toinsert[toinsert.length - 1].firstChild.textContent = output.data[JS_MIME_TYPE];\n",
       "      // store reference to embed id on output_area\n",
       "      output_area._bokeh_element_id = output.metadata[EXEC_MIME_TYPE][\"id\"];\n",
       "    }\n",
       "    if (output.metadata[EXEC_MIME_TYPE][\"server_id\"] !== undefined) {\n",
       "      var bk_div = document.createElement(\"div\");\n",
       "      bk_div.innerHTML = output.data[HTML_MIME_TYPE];\n",
       "      var script_attrs = bk_div.children[0].attributes;\n",
       "      for (var i = 0; i < script_attrs.length; i++) {\n",
       "        toinsert[toinsert.length - 1].firstChild.setAttribute(script_attrs[i].name, script_attrs[i].value);\n",
       "      }\n",
       "      // store reference to server id on output_area\n",
       "      output_area._bokeh_server_id = output.metadata[EXEC_MIME_TYPE][\"server_id\"];\n",
       "    }\n",
       "  }\n",
       "\n",
       "  function register_renderer(events, OutputArea) {\n",
       "\n",
       "    function append_mime(data, metadata, element) {\n",
       "      // create a DOM node to render to\n",
       "      var toinsert = this.create_output_subarea(\n",
       "        metadata,\n",
       "        CLASS_NAME,\n",
       "        EXEC_MIME_TYPE\n",
       "      );\n",
       "      this.keyboard_manager.register_events(toinsert);\n",
       "      // Render to node\n",
       "      var props = {data: data, metadata: metadata[EXEC_MIME_TYPE]};\n",
       "      render(props, toinsert[toinsert.length - 1]);\n",
       "      element.append(toinsert);\n",
       "      return toinsert\n",
       "    }\n",
       "\n",
       "    /* Handle when an output is cleared or removed */\n",
       "    events.on('clear_output.CodeCell', handleClearOutput);\n",
       "    events.on('delete.Cell', handleClearOutput);\n",
       "\n",
       "    /* Handle when a new output is added */\n",
       "    events.on('output_added.OutputArea', handleAddOutput);\n",
       "\n",
       "    /**\n",
       "     * Register the mime type and append_mime function with output_area\n",
       "     */\n",
       "    OutputArea.prototype.register_mime_type(EXEC_MIME_TYPE, append_mime, {\n",
       "      /* Is output safe? */\n",
       "      safe: true,\n",
       "      /* Index of renderer in `output_area.display_order` */\n",
       "      index: 0\n",
       "    });\n",
       "  }\n",
       "\n",
       "  // register the mime type if in Jupyter Notebook environment and previously unregistered\n",
       "  if (root.Jupyter !== undefined) {\n",
       "    var events = require('base/js/events');\n",
       "    var OutputArea = require('notebook/js/outputarea').OutputArea;\n",
       "\n",
       "    if (OutputArea.prototype.mime_types().indexOf(EXEC_MIME_TYPE) == -1) {\n",
       "      register_renderer(events, OutputArea);\n",
       "    }\n",
       "  }\n",
       "\n",
       "  \n",
       "  if (typeof (root._bokeh_timeout) === \"undefined\" || force === true) {\n",
       "    root._bokeh_timeout = Date.now() + 5000;\n",
       "    root._bokeh_failed_load = false;\n",
       "  }\n",
       "\n",
       "  var NB_LOAD_WARNING = {'data': {'text/html':\n",
       "     \"<div style='background-color: #fdd'>\\n\"+\n",
       "     \"<p>\\n\"+\n",
       "     \"BokehJS does not appear to have successfully loaded. If loading BokehJS from CDN, this \\n\"+\n",
       "     \"may be due to a slow or bad network connection. Possible fixes:\\n\"+\n",
       "     \"</p>\\n\"+\n",
       "     \"<ul>\\n\"+\n",
       "     \"<li>re-rerun `output_notebook()` to attempt to load from CDN again, or</li>\\n\"+\n",
       "     \"<li>use INLINE resources instead, as so:</li>\\n\"+\n",
       "     \"</ul>\\n\"+\n",
       "     \"<code>\\n\"+\n",
       "     \"from bokeh.resources import INLINE\\n\"+\n",
       "     \"output_notebook(resources=INLINE)\\n\"+\n",
       "     \"</code>\\n\"+\n",
       "     \"</div>\"}};\n",
       "\n",
       "  function display_loaded() {\n",
       "    var el = document.getElementById(\"1001\");\n",
       "    if (el != null) {\n",
       "      el.textContent = \"BokehJS is loading...\";\n",
       "    }\n",
       "    if (root.Bokeh !== undefined) {\n",
       "      if (el != null) {\n",
       "        el.textContent = \"BokehJS \" + root.Bokeh.version + \" successfully loaded.\";\n",
       "      }\n",
       "    } else if (Date.now() < root._bokeh_timeout) {\n",
       "      setTimeout(display_loaded, 100)\n",
       "    }\n",
       "  }\n",
       "\n",
       "\n",
       "  function run_callbacks() {\n",
       "    try {\n",
       "      root._bokeh_onload_callbacks.forEach(function(callback) {\n",
       "        if (callback != null)\n",
       "          callback();\n",
       "      });\n",
       "    } finally {\n",
       "      delete root._bokeh_onload_callbacks\n",
       "    }\n",
       "    console.debug(\"Bokeh: all callbacks have finished\");\n",
       "  }\n",
       "\n",
       "  function load_libs(css_urls, js_urls, callback) {\n",
       "    if (css_urls == null) css_urls = [];\n",
       "    if (js_urls == null) js_urls = [];\n",
       "\n",
       "    root._bokeh_onload_callbacks.push(callback);\n",
       "    if (root._bokeh_is_loading > 0) {\n",
       "      console.debug(\"Bokeh: BokehJS is being loaded, scheduling callback at\", now());\n",
       "      return null;\n",
       "    }\n",
       "    if (js_urls == null || js_urls.length === 0) {\n",
       "      run_callbacks();\n",
       "      return null;\n",
       "    }\n",
       "    console.debug(\"Bokeh: BokehJS not loaded, scheduling load and callback at\", now());\n",
       "    root._bokeh_is_loading = css_urls.length + js_urls.length;\n",
       "\n",
       "    function on_load() {\n",
       "      root._bokeh_is_loading--;\n",
       "      if (root._bokeh_is_loading === 0) {\n",
       "        console.debug(\"Bokeh: all BokehJS libraries/stylesheets loaded\");\n",
       "        run_callbacks()\n",
       "      }\n",
       "    }\n",
       "\n",
       "    function on_error() {\n",
       "      console.error(\"failed to load \" + url);\n",
       "    }\n",
       "\n",
       "    for (var i = 0; i < css_urls.length; i++) {\n",
       "      var url = css_urls[i];\n",
       "      const element = document.createElement(\"link\");\n",
       "      element.onload = on_load;\n",
       "      element.onerror = on_error;\n",
       "      element.rel = \"stylesheet\";\n",
       "      element.type = \"text/css\";\n",
       "      element.href = url;\n",
       "      console.debug(\"Bokeh: injecting link tag for BokehJS stylesheet: \", url);\n",
       "      document.body.appendChild(element);\n",
       "    }\n",
       "\n",
       "    for (var i = 0; i < js_urls.length; i++) {\n",
       "      var url = js_urls[i];\n",
       "      var element = document.createElement('script');\n",
       "      element.onload = on_load;\n",
       "      element.onerror = on_error;\n",
       "      element.async = false;\n",
       "      element.src = url;\n",
       "      console.debug(\"Bokeh: injecting script tag for BokehJS library: \", url);\n",
       "      document.head.appendChild(element);\n",
       "    }\n",
       "  };var element = document.getElementById(\"1001\");\n",
       "  if (element == null) {\n",
       "    console.error(\"Bokeh: ERROR: autoload.js configured with elementid '1001' but no matching script tag was found. \")\n",
       "    return false;\n",
       "  }\n",
       "\n",
       "  function inject_raw_css(css) {\n",
       "    const element = document.createElement(\"style\");\n",
       "    element.appendChild(document.createTextNode(css));\n",
       "    document.body.appendChild(element);\n",
       "  }\n",
       "\n",
       "  var js_urls = [\"https://cdn.pydata.org/bokeh/release/bokeh-1.3.4.min.js\", \"https://cdn.pydata.org/bokeh/release/bokeh-widgets-1.3.4.min.js\", \"https://cdn.pydata.org/bokeh/release/bokeh-tables-1.3.4.min.js\", \"https://cdn.pydata.org/bokeh/release/bokeh-gl-1.3.4.min.js\"];\n",
       "  var css_urls = [];\n",
       "\n",
       "  var inline_js = [\n",
       "    function(Bokeh) {\n",
       "      Bokeh.set_log_level(\"info\");\n",
       "    },\n",
       "    \n",
       "    function(Bokeh) {\n",
       "      \n",
       "    },\n",
       "    function(Bokeh) {} // ensure no trailing comma for IE\n",
       "  ];\n",
       "\n",
       "  function run_inline_js() {\n",
       "    \n",
       "    if ((root.Bokeh !== undefined) || (force === true)) {\n",
       "      for (var i = 0; i < inline_js.length; i++) {\n",
       "        inline_js[i].call(root, root.Bokeh);\n",
       "      }if (force === true) {\n",
       "        display_loaded();\n",
       "      }} else if (Date.now() < root._bokeh_timeout) {\n",
       "      setTimeout(run_inline_js, 100);\n",
       "    } else if (!root._bokeh_failed_load) {\n",
       "      console.log(\"Bokeh: BokehJS failed to load within specified timeout.\");\n",
       "      root._bokeh_failed_load = true;\n",
       "    } else if (force !== true) {\n",
       "      var cell = $(document.getElementById(\"1001\")).parents('.cell').data().cell;\n",
       "      cell.output_area.append_execute_result(NB_LOAD_WARNING)\n",
       "    }\n",
       "\n",
       "  }\n",
       "\n",
       "  if (root._bokeh_is_loading === 0) {\n",
       "    console.debug(\"Bokeh: BokehJS loaded, going straight to plotting\");\n",
       "    run_inline_js();\n",
       "  } else {\n",
       "    load_libs(css_urls, js_urls, function() {\n",
       "      console.debug(\"Bokeh: BokehJS plotting callback run at\", now());\n",
       "      run_inline_js();\n",
       "    });\n",
       "  }\n",
       "}(window));"
      ],
      "application/vnd.bokehjs_load.v0+json": "\n(function(root) {\n  function now() {\n    return new Date();\n  }\n\n  var force = true;\n\n  if (typeof root._bokeh_onload_callbacks === \"undefined\" || force === true) {\n    root._bokeh_onload_callbacks = [];\n    root._bokeh_is_loading = undefined;\n  }\n\n  \n\n  \n  if (typeof (root._bokeh_timeout) === \"undefined\" || force === true) {\n    root._bokeh_timeout = Date.now() + 5000;\n    root._bokeh_failed_load = false;\n  }\n\n  var NB_LOAD_WARNING = {'data': {'text/html':\n     \"<div style='background-color: #fdd'>\\n\"+\n     \"<p>\\n\"+\n     \"BokehJS does not appear to have successfully loaded. If loading BokehJS from CDN, this \\n\"+\n     \"may be due to a slow or bad network connection. Possible fixes:\\n\"+\n     \"</p>\\n\"+\n     \"<ul>\\n\"+\n     \"<li>re-rerun `output_notebook()` to attempt to load from CDN again, or</li>\\n\"+\n     \"<li>use INLINE resources instead, as so:</li>\\n\"+\n     \"</ul>\\n\"+\n     \"<code>\\n\"+\n     \"from bokeh.resources import INLINE\\n\"+\n     \"output_notebook(resources=INLINE)\\n\"+\n     \"</code>\\n\"+\n     \"</div>\"}};\n\n  function display_loaded() {\n    var el = document.getElementById(\"1001\");\n    if (el != null) {\n      el.textContent = \"BokehJS is loading...\";\n    }\n    if (root.Bokeh !== undefined) {\n      if (el != null) {\n        el.textContent = \"BokehJS \" + root.Bokeh.version + \" successfully loaded.\";\n      }\n    } else if (Date.now() < root._bokeh_timeout) {\n      setTimeout(display_loaded, 100)\n    }\n  }\n\n\n  function run_callbacks() {\n    try {\n      root._bokeh_onload_callbacks.forEach(function(callback) {\n        if (callback != null)\n          callback();\n      });\n    } finally {\n      delete root._bokeh_onload_callbacks\n    }\n    console.debug(\"Bokeh: all callbacks have finished\");\n  }\n\n  function load_libs(css_urls, js_urls, callback) {\n    if (css_urls == null) css_urls = [];\n    if (js_urls == null) js_urls = [];\n\n    root._bokeh_onload_callbacks.push(callback);\n    if (root._bokeh_is_loading > 0) {\n      console.debug(\"Bokeh: BokehJS is being loaded, scheduling callback at\", now());\n      return null;\n    }\n    if (js_urls == null || js_urls.length === 0) {\n      run_callbacks();\n      return null;\n    }\n    console.debug(\"Bokeh: BokehJS not loaded, scheduling load and callback at\", now());\n    root._bokeh_is_loading = css_urls.length + js_urls.length;\n\n    function on_load() {\n      root._bokeh_is_loading--;\n      if (root._bokeh_is_loading === 0) {\n        console.debug(\"Bokeh: all BokehJS libraries/stylesheets loaded\");\n        run_callbacks()\n      }\n    }\n\n    function on_error() {\n      console.error(\"failed to load \" + url);\n    }\n\n    for (var i = 0; i < css_urls.length; i++) {\n      var url = css_urls[i];\n      const element = document.createElement(\"link\");\n      element.onload = on_load;\n      element.onerror = on_error;\n      element.rel = \"stylesheet\";\n      element.type = \"text/css\";\n      element.href = url;\n      console.debug(\"Bokeh: injecting link tag for BokehJS stylesheet: \", url);\n      document.body.appendChild(element);\n    }\n\n    for (var i = 0; i < js_urls.length; i++) {\n      var url = js_urls[i];\n      var element = document.createElement('script');\n      element.onload = on_load;\n      element.onerror = on_error;\n      element.async = false;\n      element.src = url;\n      console.debug(\"Bokeh: injecting script tag for BokehJS library: \", url);\n      document.head.appendChild(element);\n    }\n  };var element = document.getElementById(\"1001\");\n  if (element == null) {\n    console.error(\"Bokeh: ERROR: autoload.js configured with elementid '1001' but no matching script tag was found. \")\n    return false;\n  }\n\n  function inject_raw_css(css) {\n    const element = document.createElement(\"style\");\n    element.appendChild(document.createTextNode(css));\n    document.body.appendChild(element);\n  }\n\n  var js_urls = [\"https://cdn.pydata.org/bokeh/release/bokeh-1.3.4.min.js\", \"https://cdn.pydata.org/bokeh/release/bokeh-widgets-1.3.4.min.js\", \"https://cdn.pydata.org/bokeh/release/bokeh-tables-1.3.4.min.js\", \"https://cdn.pydata.org/bokeh/release/bokeh-gl-1.3.4.min.js\"];\n  var css_urls = [];\n\n  var inline_js = [\n    function(Bokeh) {\n      Bokeh.set_log_level(\"info\");\n    },\n    \n    function(Bokeh) {\n      \n    },\n    function(Bokeh) {} // ensure no trailing comma for IE\n  ];\n\n  function run_inline_js() {\n    \n    if ((root.Bokeh !== undefined) || (force === true)) {\n      for (var i = 0; i < inline_js.length; i++) {\n        inline_js[i].call(root, root.Bokeh);\n      }if (force === true) {\n        display_loaded();\n      }} else if (Date.now() < root._bokeh_timeout) {\n      setTimeout(run_inline_js, 100);\n    } else if (!root._bokeh_failed_load) {\n      console.log(\"Bokeh: BokehJS failed to load within specified timeout.\");\n      root._bokeh_failed_load = true;\n    } else if (force !== true) {\n      var cell = $(document.getElementById(\"1001\")).parents('.cell').data().cell;\n      cell.output_area.append_execute_result(NB_LOAD_WARNING)\n    }\n\n  }\n\n  if (root._bokeh_is_loading === 0) {\n    console.debug(\"Bokeh: BokehJS loaded, going straight to plotting\");\n    run_inline_js();\n  } else {\n    load_libs(css_urls, js_urls, function() {\n      console.debug(\"Bokeh: BokehJS plotting callback run at\", now());\n      run_inline_js();\n    });\n  }\n}(window));"
     },
     "metadata": {},
     "output_type": "display_data"
    }
   ],
   "source": [
    "from bokeh.plotting import figure,output_notebook, show\n",
    "from bokeh.palettes import Blues4\n",
    "from bokeh.models import ColumnDataSource,Slider\n",
    "import datetime\n",
    "from bokeh.io import push_notebook\n",
    "from dateutil import parser\n",
    "from ipywidgets import interact, widgets, fixed\n",
    "output_notebook()"
   ]
  },
  {
   "cell_type": "code",
   "execution_count": 4,
   "metadata": {},
   "outputs": [],
   "source": [
    "def detect(endpoint, subscription_key, request_data):\n",
    "    headers = {'Content-Type': 'application/json-patch+json', 'Ocp-Apim-Subscription-Key': subscription_key}\n",
    "    response = requests.post(endpoint, data=json.dumps(request_data), headers=headers)\n",
    "    if response.status_code == 200:\n",
    "        return json.loads(response.content.decode(\"utf-8\"))\n",
    "    else:\n",
    "        print(response.status_code)\n",
    "        raise Exception(response.text)"
   ]
  },
  {
   "cell_type": "code",
   "execution_count": 83,
   "metadata": {},
   "outputs": [],
   "source": [
    "def build_figure(sample_data, sensitivity):\n",
    "    sample_data['sensitivity'] = sensitivity\n",
    "    result = detect(endpoint, subscription_key, sample_data)\n",
    "    columns = {'expectedValues': result['expectedValues'], 'isAnomaly': result['isAnomaly'], 'isNegativeAnomaly': result['isNegativeAnomaly'],\n",
    "          'isPositiveAnomaly': result['isPositiveAnomaly'], 'upperMargins': result['upperMargins'], 'lowerMargins': result['lowerMargins'],\n",
    "          'timestamp': [parser.parse(x['timestamp']) for x in sample_data['series']], \n",
    "          'value': [x['value'] for x in sample_data['series']]}\n",
    "    response = pd.DataFrame(data=columns)\n",
    "    values = response['value']\n",
    "    label = response['timestamp']\n",
    "    anomalies = []\n",
    "    anomaly_labels = []\n",
    "    index = 0\n",
    "    anomaly_indexes = []\n",
    "    p = figure(x_axis_type='datetime', title=\"Batch Anomaly Detection ({0} Sensitvity)\".format(sensitivity), width=800, height=400)\n",
    "    for anom in response['isAnomaly']:\n",
    "        if anom == True and (values[index] > response.iloc[index]['expectedValues'] + response.iloc[index]['upperMargins'] or \n",
    "                         values[index] < response.iloc[index]['expectedValues'] - response.iloc[index]['lowerMargins']):\n",
    "            anomalies.append(values[index])\n",
    "            anomaly_labels.append(label[index])\n",
    "            anomaly_indexes.append(index)\n",
    "        index = index+1\n",
    "    print(anomaly_indexes)\n",
    "    upperband = response['expectedValues'] + response['upperMargins']\n",
    "    lowerband = response['expectedValues'] -response['lowerMargins']\n",
    "    band_x = np.append(label, label[::-1])\n",
    "    band_y = np.append(lowerband, upperband[::-1])\n",
    "    boundary = p.patch(band_x, band_y, color=Blues4[2], fill_alpha=0.5, line_width=1, legend='Boundary')\n",
    "    p.line(label, values, legend='Value', color=\"#2222aa\", line_width=1)\n",
    "    p.line(label, response['expectedValues'], legend='ExpectedValue',  line_width=1, line_dash=\"dotdash\", line_color='olivedrab')\n",
    "    anom_source = ColumnDataSource(dict(x=anomaly_labels, y=anomalies))\n",
    "    anoms = p.circle('x', 'y', size=5, color='tomato', source=anom_source)\n",
    "    p.legend.border_line_width = 1\n",
    "    p.legend.background_fill_alpha  = 0.1\n",
    "    show(p, notebook_handle=True)"
   ]
  },
  {
   "cell_type": "code",
   "execution_count": 3,
   "metadata": {},
   "outputs": [],
   "source": [
    "TIME_SERIES_DATA_PATH = './instrument.csv'\n",
    "# this is a data stream captured from an SO2 sensor on an early version of the \n",
    "#Argonne-Chicago “Array-of-Things” edge device"
   ]
  },
  {
   "cell_type": "code",
   "execution_count": 7,
   "metadata": {},
   "outputs": [],
   "source": [
    "def load_data_from_csv(filename):\n",
    "\trdelim = '\\n'\n",
    "\tcdelim = ','\n",
    "\tdata  = pd.read_csv(filename)\n",
    "\treturn data"
   ]
  },
  {
   "cell_type": "code",
   "execution_count": 8,
   "metadata": {},
   "outputs": [],
   "source": [
    "data = load_data_from_csv(TIME_SERIES_DATA_PATH )\n",
    "datasorted = data.sort_values(by='timestamp')  #[0:1000]"
   ]
  },
  {
   "cell_type": "code",
   "execution_count": 9,
   "metadata": {},
   "outputs": [],
   "source": [
    "def extract_all(row):\n",
    "    key  = row['sensor']+'_'+row['parameter']\n",
    "    return {'timestamp': str(pd.to_datetime(row['timestamp']))[:-10], 'value': row['value']}"
   ]
  },
  {
   "cell_type": "code",
   "execution_count": 19,
   "metadata": {},
   "outputs": [],
   "source": [
    "z = datasorted.loc[datasorted['parameter'] == 'so2']"
   ]
  },
  {
   "cell_type": "code",
   "execution_count": 20,
   "metadata": {},
   "outputs": [],
   "source": [
    "w = z.apply(extract_all, axis=1)"
   ]
  },
  {
   "cell_type": "code",
   "execution_count": 21,
   "metadata": {},
   "outputs": [],
   "source": [
    "series = []\n",
    "prev = '99'\n",
    "for x in w:\n",
    "    if len(x['timestamp']) > 12 and x['timestamp'][12:] != prev:\n",
    "        series.append(x)\n",
    "        prev = x['timestamp'][12:]"
   ]
  },
  {
   "cell_type": "code",
   "execution_count": 34,
   "metadata": {},
   "outputs": [],
   "source": [
    "sample_data = {'granularity': 'minutely','series':series[200:850]}"
   ]
  },
  {
   "cell_type": "code",
   "execution_count": 46,
   "metadata": {
    "scrolled": true
   },
   "outputs": [
    {
     "name": "stdout",
     "output_type": "stream",
     "text": [
      "[402]\n"
     ]
    },
    {
     "data": {
      "text/html": [
       "\n",
       "\n",
       "\n",
       "\n",
       "\n",
       "\n",
       "  <div class=\"bk-root\" id=\"24d2d760-9acd-48ff-ac4a-488d5e0ba43c\" data-root-id=\"9672\"></div>\n"
      ]
     },
     "metadata": {},
     "output_type": "display_data"
    },
    {
     "data": {
      "application/javascript": [
       "(function(root) {\n",
       "  function embed_document(root) {\n",
       "    \n",
       "  var docs_json = {\"2a6f6cc1-44f4-4116-94b9-01ea64406e98\":{\"roots\":{\"references\":[{\"attributes\":{\"below\":[{\"id\":\"9683\",\"type\":\"DatetimeAxis\"}],\"center\":[{\"id\":\"9687\",\"type\":\"Grid\"},{\"id\":\"9692\",\"type\":\"Grid\"},{\"id\":\"9729\",\"type\":\"Legend\"}],\"left\":[{\"id\":\"9688\",\"type\":\"LinearAxis\"}],\"plot_height\":300,\"plot_width\":800,\"renderers\":[{\"id\":\"9709\",\"type\":\"GlyphRenderer\"},{\"id\":\"9734\",\"type\":\"GlyphRenderer\"},{\"id\":\"9760\",\"type\":\"GlyphRenderer\"},{\"id\":\"9789\",\"type\":\"GlyphRenderer\"}],\"title\":{\"id\":\"9673\",\"type\":\"Title\"},\"toolbar\":{\"id\":\"9699\",\"type\":\"Toolbar\"},\"x_range\":{\"id\":\"9675\",\"type\":\"DataRange1d\"},\"x_scale\":{\"id\":\"9679\",\"type\":\"LinearScale\"},\"y_range\":{\"id\":\"9677\",\"type\":\"DataRange1d\"},\"y_scale\":{\"id\":\"9681\",\"type\":\"LinearScale\"}},\"id\":\"9672\",\"subtype\":\"Figure\",\"type\":\"Plot\"},{\"attributes\":{\"data_source\":{\"id\":\"9757\",\"type\":\"ColumnDataSource\"},\"glyph\":{\"id\":\"9758\",\"type\":\"Line\"},\"hover_glyph\":null,\"muted_glyph\":null,\"nonselection_glyph\":{\"id\":\"9759\",\"type\":\"Line\"},\"selection_glyph\":null,\"view\":{\"id\":\"9761\",\"type\":\"CDSView\"}},\"id\":\"9760\",\"type\":\"GlyphRenderer\"},{\"attributes\":{\"active_drag\":\"auto\",\"active_inspect\":\"auto\",\"active_multi\":null,\"active_scroll\":\"auto\",\"active_tap\":\"auto\",\"tools\":[{\"id\":\"9693\",\"type\":\"PanTool\"},{\"id\":\"9694\",\"type\":\"WheelZoomTool\"},{\"id\":\"9695\",\"type\":\"BoxZoomTool\"},{\"id\":\"9696\",\"type\":\"SaveTool\"},{\"id\":\"9697\",\"type\":\"ResetTool\"},{\"id\":\"9698\",\"type\":\"HelpTool\"}]},\"id\":\"9699\",\"type\":\"Toolbar\"},{\"attributes\":{\"callback\":null},\"id\":\"9677\",\"type\":\"DataRange1d\"},{\"attributes\":{\"line_alpha\":0.1,\"line_color\":\"#1f77b4\",\"x\":{\"field\":\"x\"},\"y\":{\"field\":\"y\"}},\"id\":\"9733\",\"type\":\"Line\"},{\"attributes\":{\"fill_alpha\":{\"value\":0.1},\"fill_color\":{\"value\":\"#1f77b4\"},\"line_alpha\":{\"value\":0.1},\"line_color\":{\"value\":\"#1f77b4\"},\"size\":{\"units\":\"screen\",\"value\":5},\"x\":{\"field\":\"x\"},\"y\":{\"field\":\"y\"}},\"id\":\"9788\",\"type\":\"Circle\"},{\"attributes\":{},\"id\":\"9694\",\"type\":\"WheelZoomTool\"},{\"attributes\":{},\"id\":\"10257\",\"type\":\"Selection\"},{\"attributes\":{\"formatter\":{\"id\":\"9713\",\"type\":\"DatetimeTickFormatter\"},\"ticker\":{\"id\":\"9684\",\"type\":\"DatetimeTicker\"}},\"id\":\"9683\",\"type\":\"DatetimeAxis\"},{\"attributes\":{\"days\":[1,8,15,22]},\"id\":\"9721\",\"type\":\"DaysTicker\"},{\"attributes\":{},\"id\":\"10255\",\"type\":\"Selection\"},{\"attributes\":{\"num_minor_ticks\":5,\"tickers\":[{\"id\":\"9716\",\"type\":\"AdaptiveTicker\"},{\"id\":\"9717\",\"type\":\"AdaptiveTicker\"},{\"id\":\"9718\",\"type\":\"AdaptiveTicker\"},{\"id\":\"9719\",\"type\":\"DaysTicker\"},{\"id\":\"9720\",\"type\":\"DaysTicker\"},{\"id\":\"9721\",\"type\":\"DaysTicker\"},{\"id\":\"9722\",\"type\":\"DaysTicker\"},{\"id\":\"9723\",\"type\":\"MonthsTicker\"},{\"id\":\"9724\",\"type\":\"MonthsTicker\"},{\"id\":\"9725\",\"type\":\"MonthsTicker\"},{\"id\":\"9726\",\"type\":\"MonthsTicker\"},{\"id\":\"9727\",\"type\":\"YearsTicker\"}]},\"id\":\"9684\",\"type\":\"DatetimeTicker\"},{\"attributes\":{\"callback\":null,\"data\":{\"x\":[1478772120000.0],\"y\":[8424.0]},\"selected\":{\"id\":\"10257\",\"type\":\"Selection\"},\"selection_policy\":{\"id\":\"10256\",\"type\":\"UnionRenderers\"}},\"id\":\"9785\",\"type\":\"ColumnDataSource\"},{\"attributes\":{\"months\":[0,1,2,3,4,5,6,7,8,9,10,11]},\"id\":\"9723\",\"type\":\"MonthsTicker\"},{\"attributes\":{\"data_source\":{\"id\":\"9731\",\"type\":\"ColumnDataSource\"},\"glyph\":{\"id\":\"9732\",\"type\":\"Line\"},\"hover_glyph\":null,\"muted_glyph\":null,\"nonselection_glyph\":{\"id\":\"9733\",\"type\":\"Line\"},\"selection_glyph\":null,\"view\":{\"id\":\"9735\",\"type\":\"CDSView\"}},\"id\":\"9734\",\"type\":\"GlyphRenderer\"},{\"attributes\":{},\"id\":\"9696\",\"type\":\"SaveTool\"},{\"attributes\":{\"days\":[1,15]},\"id\":\"9722\",\"type\":\"DaysTicker\"},{\"attributes\":{\"formatter\":{\"id\":\"9715\",\"type\":\"BasicTickFormatter\"},\"ticker\":{\"id\":\"9689\",\"type\":\"BasicTicker\"}},\"id\":\"9688\",\"type\":\"LinearAxis\"},{\"attributes\":{},\"id\":\"9679\",\"type\":\"LinearScale\"},{\"attributes\":{\"line_alpha\":0.1,\"line_color\":\"#1f77b4\",\"line_dash\":[2,4,6,4],\"x\":{\"field\":\"x\"},\"y\":{\"field\":\"y\"}},\"id\":\"9759\",\"type\":\"Line\"},{\"attributes\":{\"months\":[0,2,4,6,8,10]},\"id\":\"9724\",\"type\":\"MonthsTicker\"},{\"attributes\":{},\"id\":\"9781\",\"type\":\"UnionRenderers\"},{\"attributes\":{\"callback\":null,\"data\":{\"x\":{\"__ndarray__\":\"AADw/MOEdUIAAJYLxIR1QgAAPBrEhHVCAADiKMSEdUIAAIg3xIR1QgAALkbEhHVCAADUVMSEdUIAAHpjxIR1QgAAIHLEhHVCAADGgMSEdUIAAGyPxIR1QgAAEp7EhHVCAAC4rMSEdUIAAF67xIR1QgAABMrEhHVCAACq2MSEdUIAAFDnxIR1QgAA9vXEhHVCAACcBMWEdUIAAEITxYR1QgAA6CHFhHVCAACOMMWEdUIAADQ/xYR1QgAA2k3FhHVCAACAXMWEdUIAACZrxYR1QgAAzHnFhHVCAAByiMWEdUIAABiXxYR1QgAAvqXFhHVCAABktMWEdUIAAArDxYR1QgAAsNHFhHVCAABW4MWEdUIAAPzuxYR1QgAAov3FhHVCAABIDMaEdUIAAO4axoR1QgAAlCnGhHVCAAA6OMaEdUIAAOBGxoR1QgAAhlXGhHVCAAAsZMaEdUIAANJyxoR1QgAAeIHGhHVCAAAekMaEdUIAAMSexoR1QgAAaq3GhHVCAAAQvMaEdUIAALbKxoR1QgAAXNnGhHVCAAAC6MaEdUIAAKj2xoR1QgAATgXHhHVCAAD0E8eEdUIAAJoix4R1QgAAQDHHhHVCAADmP8eEdUIAAIxOx4R1QgAAMl3HhHVCAADYa8eEdUIAAH56x4R1QgAAJInHhHVCAADKl8eEdUIAAHCmx4R1QgAAFrXHhHVCAAC8w8eEdUIAAGLSx4R1QgAACOHHhHVCAACu78eEdUIAAFT+x4R1QgAA+gzIhHVCAACgG8iEdUIAAEYqyIR1QgAA7DjIhHVCAACSR8iEdUIAADhWyIR1QgAA3mTIhHVCAACEc8iEdUIAACqCyIR1QgAA0JDIhHVCAAB2n8iEdUIAAByuyIR1QgAAwrzIhHVCAABoy8iEdUIAAA7ayIR1QgAAtOjIhHVCAABa98iEdUIAAAAGyYR1QgAAphTJhHVCAABMI8mEdUIAAPIxyYR1QgAAmEDJhHVCAAA+T8mEdUIAAORdyYR1QgAAimzJhHVCAAAwe8mEdUIAANaJyYR1QgAAfJjJhHVCAAAip8mEdUIAAMi1yYR1QgAAbsTJhHVCAAAU08mEdUIAALrhyYR1QgAAYPDJhHVCAAAG/8mEdUIAAKwNyoR1QgAAUhzKhHVCAAD4KsqEdUIAAJ45yoR1QgAAREjKhHVCAADqVsqEdUIAAJBlyoR1QgAANnTKhHVCAADcgsqEdUIAAIKRyoR1QgAAKKDKhHVCAADOrsqEdUIAAHS9yoR1QgAAGszKhHVCAADA2sqEdUIAAGbpyoR1QgAADPjKhHVCAACyBsuEdUIAAFgVy4R1QgAA/iPLhHVCAACkMsuEdUIAAEpBy4R1QgAA8E/LhHVCAACWXsuEdUIAADxty4R1QgAA4nvLhHVCAACIisuEdUIAAC6Zy4R1QgAA1KfLhHVCAAB6tsuEdUIAACDFy4R1QgAAxtPLhHVCAABs4suEdUIAABLxy4R1QgAAuP/LhHVCAABeDsyEdUIAAAQdzIR1QgAAqivMhHVCAABQOsyEdUIAAPZIzIR1QgAAnFfMhHVCAABCZsyEdUIAAOh0zIR1QgAAjoPMhHVCAAA0ksyEdUIAANqgzIR1QgAAgK/MhHVCAAAmvsyEdUIAAMzMzIR1QgAActvMhHVCAAAY6syEdUIAAL74zIR1QgAAZAfNhHVCAAAKFs2EdUIAALAkzYR1QgAAVjPNhHVCAAD8Qc2EdUIAAKJQzYR1QgAASF/NhHVCAADubc2EdUIAAJR8zYR1QgAAOovNhHVCAADgmc2EdUIAAIaozYR1QgAALLfNhHVCAADSxc2EdUIAAHjUzYR1QgAAHuPNhHVCAADE8c2EdUIAAGoAzoR1QgAAEA/OhHVCAAC2Hc6EdUIAAFwszoR1QgAAAjvOhHVCAACoSc6EdUIAAE5YzoR1QgAA9GbOhHVCAACadc6EdUIAAECEzoR1QgAA5pLOhHVCAACMoc6EdUIAADKwzoR1QgAA2L7OhHVCAAB+zc6EdUIAACTczoR1QgAAyurOhHVCAABw+c6EdUIAABYIz4R1QgAAvBbPhHVCAABiJc+EdUIAAAg0z4R1QgAArkLPhHVCAABUUc+EdUIAAPpfz4R1QgAAoG7PhHVCAABGfc+EdUIAAOyLz4R1QgAAkprPhHVCAAA4qc+EdUIAAN63z4R1QgAAhMbPhHVCAAAq1c+EdUIAANDjz4R1QgAAdvLPhHVCAAAcAdCEdUIAAMIP0IR1QgAAaB7QhHVCAAAOLdCEdUIAALQ70IR1QgAAWkrQhHVCAAAAWdCEdUIAAKZn0IR1QgAATHbQhHVCAADyhNCEdUIAAJiT0IR1QgAAPqLQhHVCAADksNCEdUIAAIq/0IR1QgAAMM7QhHVCAADW3NCEdUIAAHzr0IR1QgAAIvrQhHVCAADICNGEdUIAAG4X0YR1QgAAFCbRhHVCAAC6NNGEdUIAAGBD0YR1QgAABlLRhHVCAACsYNGEdUIAAFJv0YR1QgAA+H3RhHVCAACejNGEdUIAAESb0YR1QgAA6qnRhHVCAACQuNGEdUIAADbH0YR1QgAA3NXRhHVCAACC5NGEdUIAACjz0YR1QgAAzgHShHVCAAB0ENKEdUIAABof0oR1QgAAwC3ShHVCAABmPNKEdUIAAAxL0oR1QgAAslnShHVCAABYaNKEdUIAAP520oR1QgAApIXShHVCAABKlNKEdUIAAPCi0oR1QgAAlrHShHVCAAA8wNKEdUIAAOLO0oR1QgAAiN3ShHVCAAAu7NKEdUIAANT60oR1QgAAegnThHVCAAAgGNOEdUIAAMYm04R1QgAAbDXThHVCAAASRNOEdUIAALhS04R1QgAAXmHThHVCAAAEcNOEdUIAAKp+04R1QgAAUI3ThHVCAAD2m9OEdUIAAJyq04R1QgAAQrnThHVCAADox9OEdUIAAI7W04R1QgAANOXThHVCAADa89OEdUIAAIAC1IR1QgAAJhHUhHVCAADMH9SEdUIAAHIu1IR1QgAAGD3UhHVCAAC+S9SEdUIAAGRa1IR1QgAACmnUhHVCAACwd9SEdUIAAFaG1IR1QgAA/JTUhHVCAACio9SEdUIAAEiy1IR1QgAA7sDUhHVCAACUz9SEdUIAADre1IR1QgAA4OzUhHVCAACG+9SEdUIAACwK1YR1QgAA0hjVhHVCAAB4J9WEdUIAAB421YR1QgAAxETVhHVCAABqU9WEdUIAABBi1YR1QgAAtnDVhHVCAABcf9WEdUIAAAKO1YR1QgAAqJzVhHVCAABOq9WEdUIAAPS51YR1QgAAmsjVhHVCAABA19WEdUIAAObl1YR1QgAAjPTVhHVCAAAyA9aEdUIAANgR1oR1QgAAfiDWhHVCAAAkL9aEdUIAAMo91oR1QgAAcEzWhHVCAAAWW9aEdUIAALxp1oR1QgAAYnjWhHVCAAAIh9aEdUIAAK6V1oR1QgAAVKTWhHVCAAD6staEdUIAAKDB1oR1QgAARtDWhHVCAADs3taEdUIAAJLt1oR1QgAAOPzWhHVCAADeCteEdUIAAIQZ14R1QgAAKijXhHVCAADQNteEdUIAAHZF14R1QgAAHFTXhHVCAADCYteEdUIAAGhx14R1QgAADoDXhHVCAAC0jteEdUIAAFqd14R1QgAAAKzXhHVCAACmuteEdUIAAEzJ14R1QgAA8tfXhHVCAACY5teEdUIAAD7114R1QgAA5APYhHVCAACKEtiEdUIAADAh2IR1QgAA1i/YhHVCAAB8PtiEdUIAACJN2IR1QgAAyFvYhHVCAABuatiEdUIAABR52IR1QgAAuofYhHVCAABgltiEdUIAAAal2IR1QgAArLPYhHVCAABSwtiEdUIAAPjQ2IR1QgAAnt/YhHVCAABE7tiEdUIAAOr82IR1QgAAkAvZhHVCAAA2GtmEdUIAANwo2YR1QgAAgjfZhHVCAAAoRtmEdUIAAM5U2YR1QgAAdGPZhHVCAAAactmEdUIAAMCA2YR1QgAAZo/ZhHVCAAAMntmEdUIAALKs2YR1QgAAWLvZhHVCAAD+ydmEdUIAAKTY2YR1QgAASufZhHVCAADw9dmEdUIAAJYE2oR1QgAAPBPahHVCAADiIdqEdUIAAIgw2oR1QgAALj/ahHVCAADUTdqEdUIAAHpc2oR1QgAAIGvahHVCAADGedqEdUIAAGyI2oR1QgAAEpfahHVCAAC4pdqEdUIAAF602oR1QgAABMPahHVCAACq0dqEdUIAAFDg2oR1QgAA9u7ahHVCAACc/dqEdUIAAEIM24R1QgAA6BrbhHVCAACOKduEdUIAADQ424R1QgAA2kbbhHVCAACAVduEdUIAACZk24R1QgAAzHLbhHVCAABygduEdUIAABiQ24R1QgAAvp7bhHVCAABkrduEdUIAAAq824R1QgAAsMrbhHVCAABW2duEdUIAAPzn24R1QgAAovbbhHVCAABIBdyEdUIAAO4T3IR1QgAAlCLchHVCAAA6MdyEdUIAAOA/3IR1QgAAhk7chHVCAAAsXdyEdUIAANJr3IR1QgAAeHrchHVCAAAeidyEdUIAAMSX3IR1QgAAaqbchHVCAAAQtdyEdUIAALbD3IR1QgAAXNLchHVCAAAC4dyEdUIAAKjv3IR1QgAATv7chHVCAAD0DN2EdUIAAJob3YR1QgAAQCrdhHVCAADmON2EdUIAAIxH3YR1QgAAMlbdhHVCAADYZN2EdUIAAH5z3YR1QgAAJILdhHVCAADKkN2EdUIAAHCf3YR1QgAAFq7dhHVCAAC8vN2EdUIAAGLL3YR1QgAACNrdhHVCAACu6N2EdUIAAFT33YR1QgAA+gXehHVCAACgFN6EdUIAAEYj3oR1QgAA7DHehHVCAACSQN6EdUIAADhP3oR1QgAA3l3ehHVCAACEbN6EdUIAACp73oR1QgAA0InehHVCAAB2mN6EdUIAAByn3oR1QgAAwrXehHVCAABoxN6EdUIAAA7T3oR1QgAAtOHehHVCAABa8N6EdUIAAAD/3oR1QgAApg3fhHVCAABMHN+EdUIAAPIq34R1QgAAmDnfhHVCAAA+SN+EdUIAAORW34R1QgAAimXfhHVCAAAwdN+EdUIAANaC34R1QgAAfJHfhHVCAAAioN+EdUIAAMiu34R1QgAAbr3fhHVCAAAUzN+EdUIAALra34R1QgAAYOnfhHVCAAAG+N+EdUIAAKwG4IR1QgAAUhXghHVCAAD4I+CEdUIAAJ4y4IR1QgAAREHghHVCAADqT+CEdUIAAJBe4IR1QgAANm3ghHVCAADce+CEdUIAAIKK4IR1QgAAKJnghHVCAADOp+CEdUIAAHS24IR1QgAAGsXghHVCAADA0+CEdUIAAGbi4IR1QgAADPHghHVCAACy/+CEdUIAAFgO4YR1QgAA/hzhhHVCAACkK+GEdUIAAEo64YR1QgAA8EjhhHVCAACWV+GEdUIAADxm4YR1QgAA4nThhHVCAACIg+GEdUIAAC6S4YR1QgAA1KDhhHVCAAB6r+GEdUIAACC+4YR1QgAAxszhhHVCAABs2+GEdUIAABLq4YR1QgAAuPjhhHVCAABeB+KEdUIAAAQW4oR1QgAAqiTihHVCAABQM+KEdUIAAPZB4oR1QgAAnFDihHVCAABCX+KEdUIAAOht4oR1QgAAjnzihHVCAAA0i+KEdUIAANqZ4oR1QgAAgKjihHVCAAAmt+KEdUIAAMzF4oR1QgAActTihHVCAAAY4+KEdUIAAL7x4oR1QgAAZADjhHVCAAAKD+OEdUIAALAd44R1QgAAVizjhHVCAAD8OuOEdUIAAKJJ44R1QgAASFjjhHVCAADuZuOEdUIAAJR144R1QgAAOoTjhHVCAADgkuOEdUIAAIah44R1QgAALLDjhHVCAADSvuOEdUIAAHjN44R1QgAAHtzjhHVCAADE6uOEdUIAAGr544R1QgAAEAjkhHVCAAC2FuSEdUIAAFwl5IR1QgAAAjTkhHVCAACoQuSEdUIAAE5R5IR1QgAA9F/khHVCAACabuSEdUIAAEB95IR1QgAA5ovkhHVCAACMmuSEdUIAADKp5IR1QgAA2LfkhHVCAAB+xuSEdUIAACTV5IR1QgAAyuPkhHVCAABw8uSEdUIAABYB5YR1QgAAvA/lhHVCAABiHuWEdUIAAAgt5YR1QgAArjvlhHVCAABUSuWEdUIAAPpY5YR1QgAAoGflhHVCAABGduWEdUIAAOyE5YR1QgAAkpPlhHVCAAA4ouWEdUIAAN6w5YR1QgAAhL/lhHVCAAAqzuWEdUIAANDc5YR1QgAAduvlhHVCAAAc+uWEdUIAAMII5oR1QgAAaBfmhHVCAAAOJuaEdUIAALQ05oR1QgAAWkPmhHVCAAAAUuaEdUIAAKZg5oR1QgAATG/mhHVCAADyfeaEdUIAAJiM5oR1QgAAPpvmhHVCAADkqeaEdUIAAIq45oR1QgAAMMfmhHVCAADW1eaEdUIAAHzk5oR1QgAAIvPmhHVCAADIAeeEdUIAAG4Q54R1QgAAFB/nhHVCAAC6LeeEdUIAAGA854R1QgAABkvnhHVCAACsWeeEdUIAAFJo54R1QgAA+HbnhHVCAACeheeEdUIAAESU54R1QgAA6qLnhHVCAACQseeEdUIAADbA54R1QgAA3M7nhHVCAACC3eeEdUIAACjs54R1QgAAzvrnhHVCAAB0CeiEdUIAABoY6IR1QgAAwCbohHVCAABmNeiEdUIAAAxE6IR1QgAAslLohHVCAABYYeiEdUIAAP5v6IR1QgAApH7ohHVCAABKjeiEdUIAAPCb6IR1QgAAlqrohHVCAAA8ueiEdUIAAOLH6IR1QgAAiNbohHVCAAAu5eiEdUIAANTz6IR1QgAAegLphHVCAAAgEemEdUIAAMYf6YR1QgAAxh/phHVCAAAgEemEdUIAAHoC6YR1QgAA1PPohHVCAAAu5eiEdUIAAIjW6IR1QgAA4sfohHVCAAA8ueiEdUIAAJaq6IR1QgAA8JvohHVCAABKjeiEdUIAAKR+6IR1QgAA/m/ohHVCAABYYeiEdUIAALJS6IR1QgAADETohHVCAABmNeiEdUIAAMAm6IR1QgAAGhjohHVCAAB0CeiEdUIAAM7654R1QgAAKOznhHVCAACC3eeEdUIAANzO54R1QgAANsDnhHVCAACQseeEdUIAAOqi54R1QgAARJTnhHVCAACeheeEdUIAAPh254R1QgAAUmjnhHVCAACsWeeEdUIAAAZL54R1QgAAYDznhHVCAAC6LeeEdUIAABQf54R1QgAAbhDnhHVCAADIAeeEdUIAACLz5oR1QgAAfOTmhHVCAADW1eaEdUIAADDH5oR1QgAAirjmhHVCAADkqeaEdUIAAD6b5oR1QgAAmIzmhHVCAADyfeaEdUIAAExv5oR1QgAApmDmhHVCAAAAUuaEdUIAAFpD5oR1QgAAtDTmhHVCAAAOJuaEdUIAAGgX5oR1QgAAwgjmhHVCAAAc+uWEdUIAAHbr5YR1QgAA0NzlhHVCAAAqzuWEdUIAAIS/5YR1QgAA3rDlhHVCAAA4ouWEdUIAAJKT5YR1QgAA7ITlhHVCAABGduWEdUIAAKBn5YR1QgAA+ljlhHVCAABUSuWEdUIAAK475YR1QgAACC3lhHVCAABiHuWEdUIAALwP5YR1QgAAFgHlhHVCAABw8uSEdUIAAMrj5IR1QgAAJNXkhHVCAAB+xuSEdUIAANi35IR1QgAAMqnkhHVCAACMmuSEdUIAAOaL5IR1QgAAQH3khHVCAACabuSEdUIAAPRf5IR1QgAATlHkhHVCAACoQuSEdUIAAAI05IR1QgAAXCXkhHVCAAC2FuSEdUIAABAI5IR1QgAAavnjhHVCAADE6uOEdUIAAB7c44R1QgAAeM3jhHVCAADSvuOEdUIAACyw44R1QgAAhqHjhHVCAADgkuOEdUIAADqE44R1QgAAlHXjhHVCAADuZuOEdUIAAEhY44R1QgAAoknjhHVCAAD8OuOEdUIAAFYs44R1QgAAsB3jhHVCAAAKD+OEdUIAAGQA44R1QgAAvvHihHVCAAAY4+KEdUIAAHLU4oR1QgAAzMXihHVCAAAmt+KEdUIAAICo4oR1QgAA2pnihHVCAAA0i+KEdUIAAI584oR1QgAA6G3ihHVCAABCX+KEdUIAAJxQ4oR1QgAA9kHihHVCAABQM+KEdUIAAKok4oR1QgAABBbihHVCAABeB+KEdUIAALj44YR1QgAAEurhhHVCAABs2+GEdUIAAMbM4YR1QgAAIL7hhHVCAAB6r+GEdUIAANSg4YR1QgAALpLhhHVCAACIg+GEdUIAAOJ04YR1QgAAPGbhhHVCAACWV+GEdUIAAPBI4YR1QgAASjrhhHVCAACkK+GEdUIAAP4c4YR1QgAAWA7hhHVCAACy/+CEdUIAAAzx4IR1QgAAZuLghHVCAADA0+CEdUIAABrF4IR1QgAAdLbghHVCAADOp+CEdUIAACiZ4IR1QgAAgorghHVCAADce+CEdUIAADZt4IR1QgAAkF7ghHVCAADqT+CEdUIAAERB4IR1QgAAnjLghHVCAAD4I+CEdUIAAFIV4IR1QgAArAbghHVCAAAG+N+EdUIAAGDp34R1QgAAutrfhHVCAAAUzN+EdUIAAG6934R1QgAAyK7fhHVCAAAioN+EdUIAAHyR34R1QgAA1oLfhHVCAAAwdN+EdUIAAIpl34R1QgAA5FbfhHVCAAA+SN+EdUIAAJg534R1QgAA8irfhHVCAABMHN+EdUIAAKYN34R1QgAAAP/ehHVCAABa8N6EdUIAALTh3oR1QgAADtPehHVCAABoxN6EdUIAAMK13oR1QgAAHKfehHVCAAB2mN6EdUIAANCJ3oR1QgAAKnvehHVCAACEbN6EdUIAAN5d3oR1QgAAOE/ehHVCAACSQN6EdUIAAOwx3oR1QgAARiPehHVCAACgFN6EdUIAAPoF3oR1QgAAVPfdhHVCAACu6N2EdUIAAAja3YR1QgAAYsvdhHVCAAC8vN2EdUIAABau3YR1QgAAcJ/dhHVCAADKkN2EdUIAACSC3YR1QgAAfnPdhHVCAADYZN2EdUIAADJW3YR1QgAAjEfdhHVCAADmON2EdUIAAEAq3YR1QgAAmhvdhHVCAAD0DN2EdUIAAE7+3IR1QgAAqO/chHVCAAAC4dyEdUIAAFzS3IR1QgAAtsPchHVCAAAQtdyEdUIAAGqm3IR1QgAAxJfchHVCAAAeidyEdUIAAHh63IR1QgAA0mvchHVCAAAsXdyEdUIAAIZO3IR1QgAA4D/chHVCAAA6MdyEdUIAAJQi3IR1QgAA7hPchHVCAABIBdyEdUIAAKL224R1QgAA/OfbhHVCAABW2duEdUIAALDK24R1QgAACrzbhHVCAABkrduEdUIAAL6e24R1QgAAGJDbhHVCAABygduEdUIAAMxy24R1QgAAJmTbhHVCAACAVduEdUIAANpG24R1QgAANDjbhHVCAACOKduEdUIAAOga24R1QgAAQgzbhHVCAACc/dqEdUIAAPbu2oR1QgAAUODahHVCAACq0dqEdUIAAATD2oR1QgAAXrTahHVCAAC4pdqEdUIAABKX2oR1QgAAbIjahHVCAADGedqEdUIAACBr2oR1QgAAelzahHVCAADUTdqEdUIAAC4/2oR1QgAAiDDahHVCAADiIdqEdUIAADwT2oR1QgAAlgTahHVCAADw9dmEdUIAAErn2YR1QgAApNjZhHVCAAD+ydmEdUIAAFi72YR1QgAAsqzZhHVCAAAMntmEdUIAAGaP2YR1QgAAwIDZhHVCAAAactmEdUIAAHRj2YR1QgAAzlTZhHVCAAAoRtmEdUIAAII32YR1QgAA3CjZhHVCAAA2GtmEdUIAAJAL2YR1QgAA6vzYhHVCAABE7tiEdUIAAJ7f2IR1QgAA+NDYhHVCAABSwtiEdUIAAKyz2IR1QgAABqXYhHVCAABgltiEdUIAALqH2IR1QgAAFHnYhHVCAABuatiEdUIAAMhb2IR1QgAAIk3YhHVCAAB8PtiEdUIAANYv2IR1QgAAMCHYhHVCAACKEtiEdUIAAOQD2IR1QgAAPvXXhHVCAACY5teEdUIAAPLX14R1QgAATMnXhHVCAACmuteEdUIAAACs14R1QgAAWp3XhHVCAAC0jteEdUIAAA6A14R1QgAAaHHXhHVCAADCYteEdUIAABxU14R1QgAAdkXXhHVCAADQNteEdUIAACoo14R1QgAAhBnXhHVCAADeCteEdUIAADj81oR1QgAAku3WhHVCAADs3taEdUIAAEbQ1oR1QgAAoMHWhHVCAAD6staEdUIAAFSk1oR1QgAArpXWhHVCAAAIh9aEdUIAAGJ41oR1QgAAvGnWhHVCAAAWW9aEdUIAAHBM1oR1QgAAyj3WhHVCAAAkL9aEdUIAAH4g1oR1QgAA2BHWhHVCAAAyA9aEdUIAAIz01YR1QgAA5uXVhHVCAABA19WEdUIAAJrI1YR1QgAA9LnVhHVCAABOq9WEdUIAAKic1YR1QgAAAo7VhHVCAABcf9WEdUIAALZw1YR1QgAAEGLVhHVCAABqU9WEdUIAAMRE1YR1QgAAHjbVhHVCAAB4J9WEdUIAANIY1YR1QgAALArVhHVCAACG+9SEdUIAAODs1IR1QgAAOt7UhHVCAACUz9SEdUIAAO7A1IR1QgAASLLUhHVCAACio9SEdUIAAPyU1IR1QgAAVobUhHVCAACwd9SEdUIAAApp1IR1QgAAZFrUhHVCAAC+S9SEdUIAABg91IR1QgAAci7UhHVCAADMH9SEdUIAACYR1IR1QgAAgALUhHVCAADa89OEdUIAADTl04R1QgAAjtbThHVCAADox9OEdUIAAEK504R1QgAAnKrThHVCAAD2m9OEdUIAAFCN04R1QgAAqn7ThHVCAAAEcNOEdUIAAF5h04R1QgAAuFLThHVCAAASRNOEdUIAAGw104R1QgAAxibThHVCAAAgGNOEdUIAAHoJ04R1QgAA1PrShHVCAAAu7NKEdUIAAIjd0oR1QgAA4s7ShHVCAAA8wNKEdUIAAJax0oR1QgAA8KLShHVCAABKlNKEdUIAAKSF0oR1QgAA/nbShHVCAABYaNKEdUIAALJZ0oR1QgAADEvShHVCAABmPNKEdUIAAMAt0oR1QgAAGh/ShHVCAAB0ENKEdUIAAM4B0oR1QgAAKPPRhHVCAACC5NGEdUIAANzV0YR1QgAANsfRhHVCAACQuNGEdUIAAOqp0YR1QgAARJvRhHVCAACejNGEdUIAAPh90YR1QgAAUm/RhHVCAACsYNGEdUIAAAZS0YR1QgAAYEPRhHVCAAC6NNGEdUIAABQm0YR1QgAAbhfRhHVCAADICNGEdUIAACL60IR1QgAAfOvQhHVCAADW3NCEdUIAADDO0IR1QgAAir/QhHVCAADksNCEdUIAAD6i0IR1QgAAmJPQhHVCAADyhNCEdUIAAEx20IR1QgAApmfQhHVCAAAAWdCEdUIAAFpK0IR1QgAAtDvQhHVCAAAOLdCEdUIAAGge0IR1QgAAwg/QhHVCAAAcAdCEdUIAAHbyz4R1QgAA0OPPhHVCAAAq1c+EdUIAAITGz4R1QgAA3rfPhHVCAAA4qc+EdUIAAJKaz4R1QgAA7IvPhHVCAABGfc+EdUIAAKBuz4R1QgAA+l/PhHVCAABUUc+EdUIAAK5Cz4R1QgAACDTPhHVCAABiJc+EdUIAALwWz4R1QgAAFgjPhHVCAABw+c6EdUIAAMrqzoR1QgAAJNzOhHVCAAB+zc6EdUIAANi+zoR1QgAAMrDOhHVCAACMoc6EdUIAAOaSzoR1QgAAQITOhHVCAACadc6EdUIAAPRmzoR1QgAATljOhHVCAACoSc6EdUIAAAI7zoR1QgAAXCzOhHVCAAC2Hc6EdUIAABAPzoR1QgAAagDOhHVCAADE8c2EdUIAAB7jzYR1QgAAeNTNhHVCAADSxc2EdUIAACy3zYR1QgAAhqjNhHVCAADgmc2EdUIAADqLzYR1QgAAlHzNhHVCAADubc2EdUIAAEhfzYR1QgAAolDNhHVCAAD8Qc2EdUIAAFYzzYR1QgAAsCTNhHVCAAAKFs2EdUIAAGQHzYR1QgAAvvjMhHVCAAAY6syEdUIAAHLbzIR1QgAAzMzMhHVCAAAmvsyEdUIAAICvzIR1QgAA2qDMhHVCAAA0ksyEdUIAAI6DzIR1QgAA6HTMhHVCAABCZsyEdUIAAJxXzIR1QgAA9kjMhHVCAABQOsyEdUIAAKorzIR1QgAABB3MhHVCAABeDsyEdUIAALj/y4R1QgAAEvHLhHVCAABs4suEdUIAAMbTy4R1QgAAIMXLhHVCAAB6tsuEdUIAANSny4R1QgAALpnLhHVCAACIisuEdUIAAOJ7y4R1QgAAPG3LhHVCAACWXsuEdUIAAPBPy4R1QgAASkHLhHVCAACkMsuEdUIAAP4jy4R1QgAAWBXLhHVCAACyBsuEdUIAAAz4yoR1QgAAZunKhHVCAADA2sqEdUIAABrMyoR1QgAAdL3KhHVCAADOrsqEdUIAACigyoR1QgAAgpHKhHVCAADcgsqEdUIAADZ0yoR1QgAAkGXKhHVCAADqVsqEdUIAAERIyoR1QgAAnjnKhHVCAAD4KsqEdUIAAFIcyoR1QgAArA3KhHVCAAAG/8mEdUIAAGDwyYR1QgAAuuHJhHVCAAAU08mEdUIAAG7EyYR1QgAAyLXJhHVCAAAip8mEdUIAAHyYyYR1QgAA1onJhHVCAAAwe8mEdUIAAIpsyYR1QgAA5F3JhHVCAAA+T8mEdUIAAJhAyYR1QgAA8jHJhHVCAABMI8mEdUIAAKYUyYR1QgAAAAbJhHVCAABa98iEdUIAALToyIR1QgAADtrIhHVCAABoy8iEdUIAAMK8yIR1QgAAHK7IhHVCAAB2n8iEdUIAANCQyIR1QgAAKoLIhHVCAACEc8iEdUIAAN5kyIR1QgAAOFbIhHVCAACSR8iEdUIAAOw4yIR1QgAARirIhHVCAACgG8iEdUIAAPoMyIR1QgAAVP7HhHVCAACu78eEdUIAAAjhx4R1QgAAYtLHhHVCAAC8w8eEdUIAABa1x4R1QgAAcKbHhHVCAADKl8eEdUIAACSJx4R1QgAAfnrHhHVCAADYa8eEdUIAADJdx4R1QgAAjE7HhHVCAADmP8eEdUIAAEAxx4R1QgAAmiLHhHVCAAD0E8eEdUIAAE4Fx4R1QgAAqPbGhHVCAAAC6MaEdUIAAFzZxoR1QgAAtsrGhHVCAAAQvMaEdUIAAGqtxoR1QgAAxJ7GhHVCAAAekMaEdUIAAHiBxoR1QgAA0nLGhHVCAAAsZMaEdUIAAIZVxoR1QgAA4EbGhHVCAAA6OMaEdUIAAJQpxoR1QgAA7hrGhHVCAABIDMaEdUIAAKL9xYR1QgAA/O7FhHVCAABW4MWEdUIAALDRxYR1QgAACsPFhHVCAABktMWEdUIAAL6lxYR1QgAAGJfFhHVCAAByiMWEdUIAAMx5xYR1QgAAJmvFhHVCAACAXMWEdUIAANpNxYR1QgAAND/FhHVCAACOMMWEdUIAAOghxYR1QgAAQhPFhHVCAACcBMWEdUIAAPb1xIR1QgAAUOfEhHVCAACq2MSEdUIAAATKxIR1QgAAXrvEhHVCAAC4rMSEdUIAABKexIR1QgAAbI/EhHVCAADGgMSEdUIAACByxIR1QgAAemPEhHVCAADUVMSEdUIAAC5GxIR1QgAAiDfEhHVCAADiKMSEdUIAADwaxIR1QgAAlgvEhHVCAADw/MOEdUI=\",\"dtype\":\"float64\",\"shape\":[1300]},\"y\":{\"__ndarray__\":\"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\",\"dtype\":\"float64\",\"shape\":[1300]}},\"selected\":{\"id\":\"9754\",\"type\":\"Selection\"},\"selection_policy\":{\"id\":\"9753\",\"type\":\"UnionRenderers\"}},\"id\":\"9706\",\"type\":\"ColumnDataSource\"},{\"attributes\":{\"source\":{\"id\":\"9785\",\"type\":\"ColumnDataSource\"}},\"id\":\"9790\",\"type\":\"CDSView\"},{\"attributes\":{},\"id\":\"9754\",\"type\":\"Selection\"},{\"attributes\":{},\"id\":\"10254\",\"type\":\"UnionRenderers\"},{\"attributes\":{},\"id\":\"9697\",\"type\":\"ResetTool\"},{\"attributes\":{\"fill_alpha\":0.1,\"fill_color\":\"#1f77b4\",\"line_alpha\":0.1,\"line_color\":\"#1f77b4\",\"x\":{\"field\":\"x\"},\"y\":{\"field\":\"y\"}},\"id\":\"9708\",\"type\":\"Patch\"},{\"attributes\":{},\"id\":\"10256\",\"type\":\"UnionRenderers\"},{\"attributes\":{},\"id\":\"9681\",\"type\":\"LinearScale\"},{\"attributes\":{\"source\":{\"id\":\"9757\",\"type\":\"ColumnDataSource\"}},\"id\":\"9761\",\"type\":\"CDSView\"},{\"attributes\":{\"callback\":null,\"data\":{\"x\":{\"__ndarray__\":\"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\",\"dtype\":\"float64\",\"shape\":[650]},\"y\":{\"__ndarray__\":\"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\",\"dtype\":\"float64\",\"shape\":[650]}},\"selected\":{\"id\":\"10255\",\"type\":\"Selection\"},\"selection_policy\":{\"id\":\"10254\",\"type\":\"UnionRenderers\"}},\"id\":\"9757\",\"type\":\"ColumnDataSource\"},{\"attributes\":{},\"id\":\"9698\",\"type\":\"HelpTool\"},{\"attributes\":{\"months\":[0,4,8]},\"id\":\"9725\",\"type\":\"MonthsTicker\"},{\"attributes\":{\"fill_color\":{\"value\":\"tomato\"},\"line_color\":{\"value\":\"tomato\"},\"size\":{\"units\":\"screen\",\"value\":5},\"x\":{\"field\":\"x\"},\"y\":{\"field\":\"y\"}},\"id\":\"9787\",\"type\":\"Circle\"},{\"attributes\":{},\"id\":\"9753\",\"type\":\"UnionRenderers\"},{\"attributes\":{\"data_source\":{\"id\":\"9706\",\"type\":\"ColumnDataSource\"},\"glyph\":{\"id\":\"9707\",\"type\":\"Patch\"},\"hover_glyph\":null,\"muted_glyph\":null,\"nonselection_glyph\":{\"id\":\"9708\",\"type\":\"Patch\"},\"selection_glyph\":null,\"view\":{\"id\":\"9710\",\"type\":\"CDSView\"}},\"id\":\"9709\",\"type\":\"GlyphRenderer\"},{\"attributes\":{},\"id\":\"9782\",\"type\":\"Selection\"},{\"attributes\":{\"label\":{\"value\":\"ExpectedValue\"},\"renderers\":[{\"id\":\"9760\",\"type\":\"GlyphRenderer\"}]},\"id\":\"9784\",\"type\":\"LegendItem\"},{\"attributes\":{\"label\":{\"value\":\"Value\"},\"renderers\":[{\"id\":\"9734\",\"type\":\"GlyphRenderer\"}]},\"id\":\"9756\",\"type\":\"LegendItem\"},{\"attributes\":{},\"id\":\"9715\",\"type\":\"BasicTickFormatter\"},{\"attributes\":{\"days\":[1,4,7,10,13,16,19,22,25,28]},\"id\":\"9720\",\"type\":\"DaysTicker\"},{\"attributes\":{\"callback\":null},\"id\":\"9675\",\"type\":\"DataRange1d\"},{\"attributes\":{\"fill_alpha\":0.5,\"fill_color\":\"#bdd7e7\",\"line_color\":\"#bdd7e7\",\"x\":{\"field\":\"x\"},\"y\":{\"field\":\"y\"}},\"id\":\"9707\",\"type\":\"Patch\"},{\"attributes\":{\"source\":{\"id\":\"9706\",\"type\":\"ColumnDataSource\"}},\"id\":\"9710\",\"type\":\"CDSView\"},{\"attributes\":{\"days\":[1,2,3,4,5,6,7,8,9,10,11,12,13,14,15,16,17,18,19,20,21,22,23,24,25,26,27,28,29,30,31]},\"id\":\"9719\",\"type\":\"DaysTicker\"},{\"attributes\":{},\"id\":\"9689\",\"type\":\"BasicTicker\"},{\"attributes\":{\"label\":{\"value\":\"Boundary\"},\"renderers\":[{\"id\":\"9709\",\"type\":\"GlyphRenderer\"}]},\"id\":\"9730\",\"type\":\"LegendItem\"},{\"attributes\":{\"base\":24,\"mantissas\":[1,2,4,6,8,12],\"max_interval\":43200000.0,\"min_interval\":3600000.0,\"num_minor_ticks\":0},\"id\":\"9718\",\"type\":\"AdaptiveTicker\"},{\"attributes\":{\"background_fill_alpha\":{\"value\":0.1},\"items\":[{\"id\":\"9730\",\"type\":\"LegendItem\"},{\"id\":\"9756\",\"type\":\"LegendItem\"},{\"id\":\"9784\",\"type\":\"LegendItem\"}]},\"id\":\"9729\",\"type\":\"Legend\"},{\"attributes\":{\"ticker\":{\"id\":\"9684\",\"type\":\"DatetimeTicker\"}},\"id\":\"9687\",\"type\":\"Grid\"},{\"attributes\":{},\"id\":\"9693\",\"type\":\"PanTool\"},{\"attributes\":{\"mantissas\":[1,2,5],\"max_interval\":500.0,\"num_minor_ticks\":0},\"id\":\"9716\",\"type\":\"AdaptiveTicker\"},{\"attributes\":{\"callback\":null,\"data\":{\"x\":{\"__ndarray__\":\"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\",\"dtype\":\"float64\",\"shape\":[650]},\"y\":{\"__ndarray__\":\"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\",\"dtype\":\"float64\",\"shape\":[650]}},\"selected\":{\"id\":\"9782\",\"type\":\"Selection\"},\"selection_policy\":{\"id\":\"9781\",\"type\":\"UnionRenderers\"}},\"id\":\"9731\",\"type\":\"ColumnDataSource\"},{\"attributes\":{},\"id\":\"9713\",\"type\":\"DatetimeTickFormatter\"},{\"attributes\":{\"bottom_units\":\"screen\",\"fill_alpha\":{\"value\":0.5},\"fill_color\":{\"value\":\"lightgrey\"},\"left_units\":\"screen\",\"level\":\"overlay\",\"line_alpha\":{\"value\":1.0},\"line_color\":{\"value\":\"black\"},\"line_dash\":[4,4],\"line_width\":{\"value\":2},\"render_mode\":\"css\",\"right_units\":\"screen\",\"top_units\":\"screen\"},\"id\":\"9728\",\"type\":\"BoxAnnotation\"},{\"attributes\":{\"text\":\"Batch Anomaly Detection (80 Sensitvity)\"},\"id\":\"9673\",\"type\":\"Title\"},{\"attributes\":{},\"id\":\"9727\",\"type\":\"YearsTicker\"},{\"attributes\":{\"dimension\":1,\"ticker\":{\"id\":\"9689\",\"type\":\"BasicTicker\"}},\"id\":\"9692\",\"type\":\"Grid\"},{\"attributes\":{\"data_source\":{\"id\":\"9785\",\"type\":\"ColumnDataSource\"},\"glyph\":{\"id\":\"9787\",\"type\":\"Circle\"},\"hover_glyph\":null,\"muted_glyph\":null,\"nonselection_glyph\":{\"id\":\"9788\",\"type\":\"Circle\"},\"selection_glyph\":null,\"view\":{\"id\":\"9790\",\"type\":\"CDSView\"}},\"id\":\"9789\",\"type\":\"GlyphRenderer\"},{\"attributes\":{\"overlay\":{\"id\":\"9728\",\"type\":\"BoxAnnotation\"}},\"id\":\"9695\",\"type\":\"BoxZoomTool\"},{\"attributes\":{\"base\":60,\"mantissas\":[1,2,5,10,15,20,30],\"max_interval\":1800000.0,\"min_interval\":1000.0,\"num_minor_ticks\":0},\"id\":\"9717\",\"type\":\"AdaptiveTicker\"},{\"attributes\":{\"line_color\":\"#2222aa\",\"x\":{\"field\":\"x\"},\"y\":{\"field\":\"y\"}},\"id\":\"9732\",\"type\":\"Line\"},{\"attributes\":{\"line_color\":\"olivedrab\",\"line_dash\":[2,4,6,4],\"x\":{\"field\":\"x\"},\"y\":{\"field\":\"y\"}},\"id\":\"9758\",\"type\":\"Line\"},{\"attributes\":{\"months\":[0,6]},\"id\":\"9726\",\"type\":\"MonthsTicker\"},{\"attributes\":{\"source\":{\"id\":\"9731\",\"type\":\"ColumnDataSource\"}},\"id\":\"9735\",\"type\":\"CDSView\"}],\"root_ids\":[\"9672\"]},\"title\":\"Bokeh Application\",\"version\":\"1.3.4\"}};\n",
       "  var render_items = [{\"docid\":\"2a6f6cc1-44f4-4116-94b9-01ea64406e98\",\"notebook_comms_target\":\"10259\",\"roots\":{\"9672\":\"24d2d760-9acd-48ff-ac4a-488d5e0ba43c\"}}];\n",
       "  root.Bokeh.embed.embed_items_notebook(docs_json, render_items);\n",
       "\n",
       "  }\n",
       "  if (root.Bokeh !== undefined) {\n",
       "    embed_document(root);\n",
       "  } else {\n",
       "    var attempts = 0;\n",
       "    var timer = setInterval(function(root) {\n",
       "      if (root.Bokeh !== undefined) {\n",
       "        embed_document(root);\n",
       "        clearInterval(timer);\n",
       "      }\n",
       "      attempts++;\n",
       "      if (attempts > 100) {\n",
       "        console.log(\"Bokeh: ERROR: Unable to run BokehJS code because BokehJS library is missing\");\n",
       "        clearInterval(timer);\n",
       "      }\n",
       "    }, 10, root)\n",
       "  }\n",
       "})(window);"
      ],
      "application/vnd.bokehjs_exec.v0+json": ""
     },
     "metadata": {
      "application/vnd.bokehjs_exec.v0+json": {
       "id": "9672"
      }
     },
     "output_type": "display_data"
    }
   ],
   "source": [
    "build_figure(sample_data, 80)"
   ]
  },
  {
   "cell_type": "code",
   "execution_count": 47,
   "metadata": {},
   "outputs": [
    {
     "name": "stdout",
     "output_type": "stream",
     "text": [
      "[402]\n"
     ]
    }
   ],
   "source": [
    "sample_data['sensitivity']= 99\n",
    "result = detect(endpoint, subscription_key, sample_data)\n",
    "columns = {'expectedValues': result['expectedValues'], 'isAnomaly': result['isAnomaly'], 'isNegativeAnomaly': result['isNegativeAnomaly'],\n",
    "          'isPositiveAnomaly': result['isPositiveAnomaly'], 'upperMargins': result['upperMargins'], 'lowerMargins': result['lowerMargins'],\n",
    "          'timestamp': [parser.parse(x['timestamp']) for x in sample_data['series']], \n",
    "          'value': [x['value'] for x in sample_data['series']]}\n",
    "response = pd.DataFrame(data=columns)\n",
    "values = response['value']\n",
    "label = response['timestamp']\n",
    "anomalies = []\n",
    "anomaly_labels = []\n",
    "index = 0\n",
    "anomaly_indexes = []\n",
    "for anom in response['isAnomaly']:\n",
    "    if anom == True:\n",
    "        anomalies.append(values[index])\n",
    "        anomaly_labels.append(label[index])\n",
    "        anomaly_indexes.append(index)\n",
    "    index = index+1\n",
    "print(anomaly_indexes)"
   ]
  },
  {
   "cell_type": "code",
   "execution_count": 48,
   "metadata": {},
   "outputs": [
    {
     "name": "stdout",
     "output_type": "stream",
     "text": [
      "got one at  402\n"
     ]
    }
   ],
   "source": [
    "for i in range(len(sample_data['series'])):\n",
    "    if result['isAnomaly'][i]== True:\n",
    "        print('got one at ', i)\n"
   ]
  },
  {
   "cell_type": "markdown",
   "metadata": {},
   "source": [
    "### now do detect from window"
   ]
  },
  {
   "cell_type": "code",
   "execution_count": 50,
   "metadata": {},
   "outputs": [],
   "source": [
    "nendpoint = 'http://localhost:5000/anomalydetector/v1.0/timeseries/last/detect'"
   ]
  },
  {
   "cell_type": "markdown",
   "metadata": {},
   "source": [
    "## now do it with sliding window\n",
    "Now we will simulate \"real time\" anomaly detection.   To use the algorithm, at every \"time step\" we send a window of the last \"window_size\" values, but use the last value detecion mode."
   ]
  },
  {
   "cell_type": "code",
   "execution_count": 51,
   "metadata": {},
   "outputs": [],
   "source": [
    "import time"
   ]
  },
  {
   "cell_type": "code",
   "execution_count": 52,
   "metadata": {},
   "outputs": [
    {
     "name": "stdout",
     "output_type": "stream",
     "text": [
      "got a bad one at  604\n",
      "got a bad one at  650\n"
     ]
    }
   ],
   "source": [
    "window_size = 100\n",
    "anoms = []\n",
    "for i in range(200, len(series[:800])-window_size+1):\n",
    "    sample_data = {'granularity': 'minutely','series':series[i: i+window_size],  \"sensitivity\": 80}\n",
    "    result =  detect(nendpoint, subscription_key, sample_data)\n",
    "    isanom = result[\"isAnomaly\"]\n",
    "    #print(result)\n",
    "    if(isanom == True):\n",
    "        print('got a bad one at ', i+window_size-1)\n",
    "        anoms.append(i+window_size-3)\n",
    "    #print(isanom)\n",
    "    time.sleep(0.05)"
   ]
  },
  {
   "cell_type": "code",
   "execution_count": 53,
   "metadata": {},
   "outputs": [
    {
     "data": {
      "text/plain": [
       "[602, 648]"
      ]
     },
     "execution_count": 53,
     "metadata": {},
     "output_type": "execute_result"
    }
   ],
   "source": [
    "anoms"
   ]
  },
  {
   "cell_type": "code",
   "execution_count": 78,
   "metadata": {},
   "outputs": [],
   "source": [
    "def show_windows(data, bad_ones, sensitivity):\n",
    "    p = figure(x_axis_type='datetime', title=\"Batch Anomaly Detection ({0} Sensitvity)\".format(sensitivity), width=800, height=400)\n",
    "    columns = {'timestamp': [parser.parse(x['timestamp']) for x in data], \n",
    "          'value': [x['value'] for x in data]}\n",
    "    response = pd.DataFrame(data=columns)\n",
    "    #print(response)\n",
    "    values = response['value']\n",
    "    labels= response['timestamp']\n",
    "    anomalies = []\n",
    "    anomaly_indexes = bad_ones\n",
    "    anomaly_labels = []\n",
    "    for i in anomaly_indexes:\n",
    "        anomalies.append(values[i])\n",
    "        anomaly_labels.append(labels[i])\n",
    "    #print(anomalies)\n",
    "    p.line(labels, values, legend='Value', color=\"#2222aa\", line_width=1)\n",
    "    anom_source = ColumnDataSource(dict(x=anomaly_labels, y=anomalies))\n",
    "    p.circle('x', 'y', size=5, color='tomato', source=anom_source)\n",
    "    p.legend.border_line_width = 1\n",
    "    p.legend.background_fill_alpha  = 0.1\n",
    "    show(p, notebook_handle=True)    "
   ]
  },
  {
   "cell_type": "code",
   "execution_count": 57,
   "metadata": {
    "scrolled": true
   },
   "outputs": [
    {
     "data": {
      "text/html": [
       "\n",
       "\n",
       "\n",
       "\n",
       "\n",
       "\n",
       "  <div class=\"bk-root\" id=\"c33663d0-416a-43a9-886e-de7c0da0935e\" data-root-id=\"11104\"></div>\n"
      ]
     },
     "metadata": {},
     "output_type": "display_data"
    },
    {
     "data": {
      "application/javascript": [
       "(function(root) {\n",
       "  function embed_document(root) {\n",
       "    \n",
       "  var docs_json = {\"3b67164a-9853-475e-b50a-8d25cf27f079\":{\"roots\":{\"references\":[{\"attributes\":{\"below\":[{\"id\":\"11115\",\"type\":\"DatetimeAxis\"}],\"center\":[{\"id\":\"11119\",\"type\":\"Grid\"},{\"id\":\"11124\",\"type\":\"Grid\"},{\"id\":\"11161\",\"type\":\"Legend\"}],\"left\":[{\"id\":\"11120\",\"type\":\"LinearAxis\"}],\"plot_height\":300,\"plot_width\":800,\"renderers\":[{\"id\":\"11141\",\"type\":\"GlyphRenderer\"},{\"id\":\"11167\",\"type\":\"GlyphRenderer\"}],\"title\":{\"id\":\"11105\",\"type\":\"Title\"},\"toolbar\":{\"id\":\"11131\",\"type\":\"Toolbar\"},\"x_range\":{\"id\":\"11107\",\"type\":\"DataRange1d\"},\"x_scale\":{\"id\":\"11111\",\"type\":\"LinearScale\"},\"y_range\":{\"id\":\"11109\",\"type\":\"DataRange1d\"},\"y_scale\":{\"id\":\"11113\",\"type\":\"LinearScale\"}},\"id\":\"11104\",\"subtype\":\"Figure\",\"type\":\"Plot\"},{\"attributes\":{\"base\":60,\"mantissas\":[1,2,5,10,15,20,30],\"max_interval\":1800000.0,\"min_interval\":1000.0,\"num_minor_ticks\":0},\"id\":\"11149\",\"type\":\"AdaptiveTicker\"},{\"attributes\":{\"callback\":null},\"id\":\"11107\",\"type\":\"DataRange1d\"},{\"attributes\":{\"dimension\":1,\"ticker\":{\"id\":\"11121\",\"type\":\"BasicTicker\"}},\"id\":\"11124\",\"type\":\"Grid\"},{\"attributes\":{\"fill_color\":{\"value\":\"tomato\"},\"line_color\":{\"value\":\"tomato\"},\"size\":{\"units\":\"screen\",\"value\":5},\"x\":{\"field\":\"x\"},\"y\":{\"field\":\"y\"}},\"id\":\"11165\",\"type\":\"Circle\"},{\"attributes\":{\"callback\":null,\"data\":{\"x\":[1478772120000.0,1478774880000.0],\"y\":[8424.0,8285.0]},\"selected\":{\"id\":\"11679\",\"type\":\"Selection\"},\"selection_policy\":{\"id\":\"11678\",\"type\":\"UnionRenderers\"}},\"id\":\"11163\",\"type\":\"ColumnDataSource\"},{\"attributes\":{},\"id\":\"11678\",\"type\":\"UnionRenderers\"},{\"attributes\":{\"base\":24,\"mantissas\":[1,2,4,6,8,12],\"max_interval\":43200000.0,\"min_interval\":3600000.0,\"num_minor_ticks\":0},\"id\":\"11150\",\"type\":\"AdaptiveTicker\"},{\"attributes\":{\"days\":[1,2,3,4,5,6,7,8,9,10,11,12,13,14,15,16,17,18,19,20,21,22,23,24,25,26,27,28,29,30,31]},\"id\":\"11151\",\"type\":\"DaysTicker\"},{\"attributes\":{\"bottom_units\":\"screen\",\"fill_alpha\":{\"value\":0.5},\"fill_color\":{\"value\":\"lightgrey\"},\"left_units\":\"screen\",\"level\":\"overlay\",\"line_alpha\":{\"value\":1.0},\"line_color\":{\"value\":\"black\"},\"line_dash\":[4,4],\"line_width\":{\"value\":2},\"render_mode\":\"css\",\"right_units\":\"screen\",\"top_units\":\"screen\"},\"id\":\"11160\",\"type\":\"BoxAnnotation\"},{\"attributes\":{\"days\":[1,15]},\"id\":\"11154\",\"type\":\"DaysTicker\"},{\"attributes\":{\"months\":[0,4,8]},\"id\":\"11157\",\"type\":\"MonthsTicker\"},{\"attributes\":{\"background_fill_alpha\":{\"value\":0.1},\"items\":[{\"id\":\"11162\",\"type\":\"LegendItem\"}]},\"id\":\"11161\",\"type\":\"Legend\"},{\"attributes\":{\"overlay\":{\"id\":\"11160\",\"type\":\"BoxAnnotation\"}},\"id\":\"11127\",\"type\":\"BoxZoomTool\"},{\"attributes\":{},\"id\":\"11130\",\"type\":\"HelpTool\"},{\"attributes\":{\"months\":[0,2,4,6,8,10]},\"id\":\"11156\",\"type\":\"MonthsTicker\"},{\"attributes\":{\"months\":[0,6]},\"id\":\"11158\",\"type\":\"MonthsTicker\"},{\"attributes\":{\"fill_alpha\":{\"value\":0.1},\"fill_color\":{\"value\":\"#1f77b4\"},\"line_alpha\":{\"value\":0.1},\"line_color\":{\"value\":\"#1f77b4\"},\"size\":{\"units\":\"screen\",\"value\":5},\"x\":{\"field\":\"x\"},\"y\":{\"field\":\"y\"}},\"id\":\"11166\",\"type\":\"Circle\"},{\"attributes\":{},\"id\":\"11145\",\"type\":\"DatetimeTickFormatter\"},{\"attributes\":{\"months\":[0,1,2,3,4,5,6,7,8,9,10,11]},\"id\":\"11155\",\"type\":\"MonthsTicker\"},{\"attributes\":{\"data_source\":{\"id\":\"11163\",\"type\":\"ColumnDataSource\"},\"glyph\":{\"id\":\"11165\",\"type\":\"Circle\"},\"hover_glyph\":null,\"muted_glyph\":null,\"nonselection_glyph\":{\"id\":\"11166\",\"type\":\"Circle\"},\"selection_glyph\":null,\"view\":{\"id\":\"11168\",\"type\":\"CDSView\"}},\"id\":\"11167\",\"type\":\"GlyphRenderer\"},{\"attributes\":{\"num_minor_ticks\":5,\"tickers\":[{\"id\":\"11148\",\"type\":\"AdaptiveTicker\"},{\"id\":\"11149\",\"type\":\"AdaptiveTicker\"},{\"id\":\"11150\",\"type\":\"AdaptiveTicker\"},{\"id\":\"11151\",\"type\":\"DaysTicker\"},{\"id\":\"11152\",\"type\":\"DaysTicker\"},{\"id\":\"11153\",\"type\":\"DaysTicker\"},{\"id\":\"11154\",\"type\":\"DaysTicker\"},{\"id\":\"11155\",\"type\":\"MonthsTicker\"},{\"id\":\"11156\",\"type\":\"MonthsTicker\"},{\"id\":\"11157\",\"type\":\"MonthsTicker\"},{\"id\":\"11158\",\"type\":\"MonthsTicker\"},{\"id\":\"11159\",\"type\":\"YearsTicker\"}]},\"id\":\"11116\",\"type\":\"DatetimeTicker\"},{\"attributes\":{\"active_drag\":\"auto\",\"active_inspect\":\"auto\",\"active_multi\":null,\"active_scroll\":\"auto\",\"active_tap\":\"auto\",\"tools\":[{\"id\":\"11125\",\"type\":\"PanTool\"},{\"id\":\"11126\",\"type\":\"WheelZoomTool\"},{\"id\":\"11127\",\"type\":\"BoxZoomTool\"},{\"id\":\"11128\",\"type\":\"SaveTool\"},{\"id\":\"11129\",\"type\":\"ResetTool\"},{\"id\":\"11130\",\"type\":\"HelpTool\"}]},\"id\":\"11131\",\"type\":\"Toolbar\"},{\"attributes\":{\"formatter\":{\"id\":\"11147\",\"type\":\"BasicTickFormatter\"},\"ticker\":{\"id\":\"11121\",\"type\":\"BasicTicker\"}},\"id\":\"11120\",\"type\":\"LinearAxis\"},{\"attributes\":{\"source\":{\"id\":\"11163\",\"type\":\"ColumnDataSource\"}},\"id\":\"11168\",\"type\":\"CDSView\"},{\"attributes\":{\"line_alpha\":0.1,\"line_color\":\"#1f77b4\",\"x\":{\"field\":\"x\"},\"y\":{\"field\":\"y\"}},\"id\":\"11140\",\"type\":\"Line\"},{\"attributes\":{\"days\":[1,4,7,10,13,16,19,22,25,28]},\"id\":\"11152\",\"type\":\"DaysTicker\"},{\"attributes\":{},\"id\":\"11125\",\"type\":\"PanTool\"},{\"attributes\":{},\"id\":\"11126\",\"type\":\"WheelZoomTool\"},{\"attributes\":{\"line_color\":\"#2222aa\",\"x\":{\"field\":\"x\"},\"y\":{\"field\":\"y\"}},\"id\":\"11139\",\"type\":\"Line\"},{\"attributes\":{},\"id\":\"11129\",\"type\":\"ResetTool\"},{\"attributes\":{\"formatter\":{\"id\":\"11145\",\"type\":\"DatetimeTickFormatter\"},\"ticker\":{\"id\":\"11116\",\"type\":\"DatetimeTicker\"}},\"id\":\"11115\",\"type\":\"DatetimeAxis\"},{\"attributes\":{\"callback\":null},\"id\":\"11109\",\"type\":\"DataRange1d\"},{\"attributes\":{\"ticker\":{\"id\":\"11116\",\"type\":\"DatetimeTicker\"}},\"id\":\"11119\",\"type\":\"Grid\"},{\"attributes\":{\"callback\":null,\"data\":{\"x\":{\"__ndarray__\":\"AABAi7iEdUIAAOaZuIR1QgAAjKi4hHVCAAAyt7iEdUIAANjFuIR1QgAAftS4hHVCAAAk47iEdUIAAMrxuIR1QgAAcAC5hHVCAAAWD7mEdUIAALwduYR1QgAAYiy5hHVCAAAIO7mEdUIAAK5JuYR1QgAAVFi5hHVCAAD6ZrmEdUIAAKB1uYR1QgAARoS5hHVCAADskrmEdUIAAJKhuYR1QgAAOLC5hHVCAADevrmEdUIAAITNuYR1QgAAKty5hHVCAADQ6rmEdUIAAHb5uYR1QgAAHAi6hHVCAADCFrqEdUIAAGgluoR1QgAADjS6hHVCAAC0QrqEdUIAAFpRuoR1QgAAAGC6hHVCAACmbrqEdUIAAEx9uoR1QgAA8ou6hHVCAACYmrqEdUIAAD6puoR1QgAA5Le6hHVCAACKxrqEdUIAADDVuoR1QgAA1uO6hHVCAAB88rqEdUIAACIBu4R1QgAAyA+7hHVCAABuHruEdUIAABQtu4R1QgAAuju7hHVCAABgSruEdUIAAAZZu4R1QgAArGe7hHVCAABSdruEdUIAAPiEu4R1QgAAnpO7hHVCAABEoruEdUIAAOqwu4R1QgAAkL+7hHVCAAA2zruEdUIAANzcu4R1QgAAguu7hHVCAAAo+ruEdUIAAM4IvIR1QgAAdBe8hHVCAAAaJryEdUIAAMA0vIR1QgAAZkO8hHVCAAAMUryEdUIAALJgvIR1QgAAWG+8hHVCAAD+fbyEdUIAAKSMvIR1QgAASpu8hHVCAADwqbyEdUIAAJa4vIR1QgAAPMe8hHVCAADi1byEdUIAAIjkvIR1QgAALvO8hHVCAADUAb2EdUIAAHoQvYR1QgAAIB+9hHVCAADGLb2EdUIAAGw8vYR1QgAAEku9hHVCAAC4Wb2EdUIAAF5ovYR1QgAABHe9hHVCAACqhb2EdUIAAFCUvYR1QgAA9qK9hHVCAACcsb2EdUIAAELAvYR1QgAA6M69hHVCAACO3b2EdUIAADTsvYR1QgAA2vq9hHVCAACACb6EdUIAACYYvoR1QgAAzCa+hHVCAAByNb6EdUIAABhEvoR1QgAAvlK+hHVCAABkYb6EdUIAAApwvoR1QgAAsH6+hHVCAABWjb6EdUIAAPybvoR1QgAAoqq+hHVCAABIub6EdUIAAO7HvoR1QgAAlNa+hHVCAAA65b6EdUIAAODzvoR1QgAAhgK/hHVCAAAsEb+EdUIAANIfv4R1QgAAeC6/hHVCAAAePb+EdUIAAMRLv4R1QgAAalq/hHVCAAAQab+EdUIAALZ3v4R1QgAAXIa/hHVCAAAClb+EdUIAAKijv4R1QgAATrK/hHVCAAD0wL+EdUIAAJrPv4R1QgAAQN6/hHVCAADm7L+EdUIAAIz7v4R1QgAAMgrAhHVCAADYGMCEdUIAAH4nwIR1QgAAJDbAhHVCAADKRMCEdUIAAHBTwIR1QgAAFmLAhHVCAAC8cMCEdUIAAGJ/wIR1QgAACI7AhHVCAACunMCEdUIAAFSrwIR1QgAA+rnAhHVCAACgyMCEdUIAAEbXwIR1QgAA7OXAhHVCAACS9MCEdUIAADgDwYR1QgAA3hHBhHVCAACEIMGEdUIAACovwYR1QgAA0D3BhHVCAAB2TMGEdUIAABxbwYR1QgAAwmnBhHVCAABoeMGEdUIAAA6HwYR1QgAAtJXBhHVCAABapMGEdUIAAACzwYR1QgAApsHBhHVCAABM0MGEdUIAAPLewYR1QgAAmO3BhHVCAAA+/MGEdUIAAOQKwoR1QgAAihnChHVCAAAwKMKEdUIAANY2woR1QgAAfEXChHVCAAAiVMKEdUIAAMhiwoR1QgAAbnHChHVCAAAUgMKEdUIAALqOwoR1QgAAYJ3ChHVCAAAGrMKEdUIAAKy6woR1QgAAUsnChHVCAAD418KEdUIAAJ7mwoR1QgAARPXChHVCAADqA8OEdUIAAJASw4R1QgAANiHDhHVCAADcL8OEdUIAAII+w4R1QgAAKE3DhHVCAADOW8OEdUIAAHRqw4R1QgAAGnnDhHVCAADAh8OEdUIAAGaWw4R1QgAADKXDhHVCAACys8OEdUIAAFjCw4R1QgAA/tDDhHVCAACk38OEdUIAAEruw4R1QgAA8PzDhHVCAACWC8SEdUIAADwaxIR1QgAA4ijEhHVCAACIN8SEdUIAAC5GxIR1QgAA1FTEhHVCAAB6Y8SEdUIAACByxIR1QgAAxoDEhHVCAABsj8SEdUIAABKexIR1QgAAuKzEhHVCAABeu8SEdUIAAATKxIR1QgAAqtjEhHVCAABQ58SEdUIAAPb1xIR1QgAAnATFhHVCAABCE8WEdUIAAOghxYR1QgAAjjDFhHVCAAA0P8WEdUIAANpNxYR1QgAAgFzFhHVCAAAma8WEdUIAAMx5xYR1QgAAcojFhHVCAAAYl8WEdUIAAL6lxYR1QgAAZLTFhHVCAAAKw8WEdUIAALDRxYR1QgAAVuDFhHVCAAD87sWEdUIAAKL9xYR1QgAASAzGhHVCAADuGsaEdUIAAJQpxoR1QgAAOjjGhHVCAADgRsaEdUIAAIZVxoR1QgAALGTGhHVCAADScsaEdUIAAHiBxoR1QgAAHpDGhHVCAADEnsaEdUIAAGqtxoR1QgAAELzGhHVCAAC2ysaEdUIAAFzZxoR1QgAAAujGhHVCAACo9saEdUIAAE4Fx4R1QgAA9BPHhHVCAACaIseEdUIAAEAxx4R1QgAA5j/HhHVCAACMTseEdUIAADJdx4R1QgAA2GvHhHVCAAB+eseEdUIAACSJx4R1QgAAypfHhHVCAABwpseEdUIAABa1x4R1QgAAvMPHhHVCAABi0seEdUIAAAjhx4R1QgAAru/HhHVCAABU/seEdUIAAPoMyIR1QgAAoBvIhHVCAABGKsiEdUIAAOw4yIR1QgAAkkfIhHVCAAA4VsiEdUIAAN5kyIR1QgAAhHPIhHVCAAAqgsiEdUIAANCQyIR1QgAAdp/IhHVCAAAcrsiEdUIAAMK8yIR1QgAAaMvIhHVCAAAO2siEdUIAALToyIR1QgAAWvfIhHVCAAAABsmEdUIAAKYUyYR1QgAATCPJhHVCAADyMcmEdUIAAJhAyYR1QgAAPk/JhHVCAADkXcmEdUIAAIpsyYR1QgAAMHvJhHVCAADWicmEdUIAAHyYyYR1QgAAIqfJhHVCAADItcmEdUIAAG7EyYR1QgAAFNPJhHVCAAC64cmEdUIAAGDwyYR1QgAABv/JhHVCAACsDcqEdUIAAFIcyoR1QgAA+CrKhHVCAACeOcqEdUIAAERIyoR1QgAA6lbKhHVCAACQZcqEdUIAADZ0yoR1QgAA3ILKhHVCAACCkcqEdUIAACigyoR1QgAAzq7KhHVCAAB0vcqEdUIAABrMyoR1QgAAwNrKhHVCAABm6cqEdUIAAAz4yoR1QgAAsgbLhHVCAABYFcuEdUIAAP4jy4R1QgAApDLLhHVCAABKQcuEdUIAAPBPy4R1QgAAll7LhHVCAAA8bcuEdUIAAOJ7y4R1QgAAiIrLhHVCAAAumcuEdUIAANSny4R1QgAAerbLhHVCAAAgxcuEdUIAAMbTy4R1QgAAbOLLhHVCAAAS8cuEdUIAALj/y4R1QgAAXg7MhHVCAAAEHcyEdUIAAKorzIR1QgAAUDrMhHVCAAD2SMyEdUIAAJxXzIR1QgAAQmbMhHVCAADodMyEdUIAAI6DzIR1QgAANJLMhHVCAADaoMyEdUIAAICvzIR1QgAAJr7MhHVCAADMzMyEdUIAAHLbzIR1QgAAGOrMhHVCAAC++MyEdUIAAGQHzYR1QgAAChbNhHVCAACwJM2EdUIAAFYzzYR1QgAA/EHNhHVCAACiUM2EdUIAAEhfzYR1QgAA7m3NhHVCAACUfM2EdUIAADqLzYR1QgAA4JnNhHVCAACGqM2EdUIAACy3zYR1QgAA0sXNhHVCAAB41M2EdUIAAB7jzYR1QgAAxPHNhHVCAABqAM6EdUIAABAPzoR1QgAAth3OhHVCAABcLM6EdUIAAAI7zoR1QgAAqEnOhHVCAABOWM6EdUIAAPRmzoR1QgAAmnXOhHVCAABAhM6EdUIAAOaSzoR1QgAAjKHOhHVCAAAysM6EdUIAANi+zoR1QgAAfs3OhHVCAAAk3M6EdUIAAMrqzoR1QgAAcPnOhHVCAAAWCM+EdUIAALwWz4R1QgAAYiXPhHVCAAAINM+EdUIAAK5Cz4R1QgAAVFHPhHVCAAD6X8+EdUIAAKBuz4R1QgAARn3PhHVCAADsi8+EdUIAAJKaz4R1QgAAOKnPhHVCAADet8+EdUIAAITGz4R1QgAAKtXPhHVCAADQ48+EdUIAAHbyz4R1QgAAHAHQhHVCAADCD9CEdUIAAGge0IR1QgAADi3QhHVCAAC0O9CEdUIAAFpK0IR1QgAAAFnQhHVCAACmZ9CEdUIAAEx20IR1QgAA8oTQhHVCAACYk9CEdUIAAD6i0IR1QgAA5LDQhHVCAACKv9CEdUIAADDO0IR1QgAA1tzQhHVCAAB869CEdUIAACL60IR1QgAAyAjRhHVCAABuF9GEdUIAABQm0YR1QgAAujTRhHVCAABgQ9GEdUIAAAZS0YR1QgAArGDRhHVCAABSb9GEdUIAAPh90YR1QgAAnozRhHVCAABEm9GEdUIAAOqp0YR1QgAAkLjRhHVCAAA2x9GEdUIAANzV0YR1QgAAguTRhHVCAAAo89GEdUIAAM4B0oR1QgAAdBDShHVCAAAaH9KEdUIAAMAt0oR1QgAAZjzShHVCAAAMS9KEdUIAALJZ0oR1QgAAWGjShHVCAAD+dtKEdUIAAKSF0oR1QgAASpTShHVCAADwotKEdUIAAJax0oR1QgAAPMDShHVCAADiztKEdUIAAIjd0oR1QgAALuzShHVCAADU+tKEdUIAAHoJ04R1QgAAIBjThHVCAADGJtOEdUIAAGw104R1QgAAEkTThHVCAAC4UtOEdUIAAF5h04R1QgAABHDThHVCAACqftOEdUIAAFCN04R1QgAA9pvThHVCAACcqtOEdUIAAEK504R1QgAA6MfThHVCAACO1tOEdUIAADTl04R1QgAA2vPThHVCAACAAtSEdUIAACYR1IR1QgAAzB/UhHVCAAByLtSEdUIAABg91IR1QgAAvkvUhHVCAABkWtSEdUIAAApp1IR1QgAAsHfUhHVCAABWhtSEdUIAAPyU1IR1QgAAoqPUhHVCAABIstSEdUIAAO7A1IR1QgAAlM/UhHVCAAA63tSEdUIAAODs1IR1QgAAhvvUhHVCAAAsCtWEdUIAANIY1YR1QgAAeCfVhHVCAAAeNtWEdUIAAMRE1YR1QgAAalPVhHVCAAAQYtWEdUIAALZw1YR1QgAAXH/VhHVCAAACjtWEdUIAAKic1YR1QgAATqvVhHVCAAD0udWEdUIAAJrI1YR1QgAAQNfVhHVCAADm5dWEdUIAAIz01YR1QgAAMgPWhHVCAADYEdaEdUIAAH4g1oR1QgAAJC/WhHVCAADKPdaEdUIAAHBM1oR1QgAAFlvWhHVCAAC8adaEdUIAAGJ41oR1QgAACIfWhHVCAACuldaEdUIAAFSk1oR1QgAA+rLWhHVCAACgwdaEdUIAAEbQ1oR1QgAA7N7WhHVCAACS7daEdUIAADj81oR1QgAA3grXhHVCAACEGdeEdUIAACoo14R1QgAA0DbXhHVCAAB2RdeEdUIAABxU14R1QgAAwmLXhHVCAABocdeEdUIAAA6A14R1QgAAtI7XhHVCAABandeEdUIAAACs14R1QgAAprrXhHVCAABMydeEdUIAAPLX14R1QgAAmObXhHVCAAA+9deEdUIAAOQD2IR1QgAAihLYhHVCAAAwIdiEdUIAANYv2IR1QgAAfD7YhHVCAAAiTdiEdUIAAMhb2IR1QgAAbmrYhHVCAAAUediEdUIAALqH2IR1QgAAYJbYhHVCAAAGpdiEdUIAAKyz2IR1QgAAUsLYhHVCAAD40NiEdUIAAJ7f2IR1QgAARO7YhHVCAADq/NiEdUIAAJAL2YR1QgAANhrZhHVCAADcKNmEdUIAAII32YR1QgAAKEbZhHVCAADOVNmEdUIAAHRj2YR1QgAAGnLZhHVCAADAgNmEdUIAAGaP2YR1QgAADJ7ZhHVCAACyrNmEdUIAAFi72YR1QgAA/snZhHVCAACk2NmEdUIAAErn2YR1QgAA8PXZhHVCAACWBNqEdUIAADwT2oR1QgAA4iHahHVCAACIMNqEdUIAAC4/2oR1QgAA1E3ahHVCAAB6XNqEdUIAACBr2oR1QgAAxnnahHVCAABsiNqEdUIAABKX2oR1QgAAuKXahHVCAABetNqEdUIAAATD2oR1QgAAqtHahHVCAABQ4NqEdUIAAPbu2oR1QgAAnP3ahHVCAABCDNuEdUIAAOga24R1QgAAjinbhHVCAAA0ONuEdUIAANpG24R1QgAAgFXbhHVCAAAmZNuEdUIAAMxy24R1QgAAcoHbhHVCAAAYkNuEdUIAAL6e24R1QgAAZK3bhHVCAAAKvNuEdUIAALDK24R1QgAAVtnbhHVCAAD859uEdUIAAKL224R1QgAASAXchHVCAADuE9yEdUIAAJQi3IR1QgAAOjHchHVCAADgP9yEdUIAAIZO3IR1QgAALF3chHVCAADSa9yEdUIAAHh63IR1QgAAHonchHVCAADEl9yEdUIAAGqm3IR1QgAAELXchHVCAAC2w9yEdUIAAFzS3IR1QgAAAuHchHVCAACo79yEdUIAAE7+3IR1QgAA9AzdhHVCAACaG92EdUIAAEAq3YR1QgAA5jjdhHVCAACMR92EdUIAADJW3YR1QgAA2GTdhHVCAAB+c92EdUIAACSC3YR1QgAAypDdhHVCAABwn92EdUIAABau3YR1QgAAvLzdhHVCAABiy92EdUIAAAja3YR1QgAArujdhHVCAABU992EdUIAAPoF3oR1QgAAoBTehHVCAABGI96EdUIAAOwx3oR1QgAAkkDehHVCAAA4T96EdUIAAN5d3oR1QgAAhGzehHVCAAAqe96EdUIAANCJ3oR1QgAAdpjehHVCAAAcp96EdUIAAMK13oR1QgAAaMTehHVCAAAO096EdUIAALTh3oR1QgAAWvDehHVCAAAA/96EdUIAAKYN34R1QgAATBzfhHVCAADyKt+EdUIAAJg534R1QgAAPkjfhHVCAADkVt+EdUIAAIpl34R1QgAAMHTfhHVCAADWgt+EdUIAAHyR34R1QgAAIqDfhHVCAADIrt+EdUIAAG6934R1QgAAFMzfhHVCAAC62t+EdUIAAGDp34R1QgAABvjfhHVCAACsBuCEdUIAAFIV4IR1QgAA+CPghHVCAACeMuCEdUIAAERB4IR1QgAA6k/ghHVCAACQXuCEdUIAADZt4IR1QgAA3HvghHVCAACCiuCEdUIAACiZ4IR1QgAAzqfghHVCAAB0tuCEdUIAABrF4IR1QgAAwNPghHVCAABm4uCEdUIAAAzx4IR1QgAAsv/ghHVCAABYDuGEdUIAAP4c4YR1QgAApCvhhHVCAABKOuGEdUIAAPBI4YR1QgAAllfhhHVCAAA8ZuGEdUIAAOJ04YR1QgAAiIPhhHVCAAAukuGEdUIAANSg4YR1QgAAeq/hhHVCAAAgvuGEdUIAAMbM4YR1QgAAbNvhhHVCAAAS6uGEdUIAALj44YR1QgAAXgfihHVCAAAEFuKEdUIAAKok4oR1QgAAUDPihHVCAAD2QeKEdUIAAJxQ4oR1QgAAQl/ihHVCAADobeKEdUIAAI584oR1QgAANIvihHVCAADameKEdUIAAICo4oR1QgAAJrfihHVCAADMxeKEdUIAAHLU4oR1QgAAGOPihHVCAAC+8eKEdUIAAGQA44R1QgAACg/jhHVCAACwHeOEdUIAAFYs44R1QgAA/DrjhHVCAACiSeOEdUIAAEhY44R1QgAA7mbjhHVCAACUdeOEdUIAADqE44R1QgAA4JLjhHVCAACGoeOEdUIAACyw44R1QgAA0r7jhHVCAAB4zeOEdUIAAB7c44R1QgAAxOrjhHVCAABq+eOEdUIAABAI5IR1QgAAthbkhHVCAABcJeSEdUIAAAI05IR1QgAAqELkhHVCAABOUeSEdUIAAPRf5IR1QgAAmm7khHVCAABAfeSEdUIAAOaL5IR1QgAAjJrkhHVCAAAyqeSEdUIAANi35IR1QgAAfsbkhHVCAAAk1eSEdUIAAMrj5IR1QgAAcPLkhHVCAAAWAeWEdUIAALwP5YR1QgAAYh7lhHVCAAAILeWEdUIAAK475YR1QgAAVErlhHVCAAD6WOWEdUIAAKBn5YR1QgAARnblhHVCAADshOWEdUIAAJKT5YR1QgAAOKLlhHVCAADesOWEdUIAAIS/5YR1QgAAKs7lhHVCAADQ3OWEdUIAAHbr5YR1QgAAHPrlhHVCAADCCOaEdUIAAGgX5oR1QgAADibmhHVCAAC0NOaEdUIAAFpD5oR1Qg==\",\"dtype\":\"float64\",\"shape\":[800]},\"y\":{\"__ndarray__\":\"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\",\"dtype\":\"float64\",\"shape\":[800]}},\"selected\":{\"id\":\"11677\",\"type\":\"Selection\"},\"selection_policy\":{\"id\":\"11676\",\"type\":\"UnionRenderers\"}},\"id\":\"11138\",\"type\":\"ColumnDataSource\"},{\"attributes\":{},\"id\":\"11159\",\"type\":\"YearsTicker\"},{\"attributes\":{\"data_source\":{\"id\":\"11138\",\"type\":\"ColumnDataSource\"},\"glyph\":{\"id\":\"11139\",\"type\":\"Line\"},\"hover_glyph\":null,\"muted_glyph\":null,\"nonselection_glyph\":{\"id\":\"11140\",\"type\":\"Line\"},\"selection_glyph\":null,\"view\":{\"id\":\"11142\",\"type\":\"CDSView\"}},\"id\":\"11141\",\"type\":\"GlyphRenderer\"},{\"attributes\":{},\"id\":\"11128\",\"type\":\"SaveTool\"},{\"attributes\":{\"label\":{\"value\":\"Value\"},\"renderers\":[{\"id\":\"11141\",\"type\":\"GlyphRenderer\"}]},\"id\":\"11162\",\"type\":\"LegendItem\"},{\"attributes\":{},\"id\":\"11147\",\"type\":\"BasicTickFormatter\"},{\"attributes\":{\"text\":\"Batch Anomaly Detection (80 Sensitvity)\"},\"id\":\"11105\",\"type\":\"Title\"},{\"attributes\":{},\"id\":\"11121\",\"type\":\"BasicTicker\"},{\"attributes\":{\"days\":[1,8,15,22]},\"id\":\"11153\",\"type\":\"DaysTicker\"},{\"attributes\":{},\"id\":\"11676\",\"type\":\"UnionRenderers\"},{\"attributes\":{\"source\":{\"id\":\"11138\",\"type\":\"ColumnDataSource\"}},\"id\":\"11142\",\"type\":\"CDSView\"},{\"attributes\":{},\"id\":\"11677\",\"type\":\"Selection\"},{\"attributes\":{},\"id\":\"11679\",\"type\":\"Selection\"},{\"attributes\":{\"mantissas\":[1,2,5],\"max_interval\":500.0,\"num_minor_ticks\":0},\"id\":\"11148\",\"type\":\"AdaptiveTicker\"},{\"attributes\":{},\"id\":\"11111\",\"type\":\"LinearScale\"},{\"attributes\":{},\"id\":\"11113\",\"type\":\"LinearScale\"}],\"root_ids\":[\"11104\"]},\"title\":\"Bokeh Application\",\"version\":\"1.3.4\"}};\n",
       "  var render_items = [{\"docid\":\"3b67164a-9853-475e-b50a-8d25cf27f079\",\"notebook_comms_target\":\"11681\",\"roots\":{\"11104\":\"c33663d0-416a-43a9-886e-de7c0da0935e\"}}];\n",
       "  root.Bokeh.embed.embed_items_notebook(docs_json, render_items);\n",
       "\n",
       "  }\n",
       "  if (root.Bokeh !== undefined) {\n",
       "    embed_document(root);\n",
       "  } else {\n",
       "    var attempts = 0;\n",
       "    var timer = setInterval(function(root) {\n",
       "      if (root.Bokeh !== undefined) {\n",
       "        embed_document(root);\n",
       "        clearInterval(timer);\n",
       "      }\n",
       "      attempts++;\n",
       "      if (attempts > 100) {\n",
       "        console.log(\"Bokeh: ERROR: Unable to run BokehJS code because BokehJS library is missing\");\n",
       "        clearInterval(timer);\n",
       "      }\n",
       "    }, 10, root)\n",
       "  }\n",
       "})(window);"
      ],
      "application/vnd.bokehjs_exec.v0+json": ""
     },
     "metadata": {
      "application/vnd.bokehjs_exec.v0+json": {
       "id": "11104"
      }
     },
     "output_type": "display_data"
    }
   ],
   "source": [
    "show_windows(series[:800], anoms, 80)"
   ]
  },
  {
   "cell_type": "markdown",
   "metadata": {},
   "source": [
    "### now do water geos\n",
    "This is from the Global Summary of the Day (GSOD) weather from the National Oceanographic and Atmospheric Administration (NOAA) for 9,000 weather stations between 1929 and 2016.  In particular, we will look at a sensor that briefly failed and we will see how well the anomaly detectors spot the problem"
   ]
  },
  {
   "cell_type": "code",
   "execution_count": 61,
   "metadata": {},
   "outputs": [],
   "source": [
    "SKAJIT = './skajit.csv'"
   ]
  },
  {
   "cell_type": "code",
   "execution_count": null,
   "metadata": {},
   "outputs": [],
   "source": []
  },
  {
   "cell_type": "code",
   "execution_count": 62,
   "metadata": {
    "scrolled": true
   },
   "outputs": [
    {
     "name": "stdout",
     "output_type": "stream",
     "text": [
      "365\n"
     ]
    }
   ],
   "source": [
    "data = load_data_from_csv(SKAJIT )\n",
    "data['timestamp'] = pd.to_datetime(data['timestamp'])\n",
    "print(len(data['timestamp']))"
   ]
  },
  {
   "cell_type": "code",
   "execution_count": 63,
   "metadata": {},
   "outputs": [],
   "source": [
    "def extract_all2(row):\n",
    "    return {'timestamp': str(row['timestamp']), 'value': row['temperature']}\n"
   ]
  },
  {
   "cell_type": "code",
   "execution_count": 64,
   "metadata": {},
   "outputs": [
    {
     "data": {
      "text/html": [
       "<div>\n",
       "<style scoped>\n",
       "    .dataframe tbody tr th:only-of-type {\n",
       "        vertical-align: middle;\n",
       "    }\n",
       "\n",
       "    .dataframe tbody tr th {\n",
       "        vertical-align: top;\n",
       "    }\n",
       "\n",
       "    .dataframe thead th {\n",
       "        text-align: right;\n",
       "    }\n",
       "</style>\n",
       "<table border=\"1\" class=\"dataframe\">\n",
       "  <thead>\n",
       "    <tr style=\"text-align: right;\">\n",
       "      <th></th>\n",
       "      <th>temperature</th>\n",
       "      <th>timestamp</th>\n",
       "    </tr>\n",
       "  </thead>\n",
       "  <tbody>\n",
       "    <tr>\n",
       "      <td>0</td>\n",
       "      <td>37.4</td>\n",
       "      <td>2015-01-01</td>\n",
       "    </tr>\n",
       "    <tr>\n",
       "      <td>1</td>\n",
       "      <td>37.4</td>\n",
       "      <td>2015-01-02</td>\n",
       "    </tr>\n",
       "    <tr>\n",
       "      <td>2</td>\n",
       "      <td>39.2</td>\n",
       "      <td>2015-01-03</td>\n",
       "    </tr>\n",
       "    <tr>\n",
       "      <td>3</td>\n",
       "      <td>46.4</td>\n",
       "      <td>2015-01-04</td>\n",
       "    </tr>\n",
       "    <tr>\n",
       "      <td>4</td>\n",
       "      <td>51.8</td>\n",
       "      <td>2015-01-05</td>\n",
       "    </tr>\n",
       "    <tr>\n",
       "      <td>...</td>\n",
       "      <td>...</td>\n",
       "      <td>...</td>\n",
       "    </tr>\n",
       "    <tr>\n",
       "      <td>360</td>\n",
       "      <td>41.0</td>\n",
       "      <td>2015-12-27</td>\n",
       "    </tr>\n",
       "    <tr>\n",
       "      <td>361</td>\n",
       "      <td>41.0</td>\n",
       "      <td>2015-12-28</td>\n",
       "    </tr>\n",
       "    <tr>\n",
       "      <td>362</td>\n",
       "      <td>41.0</td>\n",
       "      <td>2015-12-29</td>\n",
       "    </tr>\n",
       "    <tr>\n",
       "      <td>363</td>\n",
       "      <td>37.4</td>\n",
       "      <td>2015-12-30</td>\n",
       "    </tr>\n",
       "    <tr>\n",
       "      <td>364</td>\n",
       "      <td>32.0</td>\n",
       "      <td>2015-12-31</td>\n",
       "    </tr>\n",
       "  </tbody>\n",
       "</table>\n",
       "<p>365 rows × 2 columns</p>\n",
       "</div>"
      ],
      "text/plain": [
       "     temperature  timestamp\n",
       "0           37.4 2015-01-01\n",
       "1           37.4 2015-01-02\n",
       "2           39.2 2015-01-03\n",
       "3           46.4 2015-01-04\n",
       "4           51.8 2015-01-05\n",
       "..           ...        ...\n",
       "360         41.0 2015-12-27\n",
       "361         41.0 2015-12-28\n",
       "362         41.0 2015-12-29\n",
       "363         37.4 2015-12-30\n",
       "364         32.0 2015-12-31\n",
       "\n",
       "[365 rows x 2 columns]"
      ]
     },
     "execution_count": 64,
     "metadata": {},
     "output_type": "execute_result"
    }
   ],
   "source": [
    "data"
   ]
  },
  {
   "cell_type": "code",
   "execution_count": 65,
   "metadata": {},
   "outputs": [],
   "source": [
    "w = data.apply(extract_all2, axis=1)"
   ]
  },
  {
   "cell_type": "code",
   "execution_count": 66,
   "metadata": {},
   "outputs": [],
   "source": [
    "series = []\n",
    "for x in w:\n",
    "    series.append(x)\n",
    "sample_data = {'granularity': 'daily','series':series}"
   ]
  },
  {
   "cell_type": "code",
   "execution_count": 119,
   "metadata": {},
   "outputs": [
    {
     "name": "stdout",
     "output_type": "stream",
     "text": [
      "got a bad one at  116\n",
      "got a bad one at  259\n",
      "got a bad one at  260\n",
      "got a bad one at  261\n",
      "got a bad one at  268\n",
      "got a bad one at  269\n",
      "got a bad one at  334\n",
      "got a bad one at  335\n",
      "got a bad one at  336\n"
     ]
    }
   ],
   "source": [
    "window_size = 15\n",
    "anoms = []\n",
    "for i in range( len(series)-window_size+1):\n",
    "    sample = {'granularity': 'daily','series':series[i: i+window_size],  \"sensitivity\": 80}\n",
    "    result =  detect(nendpoint, subscription_key, sample)\n",
    "    isanom = result[\"isAnomaly\"]\n",
    "    #print(result)\n",
    "    if(isanom == True):\n",
    "        print('got a bad one at ', i+window_size-1)\n",
    "        anoms.append(i+window_size-3)\n",
    "    #print(isanom)\n",
    "    time.sleep(0.01)"
   ]
  },
  {
   "cell_type": "markdown",
   "metadata": {},
   "source": [
    "We first plot the full data stream using the entire mode."
   ]
  },
  {
   "cell_type": "code",
   "execution_count": 120,
   "metadata": {},
   "outputs": [
    {
     "name": "stdout",
     "output_type": "stream",
     "text": [
      "[259, 260, 261, 262, 263, 264, 265, 266, 267]\n"
     ]
    },
    {
     "data": {
      "text/html": [
       "\n",
       "\n",
       "\n",
       "\n",
       "\n",
       "\n",
       "  <div class=\"bk-root\" id=\"3226ac1c-53b4-456f-a420-f10d194eb9ad\" data-root-id=\"8966\"></div>\n"
      ]
     },
     "metadata": {},
     "output_type": "display_data"
    },
    {
     "data": {
      "application/javascript": [
       "(function(root) {\n",
       "  function embed_document(root) {\n",
       "    \n",
       "  var docs_json = {\"f4637f9f-0b20-47f8-9715-fa7d8d7f37f8\":{\"roots\":{\"references\":[{\"attributes\":{\"below\":[{\"id\":\"8977\",\"type\":\"DatetimeAxis\"}],\"center\":[{\"id\":\"8981\",\"type\":\"Grid\"},{\"id\":\"8986\",\"type\":\"Grid\"},{\"id\":\"9023\",\"type\":\"Legend\"}],\"left\":[{\"id\":\"8982\",\"type\":\"LinearAxis\"}],\"plot_width\":800,\"renderers\":[{\"id\":\"9003\",\"type\":\"GlyphRenderer\"},{\"id\":\"9028\",\"type\":\"GlyphRenderer\"},{\"id\":\"9054\",\"type\":\"GlyphRenderer\"},{\"id\":\"9083\",\"type\":\"GlyphRenderer\"}],\"title\":{\"id\":\"8967\",\"type\":\"Title\"},\"toolbar\":{\"id\":\"8993\",\"type\":\"Toolbar\"},\"x_range\":{\"id\":\"8969\",\"type\":\"DataRange1d\"},\"x_scale\":{\"id\":\"8973\",\"type\":\"LinearScale\"},\"y_range\":{\"id\":\"8971\",\"type\":\"DataRange1d\"},\"y_scale\":{\"id\":\"8975\",\"type\":\"LinearScale\"}},\"id\":\"8966\",\"subtype\":\"Figure\",\"type\":\"Plot\"},{\"attributes\":{\"dimension\":1,\"ticker\":{\"id\":\"8983\",\"type\":\"BasicTicker\"}},\"id\":\"8986\",\"type\":\"Grid\"},{\"attributes\":{\"formatter\":{\"id\":\"9007\",\"type\":\"BasicTickFormatter\"},\"ticker\":{\"id\":\"8983\",\"type\":\"BasicTicker\"}},\"id\":\"8982\",\"type\":\"LinearAxis\"},{\"attributes\":{\"label\":{\"value\":\"Value\"},\"renderers\":[{\"id\":\"9028\",\"type\":\"GlyphRenderer\"}]},\"id\":\"9050\",\"type\":\"LegendItem\"},{\"attributes\":{},\"id\":\"9009\",\"type\":\"DatetimeTickFormatter\"},{\"attributes\":{\"callback\":null,\"data\":{\"x\":{\"__ndarray__\":\"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\",\"dtype\":\"float64\",\"shape\":[730]},\"y\":{\"__ndarray__\":\"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\",\"dtype\":\"float64\",\"shape\":[730]}},\"selected\":{\"id\":\"9047\",\"type\":\"Selection\"},\"selection_policy\":{\"id\":\"9048\",\"type\":\"UnionRenderers\"}},\"id\":\"9000\",\"type\":\"ColumnDataSource\"},{\"attributes\":{},\"id\":\"9048\",\"type\":\"UnionRenderers\"},{\"attributes\":{\"data_source\":{\"id\":\"9000\",\"type\":\"ColumnDataSource\"},\"glyph\":{\"id\":\"9001\",\"type\":\"Patch\"},\"hover_glyph\":null,\"muted_glyph\":null,\"nonselection_glyph\":{\"id\":\"9002\",\"type\":\"Patch\"},\"selection_glyph\":null,\"view\":{\"id\":\"9004\",\"type\":\"CDSView\"}},\"id\":\"9003\",\"type\":\"GlyphRenderer\"},{\"attributes\":{\"callback\":null},\"id\":\"8971\",\"type\":\"DataRange1d\"},{\"attributes\":{},\"id\":\"8973\",\"type\":\"LinearScale\"},{\"attributes\":{\"fill_alpha\":0.5,\"fill_color\":\"#bdd7e7\",\"line_color\":\"#bdd7e7\",\"x\":{\"field\":\"x\"},\"y\":{\"field\":\"y\"}},\"id\":\"9001\",\"type\":\"Patch\"},{\"attributes\":{\"background_fill_alpha\":{\"value\":0.1},\"items\":[{\"id\":\"9024\",\"type\":\"LegendItem\"},{\"id\":\"9050\",\"type\":\"LegendItem\"},{\"id\":\"9078\",\"type\":\"LegendItem\"}]},\"id\":\"9023\",\"type\":\"Legend\"},{\"attributes\":{\"formatter\":{\"id\":\"9009\",\"type\":\"DatetimeTickFormatter\"},\"ticker\":{\"id\":\"8978\",\"type\":\"DatetimeTicker\"}},\"id\":\"8977\",\"type\":\"DatetimeAxis\"},{\"attributes\":{\"callback\":null,\"data\":{\"x\":{\"__ndarray__\":\"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\",\"dtype\":\"float64\",\"shape\":[365]},\"y\":{\"__ndarray__\":\"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\",\"dtype\":\"float64\",\"shape\":[365]}},\"selected\":{\"id\":\"9075\",\"type\":\"Selection\"},\"selection_policy\":{\"id\":\"9076\",\"type\":\"UnionRenderers\"}},\"id\":\"9025\",\"type\":\"ColumnDataSource\"},{\"attributes\":{},\"id\":\"9525\",\"type\":\"UnionRenderers\"},{\"attributes\":{\"source\":{\"id\":\"9051\",\"type\":\"ColumnDataSource\"}},\"id\":\"9055\",\"type\":\"CDSView\"},{\"attributes\":{\"months\":[0,1,2,3,4,5,6,7,8,9,10,11]},\"id\":\"9017\",\"type\":\"MonthsTicker\"},{\"attributes\":{},\"id\":\"9047\",\"type\":\"Selection\"},{\"attributes\":{\"callback\":null,\"data\":{\"x\":{\"__ndarray__\":\"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\",\"dtype\":\"float64\",\"shape\":[365]},\"y\":{\"__ndarray__\":\"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\",\"dtype\":\"float64\",\"shape\":[365]}},\"selected\":{\"id\":\"9522\",\"type\":\"Selection\"},\"selection_policy\":{\"id\":\"9523\",\"type\":\"UnionRenderers\"}},\"id\":\"9051\",\"type\":\"ColumnDataSource\"},{\"attributes\":{},\"id\":\"8987\",\"type\":\"PanTool\"},{\"attributes\":{},\"id\":\"9523\",\"type\":\"UnionRenderers\"},{\"attributes\":{},\"id\":\"9524\",\"type\":\"Selection\"},{\"attributes\":{\"text\":\"Batch Anomaly Detection (80 Sensitvity)\"},\"id\":\"8967\",\"type\":\"Title\"},{\"attributes\":{\"fill_alpha\":0.1,\"fill_color\":\"#1f77b4\",\"line_alpha\":0.1,\"line_color\":\"#1f77b4\",\"x\":{\"field\":\"x\"},\"y\":{\"field\":\"y\"}},\"id\":\"9002\",\"type\":\"Patch\"},{\"attributes\":{\"source\":{\"id\":\"9025\",\"type\":\"ColumnDataSource\"}},\"id\":\"9029\",\"type\":\"CDSView\"},{\"attributes\":{\"months\":[0,2,4,6,8,10]},\"id\":\"9018\",\"type\":\"MonthsTicker\"},{\"attributes\":{},\"id\":\"8975\",\"type\":\"LinearScale\"},{\"attributes\":{\"base\":24,\"mantissas\":[1,2,4,6,8,12],\"max_interval\":43200000.0,\"min_interval\":3600000.0,\"num_minor_ticks\":0},\"id\":\"9012\",\"type\":\"AdaptiveTicker\"},{\"attributes\":{\"days\":[1,15]},\"id\":\"9016\",\"type\":\"DaysTicker\"},{\"attributes\":{},\"id\":\"9021\",\"type\":\"YearsTicker\"},{\"attributes\":{\"data_source\":{\"id\":\"9025\",\"type\":\"ColumnDataSource\"},\"glyph\":{\"id\":\"9026\",\"type\":\"Line\"},\"hover_glyph\":null,\"muted_glyph\":null,\"nonselection_glyph\":{\"id\":\"9027\",\"type\":\"Line\"},\"selection_glyph\":null,\"view\":{\"id\":\"9029\",\"type\":\"CDSView\"}},\"id\":\"9028\",\"type\":\"GlyphRenderer\"},{\"attributes\":{},\"id\":\"9076\",\"type\":\"UnionRenderers\"},{\"attributes\":{\"callback\":null,\"data\":{\"x\":[1442448000000.0,1442534400000.0,1442620800000.0,1442707200000.0,1442793600000.0,1442880000000.0,1442966400000.0,1443052800000.0,1443139200000.0],\"y\":[107.6,108.0,108.0,108.0,108.0,108.0,108.0,111.2,111.2]},\"selected\":{\"id\":\"9524\",\"type\":\"Selection\"},\"selection_policy\":{\"id\":\"9525\",\"type\":\"UnionRenderers\"}},\"id\":\"9079\",\"type\":\"ColumnDataSource\"},{\"attributes\":{},\"id\":\"8991\",\"type\":\"ResetTool\"},{\"attributes\":{\"bottom_units\":\"screen\",\"fill_alpha\":{\"value\":0.5},\"fill_color\":{\"value\":\"lightgrey\"},\"left_units\":\"screen\",\"level\":\"overlay\",\"line_alpha\":{\"value\":1.0},\"line_color\":{\"value\":\"black\"},\"line_dash\":[4,4],\"line_width\":{\"value\":2},\"render_mode\":\"css\",\"right_units\":\"screen\",\"top_units\":\"screen\"},\"id\":\"9022\",\"type\":\"BoxAnnotation\"},{\"attributes\":{},\"id\":\"8983\",\"type\":\"BasicTicker\"},{\"attributes\":{\"label\":{\"value\":\"Boundary\"},\"renderers\":[{\"id\":\"9003\",\"type\":\"GlyphRenderer\"}]},\"id\":\"9024\",\"type\":\"LegendItem\"},{\"attributes\":{\"line_color\":\"#2222aa\",\"x\":{\"field\":\"x\"},\"y\":{\"field\":\"y\"}},\"id\":\"9026\",\"type\":\"Line\"},{\"attributes\":{\"line_color\":\"olivedrab\",\"line_dash\":[2,4,6,4],\"x\":{\"field\":\"x\"},\"y\":{\"field\":\"y\"}},\"id\":\"9052\",\"type\":\"Line\"},{\"attributes\":{\"fill_color\":{\"value\":\"tomato\"},\"line_color\":{\"value\":\"tomato\"},\"size\":{\"units\":\"screen\",\"value\":5},\"x\":{\"field\":\"x\"},\"y\":{\"field\":\"y\"}},\"id\":\"9081\",\"type\":\"Circle\"},{\"attributes\":{},\"id\":\"8990\",\"type\":\"SaveTool\"},{\"attributes\":{\"line_alpha\":0.1,\"line_color\":\"#1f77b4\",\"line_dash\":[2,4,6,4],\"x\":{\"field\":\"x\"},\"y\":{\"field\":\"y\"}},\"id\":\"9053\",\"type\":\"Line\"},{\"attributes\":{\"months\":[0,4,8]},\"id\":\"9019\",\"type\":\"MonthsTicker\"},{\"attributes\":{\"data_source\":{\"id\":\"9079\",\"type\":\"ColumnDataSource\"},\"glyph\":{\"id\":\"9081\",\"type\":\"Circle\"},\"hover_glyph\":null,\"muted_glyph\":null,\"nonselection_glyph\":{\"id\":\"9082\",\"type\":\"Circle\"},\"selection_glyph\":null,\"view\":{\"id\":\"9084\",\"type\":\"CDSView\"}},\"id\":\"9083\",\"type\":\"GlyphRenderer\"},{\"attributes\":{},\"id\":\"8992\",\"type\":\"HelpTool\"},{\"attributes\":{\"fill_alpha\":{\"value\":0.1},\"fill_color\":{\"value\":\"#1f77b4\"},\"line_alpha\":{\"value\":0.1},\"line_color\":{\"value\":\"#1f77b4\"},\"size\":{\"units\":\"screen\",\"value\":5},\"x\":{\"field\":\"x\"},\"y\":{\"field\":\"y\"}},\"id\":\"9082\",\"type\":\"Circle\"},{\"attributes\":{\"ticker\":{\"id\":\"8978\",\"type\":\"DatetimeTicker\"}},\"id\":\"8981\",\"type\":\"Grid\"},{\"attributes\":{\"mantissas\":[1,2,5],\"max_interval\":500.0,\"num_minor_ticks\":0},\"id\":\"9010\",\"type\":\"AdaptiveTicker\"},{\"attributes\":{},\"id\":\"9075\",\"type\":\"Selection\"},{\"attributes\":{},\"id\":\"8988\",\"type\":\"WheelZoomTool\"},{\"attributes\":{\"days\":[1,8,15,22]},\"id\":\"9015\",\"type\":\"DaysTicker\"},{\"attributes\":{\"num_minor_ticks\":5,\"tickers\":[{\"id\":\"9010\",\"type\":\"AdaptiveTicker\"},{\"id\":\"9011\",\"type\":\"AdaptiveTicker\"},{\"id\":\"9012\",\"type\":\"AdaptiveTicker\"},{\"id\":\"9013\",\"type\":\"DaysTicker\"},{\"id\":\"9014\",\"type\":\"DaysTicker\"},{\"id\":\"9015\",\"type\":\"DaysTicker\"},{\"id\":\"9016\",\"type\":\"DaysTicker\"},{\"id\":\"9017\",\"type\":\"MonthsTicker\"},{\"id\":\"9018\",\"type\":\"MonthsTicker\"},{\"id\":\"9019\",\"type\":\"MonthsTicker\"},{\"id\":\"9020\",\"type\":\"MonthsTicker\"},{\"id\":\"9021\",\"type\":\"YearsTicker\"}]},\"id\":\"8978\",\"type\":\"DatetimeTicker\"},{\"attributes\":{\"line_alpha\":0.1,\"line_color\":\"#1f77b4\",\"x\":{\"field\":\"x\"},\"y\":{\"field\":\"y\"}},\"id\":\"9027\",\"type\":\"Line\"},{\"attributes\":{\"overlay\":{\"id\":\"9022\",\"type\":\"BoxAnnotation\"}},\"id\":\"8989\",\"type\":\"BoxZoomTool\"},{\"attributes\":{\"source\":{\"id\":\"9000\",\"type\":\"ColumnDataSource\"}},\"id\":\"9004\",\"type\":\"CDSView\"},{\"attributes\":{},\"id\":\"9522\",\"type\":\"Selection\"},{\"attributes\":{\"data_source\":{\"id\":\"9051\",\"type\":\"ColumnDataSource\"},\"glyph\":{\"id\":\"9052\",\"type\":\"Line\"},\"hover_glyph\":null,\"muted_glyph\":null,\"nonselection_glyph\":{\"id\":\"9053\",\"type\":\"Line\"},\"selection_glyph\":null,\"view\":{\"id\":\"9055\",\"type\":\"CDSView\"}},\"id\":\"9054\",\"type\":\"GlyphRenderer\"},{\"attributes\":{\"callback\":null},\"id\":\"8969\",\"type\":\"DataRange1d\"},{\"attributes\":{},\"id\":\"9007\",\"type\":\"BasicTickFormatter\"},{\"attributes\":{\"base\":60,\"mantissas\":[1,2,5,10,15,20,30],\"max_interval\":1800000.0,\"min_interval\":1000.0,\"num_minor_ticks\":0},\"id\":\"9011\",\"type\":\"AdaptiveTicker\"},{\"attributes\":{\"months\":[0,6]},\"id\":\"9020\",\"type\":\"MonthsTicker\"},{\"attributes\":{\"source\":{\"id\":\"9079\",\"type\":\"ColumnDataSource\"}},\"id\":\"9084\",\"type\":\"CDSView\"},{\"attributes\":{\"days\":[1,2,3,4,5,6,7,8,9,10,11,12,13,14,15,16,17,18,19,20,21,22,23,24,25,26,27,28,29,30,31]},\"id\":\"9013\",\"type\":\"DaysTicker\"},{\"attributes\":{\"days\":[1,4,7,10,13,16,19,22,25,28]},\"id\":\"9014\",\"type\":\"DaysTicker\"},{\"attributes\":{\"label\":{\"value\":\"ExpectedValue\"},\"renderers\":[{\"id\":\"9054\",\"type\":\"GlyphRenderer\"}]},\"id\":\"9078\",\"type\":\"LegendItem\"},{\"attributes\":{\"active_drag\":\"auto\",\"active_inspect\":\"auto\",\"active_multi\":null,\"active_scroll\":\"auto\",\"active_tap\":\"auto\",\"tools\":[{\"id\":\"8987\",\"type\":\"PanTool\"},{\"id\":\"8988\",\"type\":\"WheelZoomTool\"},{\"id\":\"8989\",\"type\":\"BoxZoomTool\"},{\"id\":\"8990\",\"type\":\"SaveTool\"},{\"id\":\"8991\",\"type\":\"ResetTool\"},{\"id\":\"8992\",\"type\":\"HelpTool\"}]},\"id\":\"8993\",\"type\":\"Toolbar\"}],\"root_ids\":[\"8966\"]},\"title\":\"Bokeh Application\",\"version\":\"1.3.4\"}};\n",
       "  var render_items = [{\"docid\":\"f4637f9f-0b20-47f8-9715-fa7d8d7f37f8\",\"notebook_comms_target\":\"9527\",\"roots\":{\"8966\":\"3226ac1c-53b4-456f-a420-f10d194eb9ad\"}}];\n",
       "  root.Bokeh.embed.embed_items_notebook(docs_json, render_items);\n",
       "\n",
       "  }\n",
       "  if (root.Bokeh !== undefined) {\n",
       "    embed_document(root);\n",
       "  } else {\n",
       "    var attempts = 0;\n",
       "    var timer = setInterval(function(root) {\n",
       "      if (root.Bokeh !== undefined) {\n",
       "        embed_document(root);\n",
       "        clearInterval(timer);\n",
       "      }\n",
       "      attempts++;\n",
       "      if (attempts > 100) {\n",
       "        console.log(\"Bokeh: ERROR: Unable to run BokehJS code because BokehJS library is missing\");\n",
       "        clearInterval(timer);\n",
       "      }\n",
       "    }, 10, root)\n",
       "  }\n",
       "})(window);"
      ],
      "application/vnd.bokehjs_exec.v0+json": ""
     },
     "metadata": {
      "application/vnd.bokehjs_exec.v0+json": {
       "id": "8966"
      }
     },
     "output_type": "display_data"
    }
   ],
   "source": [
    "build_figure(sample_data, 80)"
   ]
  },
  {
   "cell_type": "markdown",
   "metadata": {},
   "source": [
    "Now we show the graph for the values from the sliding window."
   ]
  },
  {
   "cell_type": "code",
   "execution_count": 121,
   "metadata": {},
   "outputs": [
    {
     "name": "stdout",
     "output_type": "stream",
     "text": [
      "     timestamp  value\n",
      "0   2015-01-01   37.4\n",
      "1   2015-01-02   37.4\n",
      "2   2015-01-03   39.2\n",
      "3   2015-01-04   46.4\n",
      "4   2015-01-05   51.8\n",
      "..         ...    ...\n",
      "360 2015-12-27   41.0\n",
      "361 2015-12-28   41.0\n",
      "362 2015-12-29   41.0\n",
      "363 2015-12-30   37.4\n",
      "364 2015-12-31   32.0\n",
      "\n",
      "[365 rows x 2 columns]\n",
      "[53.6, 64.4, 82.4, 107.6, 111.2, 111.2, 41.0, 39.2, 55.4]\n"
     ]
    },
    {
     "data": {
      "text/html": [
       "\n",
       "\n",
       "\n",
       "\n",
       "\n",
       "\n",
       "  <div class=\"bk-root\" id=\"6bcdc01c-4a38-4e1f-8a2c-a9fbb3bbe45e\" data-root-id=\"9684\"></div>\n"
      ]
     },
     "metadata": {},
     "output_type": "display_data"
    },
    {
     "data": {
      "application/javascript": [
       "(function(root) {\n",
       "  function embed_document(root) {\n",
       "    \n",
       "  var docs_json = {\"dce52040-36ad-4817-9d3e-f95688d19f0f\":{\"roots\":{\"references\":[{\"attributes\":{\"below\":[{\"id\":\"9695\",\"type\":\"DatetimeAxis\"}],\"center\":[{\"id\":\"9699\",\"type\":\"Grid\"},{\"id\":\"9704\",\"type\":\"Grid\"},{\"id\":\"9741\",\"type\":\"Legend\"}],\"left\":[{\"id\":\"9700\",\"type\":\"LinearAxis\"}],\"plot_width\":800,\"renderers\":[{\"id\":\"9721\",\"type\":\"GlyphRenderer\"},{\"id\":\"9747\",\"type\":\"GlyphRenderer\"}],\"title\":{\"id\":\"9685\",\"type\":\"Title\"},\"toolbar\":{\"id\":\"9711\",\"type\":\"Toolbar\"},\"x_range\":{\"id\":\"9687\",\"type\":\"DataRange1d\"},\"x_scale\":{\"id\":\"9691\",\"type\":\"LinearScale\"},\"y_range\":{\"id\":\"9689\",\"type\":\"DataRange1d\"},\"y_scale\":{\"id\":\"9693\",\"type\":\"LinearScale\"}},\"id\":\"9684\",\"subtype\":\"Figure\",\"type\":\"Plot\"},{\"attributes\":{},\"id\":\"9727\",\"type\":\"DatetimeTickFormatter\"},{\"attributes\":{\"callback\":null,\"data\":{\"x\":[1429920000000.0,1442275200000.0,1442361600000.0,1442448000000.0,1443052800000.0,1443139200000.0,1448755200000.0,1448841600000.0,1448928000000.0],\"y\":[53.6,64.4,82.4,107.6,111.2,111.2,41.0,39.2,55.4]},\"selected\":{\"id\":\"10210\",\"type\":\"Selection\"},\"selection_policy\":{\"id\":\"10211\",\"type\":\"UnionRenderers\"}},\"id\":\"9743\",\"type\":\"ColumnDataSource\"},{\"attributes\":{\"base\":60,\"mantissas\":[1,2,5,10,15,20,30],\"max_interval\":1800000.0,\"min_interval\":1000.0,\"num_minor_ticks\":0},\"id\":\"9729\",\"type\":\"AdaptiveTicker\"},{\"attributes\":{\"days\":[1,4,7,10,13,16,19,22,25,28]},\"id\":\"9732\",\"type\":\"DaysTicker\"},{\"attributes\":{\"background_fill_alpha\":{\"value\":0.1},\"items\":[{\"id\":\"9742\",\"type\":\"LegendItem\"}]},\"id\":\"9741\",\"type\":\"Legend\"},{\"attributes\":{\"label\":{\"value\":\"Value\"},\"renderers\":[{\"id\":\"9721\",\"type\":\"GlyphRenderer\"}]},\"id\":\"9742\",\"type\":\"LegendItem\"},{\"attributes\":{},\"id\":\"9706\",\"type\":\"WheelZoomTool\"},{\"attributes\":{\"formatter\":{\"id\":\"9725\",\"type\":\"BasicTickFormatter\"},\"ticker\":{\"id\":\"9701\",\"type\":\"BasicTicker\"}},\"id\":\"9700\",\"type\":\"LinearAxis\"},{\"attributes\":{\"callback\":null,\"data\":{\"x\":{\"__ndarray__\":\"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\",\"dtype\":\"float64\",\"shape\":[365]},\"y\":{\"__ndarray__\":\"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\",\"dtype\":\"float64\",\"shape\":[365]}},\"selected\":{\"id\":\"10208\",\"type\":\"Selection\"},\"selection_policy\":{\"id\":\"10209\",\"type\":\"UnionRenderers\"}},\"id\":\"9718\",\"type\":\"ColumnDataSource\"},{\"attributes\":{\"mantissas\":[1,2,5],\"max_interval\":500.0,\"num_minor_ticks\":0},\"id\":\"9728\",\"type\":\"AdaptiveTicker\"},{\"attributes\":{},\"id\":\"9709\",\"type\":\"ResetTool\"},{\"attributes\":{},\"id\":\"9701\",\"type\":\"BasicTicker\"},{\"attributes\":{\"months\":[0,1,2,3,4,5,6,7,8,9,10,11]},\"id\":\"9735\",\"type\":\"MonthsTicker\"},{\"attributes\":{\"num_minor_ticks\":5,\"tickers\":[{\"id\":\"9728\",\"type\":\"AdaptiveTicker\"},{\"id\":\"9729\",\"type\":\"AdaptiveTicker\"},{\"id\":\"9730\",\"type\":\"AdaptiveTicker\"},{\"id\":\"9731\",\"type\":\"DaysTicker\"},{\"id\":\"9732\",\"type\":\"DaysTicker\"},{\"id\":\"9733\",\"type\":\"DaysTicker\"},{\"id\":\"9734\",\"type\":\"DaysTicker\"},{\"id\":\"9735\",\"type\":\"MonthsTicker\"},{\"id\":\"9736\",\"type\":\"MonthsTicker\"},{\"id\":\"9737\",\"type\":\"MonthsTicker\"},{\"id\":\"9738\",\"type\":\"MonthsTicker\"},{\"id\":\"9739\",\"type\":\"YearsTicker\"}]},\"id\":\"9696\",\"type\":\"DatetimeTicker\"},{\"attributes\":{\"fill_alpha\":{\"value\":0.1},\"fill_color\":{\"value\":\"#1f77b4\"},\"line_alpha\":{\"value\":0.1},\"line_color\":{\"value\":\"#1f77b4\"},\"size\":{\"units\":\"screen\",\"value\":5},\"x\":{\"field\":\"x\"},\"y\":{\"field\":\"y\"}},\"id\":\"9746\",\"type\":\"Circle\"},{\"attributes\":{\"days\":[1,8,15,22]},\"id\":\"9733\",\"type\":\"DaysTicker\"},{\"attributes\":{\"months\":[0,6]},\"id\":\"9738\",\"type\":\"MonthsTicker\"},{\"attributes\":{\"dimension\":1,\"ticker\":{\"id\":\"9701\",\"type\":\"BasicTicker\"}},\"id\":\"9704\",\"type\":\"Grid\"},{\"attributes\":{\"active_drag\":\"auto\",\"active_inspect\":\"auto\",\"active_multi\":null,\"active_scroll\":\"auto\",\"active_tap\":\"auto\",\"tools\":[{\"id\":\"9705\",\"type\":\"PanTool\"},{\"id\":\"9706\",\"type\":\"WheelZoomTool\"},{\"id\":\"9707\",\"type\":\"BoxZoomTool\"},{\"id\":\"9708\",\"type\":\"SaveTool\"},{\"id\":\"9709\",\"type\":\"ResetTool\"},{\"id\":\"9710\",\"type\":\"HelpTool\"}]},\"id\":\"9711\",\"type\":\"Toolbar\"},{\"attributes\":{\"line_color\":\"#2222aa\",\"x\":{\"field\":\"x\"},\"y\":{\"field\":\"y\"}},\"id\":\"9719\",\"type\":\"Line\"},{\"attributes\":{},\"id\":\"9739\",\"type\":\"YearsTicker\"},{\"attributes\":{},\"id\":\"9725\",\"type\":\"BasicTickFormatter\"},{\"attributes\":{},\"id\":\"10211\",\"type\":\"UnionRenderers\"},{\"attributes\":{\"source\":{\"id\":\"9743\",\"type\":\"ColumnDataSource\"}},\"id\":\"9748\",\"type\":\"CDSView\"},{\"attributes\":{\"base\":24,\"mantissas\":[1,2,4,6,8,12],\"max_interval\":43200000.0,\"min_interval\":3600000.0,\"num_minor_ticks\":0},\"id\":\"9730\",\"type\":\"AdaptiveTicker\"},{\"attributes\":{\"ticker\":{\"id\":\"9696\",\"type\":\"DatetimeTicker\"}},\"id\":\"9699\",\"type\":\"Grid\"},{\"attributes\":{\"data_source\":{\"id\":\"9718\",\"type\":\"ColumnDataSource\"},\"glyph\":{\"id\":\"9719\",\"type\":\"Line\"},\"hover_glyph\":null,\"muted_glyph\":null,\"nonselection_glyph\":{\"id\":\"9720\",\"type\":\"Line\"},\"selection_glyph\":null,\"view\":{\"id\":\"9722\",\"type\":\"CDSView\"}},\"id\":\"9721\",\"type\":\"GlyphRenderer\"},{\"attributes\":{\"fill_color\":{\"value\":\"tomato\"},\"line_color\":{\"value\":\"tomato\"},\"size\":{\"units\":\"screen\",\"value\":5},\"x\":{\"field\":\"x\"},\"y\":{\"field\":\"y\"}},\"id\":\"9745\",\"type\":\"Circle\"},{\"attributes\":{\"line_alpha\":0.1,\"line_color\":\"#1f77b4\",\"x\":{\"field\":\"x\"},\"y\":{\"field\":\"y\"}},\"id\":\"9720\",\"type\":\"Line\"},{\"attributes\":{},\"id\":\"9693\",\"type\":\"LinearScale\"},{\"attributes\":{\"months\":[0,2,4,6,8,10]},\"id\":\"9736\",\"type\":\"MonthsTicker\"},{\"attributes\":{\"callback\":null},\"id\":\"9689\",\"type\":\"DataRange1d\"},{\"attributes\":{\"months\":[0,4,8]},\"id\":\"9737\",\"type\":\"MonthsTicker\"},{\"attributes\":{\"days\":[1,15]},\"id\":\"9734\",\"type\":\"DaysTicker\"},{\"attributes\":{},\"id\":\"10209\",\"type\":\"UnionRenderers\"},{\"attributes\":{\"source\":{\"id\":\"9718\",\"type\":\"ColumnDataSource\"}},\"id\":\"9722\",\"type\":\"CDSView\"},{\"attributes\":{\"data_source\":{\"id\":\"9743\",\"type\":\"ColumnDataSource\"},\"glyph\":{\"id\":\"9745\",\"type\":\"Circle\"},\"hover_glyph\":null,\"muted_glyph\":null,\"nonselection_glyph\":{\"id\":\"9746\",\"type\":\"Circle\"},\"selection_glyph\":null,\"view\":{\"id\":\"9748\",\"type\":\"CDSView\"}},\"id\":\"9747\",\"type\":\"GlyphRenderer\"},{\"attributes\":{\"callback\":null},\"id\":\"9687\",\"type\":\"DataRange1d\"},{\"attributes\":{\"overlay\":{\"id\":\"9740\",\"type\":\"BoxAnnotation\"}},\"id\":\"9707\",\"type\":\"BoxZoomTool\"},{\"attributes\":{\"bottom_units\":\"screen\",\"fill_alpha\":{\"value\":0.5},\"fill_color\":{\"value\":\"lightgrey\"},\"left_units\":\"screen\",\"level\":\"overlay\",\"line_alpha\":{\"value\":1.0},\"line_color\":{\"value\":\"black\"},\"line_dash\":[4,4],\"line_width\":{\"value\":2},\"render_mode\":\"css\",\"right_units\":\"screen\",\"top_units\":\"screen\"},\"id\":\"9740\",\"type\":\"BoxAnnotation\"},{\"attributes\":{\"formatter\":{\"id\":\"9727\",\"type\":\"DatetimeTickFormatter\"},\"ticker\":{\"id\":\"9696\",\"type\":\"DatetimeTicker\"}},\"id\":\"9695\",\"type\":\"DatetimeAxis\"},{\"attributes\":{},\"id\":\"9705\",\"type\":\"PanTool\"},{\"attributes\":{},\"id\":\"9710\",\"type\":\"HelpTool\"},{\"attributes\":{},\"id\":\"10208\",\"type\":\"Selection\"},{\"attributes\":{\"days\":[1,2,3,4,5,6,7,8,9,10,11,12,13,14,15,16,17,18,19,20,21,22,23,24,25,26,27,28,29,30,31]},\"id\":\"9731\",\"type\":\"DaysTicker\"},{\"attributes\":{},\"id\":\"10210\",\"type\":\"Selection\"},{\"attributes\":{},\"id\":\"9691\",\"type\":\"LinearScale\"},{\"attributes\":{},\"id\":\"9708\",\"type\":\"SaveTool\"},{\"attributes\":{\"text\":\"Batch Anomaly Detection (0 Sensitvity)\"},\"id\":\"9685\",\"type\":\"Title\"}],\"root_ids\":[\"9684\"]},\"title\":\"Bokeh Application\",\"version\":\"1.3.4\"}};\n",
       "  var render_items = [{\"docid\":\"dce52040-36ad-4817-9d3e-f95688d19f0f\",\"notebook_comms_target\":\"10213\",\"roots\":{\"9684\":\"6bcdc01c-4a38-4e1f-8a2c-a9fbb3bbe45e\"}}];\n",
       "  root.Bokeh.embed.embed_items_notebook(docs_json, render_items);\n",
       "\n",
       "  }\n",
       "  if (root.Bokeh !== undefined) {\n",
       "    embed_document(root);\n",
       "  } else {\n",
       "    var attempts = 0;\n",
       "    var timer = setInterval(function(root) {\n",
       "      if (root.Bokeh !== undefined) {\n",
       "        embed_document(root);\n",
       "        clearInterval(timer);\n",
       "      }\n",
       "      attempts++;\n",
       "      if (attempts > 100) {\n",
       "        console.log(\"Bokeh: ERROR: Unable to run BokehJS code because BokehJS library is missing\");\n",
       "        clearInterval(timer);\n",
       "      }\n",
       "    }, 10, root)\n",
       "  }\n",
       "})(window);"
      ],
      "application/vnd.bokehjs_exec.v0+json": ""
     },
     "metadata": {
      "application/vnd.bokehjs_exec.v0+json": {
       "id": "9684"
      }
     },
     "output_type": "display_data"
    }
   ],
   "source": [
    "show_windows(series,anoms, 0)"
   ]
  },
  {
   "cell_type": "markdown",
   "metadata": {},
   "source": [
    "## the fake sine wave data"
   ]
  },
  {
   "cell_type": "code",
   "execution_count": 67,
   "metadata": {},
   "outputs": [],
   "source": [
    "fakedata = data.copy()"
   ]
  },
  {
   "cell_type": "code",
   "execution_count": 68,
   "metadata": {},
   "outputs": [],
   "source": [
    "pi = 3.14\n",
    "for i in range(len(fakedata)):\n",
    "    fakedata['temperature'][i] = 0.5*np.sin(pi*i/10)+4.0\n",
    "    pi = 0.9995*pi\n",
    "fakedata['temperature'][120] =3\n",
    "fakedata['temperature'][300] =5 \n",
    "fakedata['temperature'][121] =5\n",
    "fakedata['temperature'][301] =2"
   ]
  },
  {
   "cell_type": "code",
   "execution_count": 69,
   "metadata": {},
   "outputs": [],
   "source": [
    "w = fakedata.apply(extract_all2, axis=1)\n",
    "series = []\n",
    "for x in w:\n",
    "    series.append(x)\n",
    "sample_data = {'granularity': 'daily','series':series}"
   ]
  },
  {
   "cell_type": "code",
   "execution_count": 70,
   "metadata": {},
   "outputs": [
    {
     "name": "stdout",
     "output_type": "stream",
     "text": [
      "got a bad one at  120\n",
      "got a bad one at  123\n",
      "got a bad one at  124\n",
      "got a bad one at  300\n",
      "got a bad one at  301\n"
     ]
    }
   ],
   "source": [
    "window_size = 18\n",
    "anoms = []\n",
    "for i in range( len(series)-window_size+1):\n",
    "    sample = {'granularity': 'daily','series':series[i: i+window_size],  \"sensitivity\": 90}\n",
    "    result =  detect(nendpoint, subscription_key, sample)\n",
    "    isanom = result[\"isAnomaly\"]\n",
    "    #print(result)\n",
    "    if(isanom == True):\n",
    "        print('got a bad one at ', i+window_size-1)\n",
    "        anoms.append(i+window_size-1)\n",
    "    #print(isanom)\n",
    "    time.sleep(0.01)"
   ]
  },
  {
   "cell_type": "code",
   "execution_count": 79,
   "metadata": {},
   "outputs": [
    {
     "data": {
      "text/html": [
       "\n",
       "\n",
       "\n",
       "\n",
       "\n",
       "\n",
       "  <div class=\"bk-root\" id=\"85b0f247-d1aa-43cf-829b-db29c8145f13\" data-root-id=\"16986\"></div>\n"
      ]
     },
     "metadata": {},
     "output_type": "display_data"
    },
    {
     "data": {
      "application/javascript": [
       "(function(root) {\n",
       "  function embed_document(root) {\n",
       "    \n",
       "  var docs_json = {\"c69360c3-ae2f-4c9e-b1c6-dd440c6ee3ae\":{\"roots\":{\"references\":[{\"attributes\":{\"below\":[{\"id\":\"16997\",\"type\":\"DatetimeAxis\"}],\"center\":[{\"id\":\"17001\",\"type\":\"Grid\"},{\"id\":\"17006\",\"type\":\"Grid\"},{\"id\":\"17043\",\"type\":\"Legend\"}],\"left\":[{\"id\":\"17002\",\"type\":\"LinearAxis\"}],\"plot_height\":400,\"plot_width\":800,\"renderers\":[{\"id\":\"17023\",\"type\":\"GlyphRenderer\"},{\"id\":\"17049\",\"type\":\"GlyphRenderer\"}],\"title\":{\"id\":\"16987\",\"type\":\"Title\"},\"toolbar\":{\"id\":\"17013\",\"type\":\"Toolbar\"},\"x_range\":{\"id\":\"16989\",\"type\":\"DataRange1d\"},\"x_scale\":{\"id\":\"16993\",\"type\":\"LinearScale\"},\"y_range\":{\"id\":\"16991\",\"type\":\"DataRange1d\"},\"y_scale\":{\"id\":\"16995\",\"type\":\"LinearScale\"}},\"id\":\"16986\",\"subtype\":\"Figure\",\"type\":\"Plot\"},{\"attributes\":{\"source\":{\"id\":\"17045\",\"type\":\"ColumnDataSource\"}},\"id\":\"17050\",\"type\":\"CDSView\"},{\"attributes\":{\"formatter\":{\"id\":\"17027\",\"type\":\"DatetimeTickFormatter\"},\"ticker\":{\"id\":\"16998\",\"type\":\"DatetimeTicker\"}},\"id\":\"16997\",\"type\":\"DatetimeAxis\"},{\"attributes\":{\"days\":[1,8,15,22]},\"id\":\"17035\",\"type\":\"DaysTicker\"},{\"attributes\":{\"bottom_units\":\"screen\",\"fill_alpha\":{\"value\":0.5},\"fill_color\":{\"value\":\"lightgrey\"},\"left_units\":\"screen\",\"level\":\"overlay\",\"line_alpha\":{\"value\":1.0},\"line_color\":{\"value\":\"black\"},\"line_dash\":[4,4],\"line_width\":{\"value\":2},\"render_mode\":\"css\",\"right_units\":\"screen\",\"top_units\":\"screen\"},\"id\":\"17042\",\"type\":\"BoxAnnotation\"},{\"attributes\":{},\"id\":\"16995\",\"type\":\"LinearScale\"},{\"attributes\":{},\"id\":\"17007\",\"type\":\"PanTool\"},{\"attributes\":{},\"id\":\"17041\",\"type\":\"YearsTicker\"},{\"attributes\":{\"callback\":null,\"data\":{\"x\":[1430438400000.0,1430697600000.0,1430784000000.0,1445990400000.0,1446076800000.0],\"y\":[3.0,3.5089448320827468,3.553402910744994,5.0,2.0]},\"selected\":{\"id\":\"17735\",\"type\":\"Selection\"},\"selection_policy\":{\"id\":\"17734\",\"type\":\"UnionRenderers\"}},\"id\":\"17045\",\"type\":\"ColumnDataSource\"},{\"attributes\":{},\"id\":\"17029\",\"type\":\"BasicTickFormatter\"},{\"attributes\":{\"ticker\":{\"id\":\"16998\",\"type\":\"DatetimeTicker\"}},\"id\":\"17001\",\"type\":\"Grid\"},{\"attributes\":{},\"id\":\"17734\",\"type\":\"UnionRenderers\"},{\"attributes\":{\"background_fill_alpha\":{\"value\":0.1},\"items\":[{\"id\":\"17044\",\"type\":\"LegendItem\"}]},\"id\":\"17043\",\"type\":\"Legend\"},{\"attributes\":{\"callback\":null,\"data\":{\"x\":{\"__ndarray__\":\"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\",\"dtype\":\"float64\",\"shape\":[365]},\"y\":{\"__ndarray__\":\"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\",\"dtype\":\"float64\",\"shape\":[365]}},\"selected\":{\"id\":\"17733\",\"type\":\"Selection\"},\"selection_policy\":{\"id\":\"17732\",\"type\":\"UnionRenderers\"}},\"id\":\"17020\",\"type\":\"ColumnDataSource\"},{\"attributes\":{\"days\":[1,15]},\"id\":\"17036\",\"type\":\"DaysTicker\"},{\"attributes\":{\"label\":{\"value\":\"Value\"},\"renderers\":[{\"id\":\"17023\",\"type\":\"GlyphRenderer\"}]},\"id\":\"17044\",\"type\":\"LegendItem\"},{\"attributes\":{\"callback\":null},\"id\":\"16989\",\"type\":\"DataRange1d\"},{\"attributes\":{\"months\":[0,4,8]},\"id\":\"17039\",\"type\":\"MonthsTicker\"},{\"attributes\":{},\"id\":\"17735\",\"type\":\"Selection\"},{\"attributes\":{\"data_source\":{\"id\":\"17045\",\"type\":\"ColumnDataSource\"},\"glyph\":{\"id\":\"17047\",\"type\":\"Circle\"},\"hover_glyph\":null,\"muted_glyph\":null,\"nonselection_glyph\":{\"id\":\"17048\",\"type\":\"Circle\"},\"selection_glyph\":null,\"view\":{\"id\":\"17050\",\"type\":\"CDSView\"}},\"id\":\"17049\",\"type\":\"GlyphRenderer\"},{\"attributes\":{},\"id\":\"17012\",\"type\":\"HelpTool\"},{\"attributes\":{\"mantissas\":[1,2,5],\"max_interval\":500.0,\"num_minor_ticks\":0},\"id\":\"17030\",\"type\":\"AdaptiveTicker\"},{\"attributes\":{\"dimension\":1,\"ticker\":{\"id\":\"17003\",\"type\":\"BasicTicker\"}},\"id\":\"17006\",\"type\":\"Grid\"},{\"attributes\":{\"line_color\":\"#2222aa\",\"x\":{\"field\":\"x\"},\"y\":{\"field\":\"y\"}},\"id\":\"17021\",\"type\":\"Line\"},{\"attributes\":{},\"id\":\"17011\",\"type\":\"ResetTool\"},{\"attributes\":{\"source\":{\"id\":\"17020\",\"type\":\"ColumnDataSource\"}},\"id\":\"17024\",\"type\":\"CDSView\"},{\"attributes\":{},\"id\":\"17008\",\"type\":\"WheelZoomTool\"},{\"attributes\":{\"base\":60,\"mantissas\":[1,2,5,10,15,20,30],\"max_interval\":1800000.0,\"min_interval\":1000.0,\"num_minor_ticks\":0},\"id\":\"17031\",\"type\":\"AdaptiveTicker\"},{\"attributes\":{\"text\":\"Batch Anomaly Detection (0 Sensitvity)\"},\"id\":\"16987\",\"type\":\"Title\"},{\"attributes\":{\"base\":24,\"mantissas\":[1,2,4,6,8,12],\"max_interval\":43200000.0,\"min_interval\":3600000.0,\"num_minor_ticks\":0},\"id\":\"17032\",\"type\":\"AdaptiveTicker\"},{\"attributes\":{},\"id\":\"17003\",\"type\":\"BasicTicker\"},{\"attributes\":{},\"id\":\"17027\",\"type\":\"DatetimeTickFormatter\"},{\"attributes\":{\"overlay\":{\"id\":\"17042\",\"type\":\"BoxAnnotation\"}},\"id\":\"17009\",\"type\":\"BoxZoomTool\"},{\"attributes\":{\"months\":[0,2,4,6,8,10]},\"id\":\"17038\",\"type\":\"MonthsTicker\"},{\"attributes\":{\"fill_color\":{\"value\":\"tomato\"},\"line_color\":{\"value\":\"tomato\"},\"size\":{\"units\":\"screen\",\"value\":5},\"x\":{\"field\":\"x\"},\"y\":{\"field\":\"y\"}},\"id\":\"17047\",\"type\":\"Circle\"},{\"attributes\":{\"days\":[1,2,3,4,5,6,7,8,9,10,11,12,13,14,15,16,17,18,19,20,21,22,23,24,25,26,27,28,29,30,31]},\"id\":\"17033\",\"type\":\"DaysTicker\"},{\"attributes\":{},\"id\":\"17733\",\"type\":\"Selection\"},{\"attributes\":{\"data_source\":{\"id\":\"17020\",\"type\":\"ColumnDataSource\"},\"glyph\":{\"id\":\"17021\",\"type\":\"Line\"},\"hover_glyph\":null,\"muted_glyph\":null,\"nonselection_glyph\":{\"id\":\"17022\",\"type\":\"Line\"},\"selection_glyph\":null,\"view\":{\"id\":\"17024\",\"type\":\"CDSView\"}},\"id\":\"17023\",\"type\":\"GlyphRenderer\"},{\"attributes\":{\"num_minor_ticks\":5,\"tickers\":[{\"id\":\"17030\",\"type\":\"AdaptiveTicker\"},{\"id\":\"17031\",\"type\":\"AdaptiveTicker\"},{\"id\":\"17032\",\"type\":\"AdaptiveTicker\"},{\"id\":\"17033\",\"type\":\"DaysTicker\"},{\"id\":\"17034\",\"type\":\"DaysTicker\"},{\"id\":\"17035\",\"type\":\"DaysTicker\"},{\"id\":\"17036\",\"type\":\"DaysTicker\"},{\"id\":\"17037\",\"type\":\"MonthsTicker\"},{\"id\":\"17038\",\"type\":\"MonthsTicker\"},{\"id\":\"17039\",\"type\":\"MonthsTicker\"},{\"id\":\"17040\",\"type\":\"MonthsTicker\"},{\"id\":\"17041\",\"type\":\"YearsTicker\"}]},\"id\":\"16998\",\"type\":\"DatetimeTicker\"},{\"attributes\":{\"months\":[0,6]},\"id\":\"17040\",\"type\":\"MonthsTicker\"},{\"attributes\":{\"callback\":null},\"id\":\"16991\",\"type\":\"DataRange1d\"},{\"attributes\":{\"fill_alpha\":{\"value\":0.1},\"fill_color\":{\"value\":\"#1f77b4\"},\"line_alpha\":{\"value\":0.1},\"line_color\":{\"value\":\"#1f77b4\"},\"size\":{\"units\":\"screen\",\"value\":5},\"x\":{\"field\":\"x\"},\"y\":{\"field\":\"y\"}},\"id\":\"17048\",\"type\":\"Circle\"},{\"attributes\":{},\"id\":\"17010\",\"type\":\"SaveTool\"},{\"attributes\":{},\"id\":\"16993\",\"type\":\"LinearScale\"},{\"attributes\":{},\"id\":\"17732\",\"type\":\"UnionRenderers\"},{\"attributes\":{\"formatter\":{\"id\":\"17029\",\"type\":\"BasicTickFormatter\"},\"ticker\":{\"id\":\"17003\",\"type\":\"BasicTicker\"}},\"id\":\"17002\",\"type\":\"LinearAxis\"},{\"attributes\":{\"days\":[1,4,7,10,13,16,19,22,25,28]},\"id\":\"17034\",\"type\":\"DaysTicker\"},{\"attributes\":{\"months\":[0,1,2,3,4,5,6,7,8,9,10,11]},\"id\":\"17037\",\"type\":\"MonthsTicker\"},{\"attributes\":{\"active_drag\":\"auto\",\"active_inspect\":\"auto\",\"active_multi\":null,\"active_scroll\":\"auto\",\"active_tap\":\"auto\",\"tools\":[{\"id\":\"17007\",\"type\":\"PanTool\"},{\"id\":\"17008\",\"type\":\"WheelZoomTool\"},{\"id\":\"17009\",\"type\":\"BoxZoomTool\"},{\"id\":\"17010\",\"type\":\"SaveTool\"},{\"id\":\"17011\",\"type\":\"ResetTool\"},{\"id\":\"17012\",\"type\":\"HelpTool\"}]},\"id\":\"17013\",\"type\":\"Toolbar\"},{\"attributes\":{\"line_alpha\":0.1,\"line_color\":\"#1f77b4\",\"x\":{\"field\":\"x\"},\"y\":{\"field\":\"y\"}},\"id\":\"17022\",\"type\":\"Line\"}],\"root_ids\":[\"16986\"]},\"title\":\"Bokeh Application\",\"version\":\"1.3.4\"}};\n",
       "  var render_items = [{\"docid\":\"c69360c3-ae2f-4c9e-b1c6-dd440c6ee3ae\",\"notebook_comms_target\":\"17737\",\"roots\":{\"16986\":\"85b0f247-d1aa-43cf-829b-db29c8145f13\"}}];\n",
       "  root.Bokeh.embed.embed_items_notebook(docs_json, render_items);\n",
       "\n",
       "  }\n",
       "  if (root.Bokeh !== undefined) {\n",
       "    embed_document(root);\n",
       "  } else {\n",
       "    var attempts = 0;\n",
       "    var timer = setInterval(function(root) {\n",
       "      if (root.Bokeh !== undefined) {\n",
       "        embed_document(root);\n",
       "        clearInterval(timer);\n",
       "      }\n",
       "      attempts++;\n",
       "      if (attempts > 100) {\n",
       "        console.log(\"Bokeh: ERROR: Unable to run BokehJS code because BokehJS library is missing\");\n",
       "        clearInterval(timer);\n",
       "      }\n",
       "    }, 10, root)\n",
       "  }\n",
       "})(window);"
      ],
      "application/vnd.bokehjs_exec.v0+json": ""
     },
     "metadata": {
      "application/vnd.bokehjs_exec.v0+json": {
       "id": "16986"
      }
     },
     "output_type": "display_data"
    }
   ],
   "source": [
    "show_windows(series,anoms, 0)"
   ]
  },
  {
   "cell_type": "code",
   "execution_count": 84,
   "metadata": {},
   "outputs": [
    {
     "name": "stdout",
     "output_type": "stream",
     "text": [
      "[301]\n"
     ]
    },
    {
     "data": {
      "text/html": [
       "\n",
       "\n",
       "\n",
       "\n",
       "\n",
       "\n",
       "  <div class=\"bk-root\" id=\"f806bef4-29cc-4d7e-abed-4e4cb2a48690\" data-root-id=\"20912\"></div>\n"
      ]
     },
     "metadata": {},
     "output_type": "display_data"
    },
    {
     "data": {
      "application/javascript": [
       "(function(root) {\n",
       "  function embed_document(root) {\n",
       "    \n",
       "  var docs_json = {\"7c140f1e-a994-4a58-b87b-99b5e7a2adc6\":{\"roots\":{\"references\":[{\"attributes\":{\"below\":[{\"id\":\"20923\",\"type\":\"DatetimeAxis\"}],\"center\":[{\"id\":\"20927\",\"type\":\"Grid\"},{\"id\":\"20932\",\"type\":\"Grid\"},{\"id\":\"20969\",\"type\":\"Legend\"}],\"left\":[{\"id\":\"20928\",\"type\":\"LinearAxis\"}],\"plot_height\":400,\"plot_width\":800,\"renderers\":[{\"id\":\"20949\",\"type\":\"GlyphRenderer\"},{\"id\":\"20974\",\"type\":\"GlyphRenderer\"},{\"id\":\"21000\",\"type\":\"GlyphRenderer\"},{\"id\":\"21029\",\"type\":\"GlyphRenderer\"}],\"title\":{\"id\":\"20913\",\"type\":\"Title\"},\"toolbar\":{\"id\":\"20939\",\"type\":\"Toolbar\"},\"x_range\":{\"id\":\"20915\",\"type\":\"DataRange1d\"},\"x_scale\":{\"id\":\"20919\",\"type\":\"LinearScale\"},\"y_range\":{\"id\":\"20917\",\"type\":\"DataRange1d\"},\"y_scale\":{\"id\":\"20921\",\"type\":\"LinearScale\"}},\"id\":\"20912\",\"subtype\":\"Figure\",\"type\":\"Plot\"},{\"attributes\":{\"formatter\":{\"id\":\"20955\",\"type\":\"BasicTickFormatter\"},\"ticker\":{\"id\":\"20929\",\"type\":\"BasicTicker\"}},\"id\":\"20928\",\"type\":\"LinearAxis\"},{\"attributes\":{\"days\":[1,4,7,10,13,16,19,22,25,28]},\"id\":\"20960\",\"type\":\"DaysTicker\"},{\"attributes\":{},\"id\":\"21816\",\"type\":\"UnionRenderers\"},{\"attributes\":{\"callback\":null},\"id\":\"20917\",\"type\":\"DataRange1d\"},{\"attributes\":{\"days\":[1,8,15,22]},\"id\":\"20961\",\"type\":\"DaysTicker\"},{\"attributes\":{},\"id\":\"21021\",\"type\":\"UnionRenderers\"},{\"attributes\":{\"label\":{\"value\":\"Boundary\"},\"renderers\":[{\"id\":\"20949\",\"type\":\"GlyphRenderer\"}]},\"id\":\"20970\",\"type\":\"LegendItem\"},{\"attributes\":{\"data_source\":{\"id\":\"20997\",\"type\":\"ColumnDataSource\"},\"glyph\":{\"id\":\"20998\",\"type\":\"Line\"},\"hover_glyph\":null,\"muted_glyph\":null,\"nonselection_glyph\":{\"id\":\"20999\",\"type\":\"Line\"},\"selection_glyph\":null,\"view\":{\"id\":\"21001\",\"type\":\"CDSView\"}},\"id\":\"21000\",\"type\":\"GlyphRenderer\"},{\"attributes\":{},\"id\":\"20921\",\"type\":\"LinearScale\"},{\"attributes\":{\"line_color\":\"#2222aa\",\"x\":{\"field\":\"x\"},\"y\":{\"field\":\"y\"}},\"id\":\"20972\",\"type\":\"Line\"},{\"attributes\":{},\"id\":\"20993\",\"type\":\"UnionRenderers\"},{\"attributes\":{\"text\":\"Batch Anomaly Detection (90 Sensitvity)\"},\"id\":\"20913\",\"type\":\"Title\"},{\"attributes\":{\"fill_alpha\":{\"value\":0.1},\"fill_color\":{\"value\":\"#1f77b4\"},\"line_alpha\":{\"value\":0.1},\"line_color\":{\"value\":\"#1f77b4\"},\"size\":{\"units\":\"screen\",\"value\":5},\"x\":{\"field\":\"x\"},\"y\":{\"field\":\"y\"}},\"id\":\"21028\",\"type\":\"Circle\"},{\"attributes\":{\"dimension\":1,\"ticker\":{\"id\":\"20929\",\"type\":\"BasicTicker\"}},\"id\":\"20932\",\"type\":\"Grid\"},{\"attributes\":{\"data_source\":{\"id\":\"21025\",\"type\":\"ColumnDataSource\"},\"glyph\":{\"id\":\"21027\",\"type\":\"Circle\"},\"hover_glyph\":null,\"muted_glyph\":null,\"nonselection_glyph\":{\"id\":\"21028\",\"type\":\"Circle\"},\"selection_glyph\":null,\"view\":{\"id\":\"21030\",\"type\":\"CDSView\"}},\"id\":\"21029\",\"type\":\"GlyphRenderer\"},{\"attributes\":{\"num_minor_ticks\":5,\"tickers\":[{\"id\":\"20956\",\"type\":\"AdaptiveTicker\"},{\"id\":\"20957\",\"type\":\"AdaptiveTicker\"},{\"id\":\"20958\",\"type\":\"AdaptiveTicker\"},{\"id\":\"20959\",\"type\":\"DaysTicker\"},{\"id\":\"20960\",\"type\":\"DaysTicker\"},{\"id\":\"20961\",\"type\":\"DaysTicker\"},{\"id\":\"20962\",\"type\":\"DaysTicker\"},{\"id\":\"20963\",\"type\":\"MonthsTicker\"},{\"id\":\"20964\",\"type\":\"MonthsTicker\"},{\"id\":\"20965\",\"type\":\"MonthsTicker\"},{\"id\":\"20966\",\"type\":\"MonthsTicker\"},{\"id\":\"20967\",\"type\":\"YearsTicker\"}]},\"id\":\"20924\",\"type\":\"DatetimeTicker\"},{\"attributes\":{\"line_color\":\"olivedrab\",\"line_dash\":[2,4,6,4],\"x\":{\"field\":\"x\"},\"y\":{\"field\":\"y\"}},\"id\":\"20998\",\"type\":\"Line\"},{\"attributes\":{\"source\":{\"id\":\"20997\",\"type\":\"ColumnDataSource\"}},\"id\":\"21001\",\"type\":\"CDSView\"},{\"attributes\":{\"callback\":null,\"data\":{\"x\":[1446076800000.0],\"y\":[2.0]},\"selected\":{\"id\":\"21819\",\"type\":\"Selection\"},\"selection_policy\":{\"id\":\"21818\",\"type\":\"UnionRenderers\"}},\"id\":\"21025\",\"type\":\"ColumnDataSource\"},{\"attributes\":{\"line_alpha\":0.1,\"line_color\":\"#1f77b4\",\"line_dash\":[2,4,6,4],\"x\":{\"field\":\"x\"},\"y\":{\"field\":\"y\"}},\"id\":\"20999\",\"type\":\"Line\"},{\"attributes\":{},\"id\":\"20934\",\"type\":\"WheelZoomTool\"},{\"attributes\":{\"callback\":null},\"id\":\"20915\",\"type\":\"DataRange1d\"},{\"attributes\":{\"label\":{\"value\":\"Value\"},\"renderers\":[{\"id\":\"20974\",\"type\":\"GlyphRenderer\"}]},\"id\":\"20996\",\"type\":\"LegendItem\"},{\"attributes\":{\"fill_color\":{\"value\":\"tomato\"},\"line_color\":{\"value\":\"tomato\"},\"size\":{\"units\":\"screen\",\"value\":5},\"x\":{\"field\":\"x\"},\"y\":{\"field\":\"y\"}},\"id\":\"21027\",\"type\":\"Circle\"},{\"attributes\":{\"base\":60,\"mantissas\":[1,2,5,10,15,20,30],\"max_interval\":1800000.0,\"min_interval\":1000.0,\"num_minor_ticks\":0},\"id\":\"20957\",\"type\":\"AdaptiveTicker\"},{\"attributes\":{\"source\":{\"id\":\"20971\",\"type\":\"ColumnDataSource\"}},\"id\":\"20975\",\"type\":\"CDSView\"},{\"attributes\":{},\"id\":\"20953\",\"type\":\"DatetimeTickFormatter\"},{\"attributes\":{},\"id\":\"20933\",\"type\":\"PanTool\"},{\"attributes\":{\"line_alpha\":0.1,\"line_color\":\"#1f77b4\",\"x\":{\"field\":\"x\"},\"y\":{\"field\":\"y\"}},\"id\":\"20973\",\"type\":\"Line\"},{\"attributes\":{},\"id\":\"20955\",\"type\":\"BasicTickFormatter\"},{\"attributes\":{\"fill_alpha\":0.5,\"fill_color\":\"#bdd7e7\",\"line_color\":\"#bdd7e7\",\"x\":{\"field\":\"x\"},\"y\":{\"field\":\"y\"}},\"id\":\"20947\",\"type\":\"Patch\"},{\"attributes\":{\"source\":{\"id\":\"20946\",\"type\":\"ColumnDataSource\"}},\"id\":\"20950\",\"type\":\"CDSView\"},{\"attributes\":{\"mantissas\":[1,2,5],\"max_interval\":500.0,\"num_minor_ticks\":0},\"id\":\"20956\",\"type\":\"AdaptiveTicker\"},{\"attributes\":{},\"id\":\"21022\",\"type\":\"Selection\"},{\"attributes\":{\"background_fill_alpha\":{\"value\":0.1},\"items\":[{\"id\":\"20970\",\"type\":\"LegendItem\"},{\"id\":\"20996\",\"type\":\"LegendItem\"},{\"id\":\"21024\",\"type\":\"LegendItem\"}]},\"id\":\"20969\",\"type\":\"Legend\"},{\"attributes\":{\"label\":{\"value\":\"ExpectedValue\"},\"renderers\":[{\"id\":\"21000\",\"type\":\"GlyphRenderer\"}]},\"id\":\"21024\",\"type\":\"LegendItem\"},{\"attributes\":{\"months\":[0,4,8]},\"id\":\"20965\",\"type\":\"MonthsTicker\"},{\"attributes\":{\"months\":[0,6]},\"id\":\"20966\",\"type\":\"MonthsTicker\"},{\"attributes\":{\"fill_alpha\":0.1,\"fill_color\":\"#1f77b4\",\"line_alpha\":0.1,\"line_color\":\"#1f77b4\",\"x\":{\"field\":\"x\"},\"y\":{\"field\":\"y\"}},\"id\":\"20948\",\"type\":\"Patch\"},{\"attributes\":{},\"id\":\"20938\",\"type\":\"HelpTool\"},{\"attributes\":{\"active_drag\":\"auto\",\"active_inspect\":\"auto\",\"active_multi\":null,\"active_scroll\":\"auto\",\"active_tap\":\"auto\",\"tools\":[{\"id\":\"20933\",\"type\":\"PanTool\"},{\"id\":\"20934\",\"type\":\"WheelZoomTool\"},{\"id\":\"20935\",\"type\":\"BoxZoomTool\"},{\"id\":\"20936\",\"type\":\"SaveTool\"},{\"id\":\"20937\",\"type\":\"ResetTool\"},{\"id\":\"20938\",\"type\":\"HelpTool\"}]},\"id\":\"20939\",\"type\":\"Toolbar\"},{\"attributes\":{},\"id\":\"20994\",\"type\":\"Selection\"},{\"attributes\":{},\"id\":\"21818\",\"type\":\"UnionRenderers\"},{\"attributes\":{},\"id\":\"20929\",\"type\":\"BasicTicker\"},{\"attributes\":{},\"id\":\"20936\",\"type\":\"SaveTool\"},{\"attributes\":{\"base\":24,\"mantissas\":[1,2,4,6,8,12],\"max_interval\":43200000.0,\"min_interval\":3600000.0,\"num_minor_ticks\":0},\"id\":\"20958\",\"type\":\"AdaptiveTicker\"},{\"attributes\":{\"callback\":null,\"data\":{\"x\":{\"__ndarray__\":\"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\",\"dtype\":\"float64\",\"shape\":[365]},\"y\":{\"__ndarray__\":\"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\",\"dtype\":\"float64\",\"shape\":[365]}},\"selected\":{\"id\":\"21022\",\"type\":\"Selection\"},\"selection_policy\":{\"id\":\"21021\",\"type\":\"UnionRenderers\"}},\"id\":\"20971\",\"type\":\"ColumnDataSource\"},{\"attributes\":{\"bottom_units\":\"screen\",\"fill_alpha\":{\"value\":0.5},\"fill_color\":{\"value\":\"lightgrey\"},\"left_units\":\"screen\",\"level\":\"overlay\",\"line_alpha\":{\"value\":1.0},\"line_color\":{\"value\":\"black\"},\"line_dash\":[4,4],\"line_width\":{\"value\":2},\"render_mode\":\"css\",\"right_units\":\"screen\",\"top_units\":\"screen\"},\"id\":\"20968\",\"type\":\"BoxAnnotation\"},{\"attributes\":{\"data_source\":{\"id\":\"20946\",\"type\":\"ColumnDataSource\"},\"glyph\":{\"id\":\"20947\",\"type\":\"Patch\"},\"hover_glyph\":null,\"muted_glyph\":null,\"nonselection_glyph\":{\"id\":\"20948\",\"type\":\"Patch\"},\"selection_glyph\":null,\"view\":{\"id\":\"20950\",\"type\":\"CDSView\"}},\"id\":\"20949\",\"type\":\"GlyphRenderer\"},{\"attributes\":{\"data_source\":{\"id\":\"20971\",\"type\":\"ColumnDataSource\"},\"glyph\":{\"id\":\"20972\",\"type\":\"Line\"},\"hover_glyph\":null,\"muted_glyph\":null,\"nonselection_glyph\":{\"id\":\"20973\",\"type\":\"Line\"},\"selection_glyph\":null,\"view\":{\"id\":\"20975\",\"type\":\"CDSView\"}},\"id\":\"20974\",\"type\":\"GlyphRenderer\"},{\"attributes\":{\"formatter\":{\"id\":\"20953\",\"type\":\"DatetimeTickFormatter\"},\"ticker\":{\"id\":\"20924\",\"type\":\"DatetimeTicker\"}},\"id\":\"20923\",\"type\":\"DatetimeAxis\"},{\"attributes\":{\"callback\":null,\"data\":{\"x\":{\"__ndarray__\":\"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\",\"dtype\":\"float64\",\"shape\":[365]},\"y\":{\"__ndarray__\":\"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\",\"dtype\":\"float64\",\"shape\":[365]}},\"selected\":{\"id\":\"21817\",\"type\":\"Selection\"},\"selection_policy\":{\"id\":\"21816\",\"type\":\"UnionRenderers\"}},\"id\":\"20997\",\"type\":\"ColumnDataSource\"},{\"attributes\":{},\"id\":\"20937\",\"type\":\"ResetTool\"},{\"attributes\":{},\"id\":\"21817\",\"type\":\"Selection\"},{\"attributes\":{\"callback\":null,\"data\":{\"x\":{\"__ndarray__\":\"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\",\"dtype\":\"float64\",\"shape\":[730]},\"y\":{\"__ndarray__\":\"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\",\"dtype\":\"float64\",\"shape\":[730]}},\"selected\":{\"id\":\"20994\",\"type\":\"Selection\"},\"selection_policy\":{\"id\":\"20993\",\"type\":\"UnionRenderers\"}},\"id\":\"20946\",\"type\":\"ColumnDataSource\"},{\"attributes\":{},\"id\":\"21819\",\"type\":\"Selection\"},{\"attributes\":{\"ticker\":{\"id\":\"20924\",\"type\":\"DatetimeTicker\"}},\"id\":\"20927\",\"type\":\"Grid\"},{\"attributes\":{},\"id\":\"20919\",\"type\":\"LinearScale\"},{\"attributes\":{\"overlay\":{\"id\":\"20968\",\"type\":\"BoxAnnotation\"}},\"id\":\"20935\",\"type\":\"BoxZoomTool\"},{\"attributes\":{\"source\":{\"id\":\"21025\",\"type\":\"ColumnDataSource\"}},\"id\":\"21030\",\"type\":\"CDSView\"},{\"attributes\":{\"months\":[0,2,4,6,8,10]},\"id\":\"20964\",\"type\":\"MonthsTicker\"},{\"attributes\":{\"days\":[1,15]},\"id\":\"20962\",\"type\":\"DaysTicker\"},{\"attributes\":{},\"id\":\"20967\",\"type\":\"YearsTicker\"},{\"attributes\":{\"months\":[0,1,2,3,4,5,6,7,8,9,10,11]},\"id\":\"20963\",\"type\":\"MonthsTicker\"},{\"attributes\":{\"days\":[1,2,3,4,5,6,7,8,9,10,11,12,13,14,15,16,17,18,19,20,21,22,23,24,25,26,27,28,29,30,31]},\"id\":\"20959\",\"type\":\"DaysTicker\"}],\"root_ids\":[\"20912\"]},\"title\":\"Bokeh Application\",\"version\":\"1.3.4\"}};\n",
       "  var render_items = [{\"docid\":\"7c140f1e-a994-4a58-b87b-99b5e7a2adc6\",\"notebook_comms_target\":\"21821\",\"roots\":{\"20912\":\"f806bef4-29cc-4d7e-abed-4e4cb2a48690\"}}];\n",
       "  root.Bokeh.embed.embed_items_notebook(docs_json, render_items);\n",
       "\n",
       "  }\n",
       "  if (root.Bokeh !== undefined) {\n",
       "    embed_document(root);\n",
       "  } else {\n",
       "    var attempts = 0;\n",
       "    var timer = setInterval(function(root) {\n",
       "      if (root.Bokeh !== undefined) {\n",
       "        embed_document(root);\n",
       "        clearInterval(timer);\n",
       "      }\n",
       "      attempts++;\n",
       "      if (attempts > 100) {\n",
       "        console.log(\"Bokeh: ERROR: Unable to run BokehJS code because BokehJS library is missing\");\n",
       "        clearInterval(timer);\n",
       "      }\n",
       "    }, 10, root)\n",
       "  }\n",
       "})(window);"
      ],
      "application/vnd.bokehjs_exec.v0+json": ""
     },
     "metadata": {
      "application/vnd.bokehjs_exec.v0+json": {
       "id": "20912"
      }
     },
     "output_type": "display_data"
    }
   ],
   "source": [
    "build_figure(sample_data, 90)"
   ]
  },
  {
   "cell_type": "markdown",
   "metadata": {},
   "source": [
    "### the long flat\n"
   ]
  },
  {
   "cell_type": "code",
   "execution_count": 330,
   "metadata": {},
   "outputs": [],
   "source": [
    "fakedata = data.copy() "
   ]
  },
  {
   "cell_type": "code",
   "execution_count": 331,
   "metadata": {},
   "outputs": [],
   "source": [
    "pi = 3.14\n",
    "for i in range(len(fakedata)):\n",
    "    fakedata['temperature'][i] = 0.5*np.sin(pi*i/10)+4.0\n",
    "    #pi = 0.9995*pi\n",
    "for i in range(200,260):\n",
    "    fakedata['temperature'][i] = 4"
   ]
  },
  {
   "cell_type": "code",
   "execution_count": 332,
   "metadata": {},
   "outputs": [],
   "source": [
    "w = fakedata.apply(extract_all2, axis=1)\n",
    "series = []\n",
    "for x in w:\n",
    "    series.append(x)\n",
    "sample_data = {'granularity': 'daily','series':series}"
   ]
  },
  {
   "cell_type": "code",
   "execution_count": 333,
   "metadata": {},
   "outputs": [
    {
     "name": "stdout",
     "output_type": "stream",
     "text": [
      "got a bad one at  261\n",
      "got a bad one at  262\n",
      "got a bad one at  263\n",
      "got a bad one at  264\n",
      "got a bad one at  265\n"
     ]
    }
   ],
   "source": [
    "window_size = 18\n",
    "anoms = []\n",
    "for i in range( len(series)-window_size+1):\n",
    "    sample = {'granularity': 'daily','series':series[i: i+window_size],  \"sensitivity\": 99}\n",
    "    result =  detect(nendpoint, subscription_key, sample)\n",
    "    isanom = result[\"isAnomaly\"]\n",
    "    #print(result)\n",
    "    if(isanom == True):\n",
    "        print('got a bad one at ', i+window_size-1)\n",
    "        anoms.append(i+window_size-1)\n",
    "    #print(isanom)\n",
    "    time.sleep(0.01)"
   ]
  },
  {
   "cell_type": "code",
   "execution_count": 335,
   "metadata": {},
   "outputs": [
    {
     "name": "stdout",
     "output_type": "stream",
     "text": [
      "[4.134613837692779, 4.276762562182332, 4.3918470742184645, 4.468613425076003, 4.499554743838239]\n"
     ]
    },
    {
     "data": {
      "text/html": [
       "\n",
       "\n",
       "\n",
       "\n",
       "\n",
       "\n",
       "  <div class=\"bk-root\" id=\"30fa91a4-fd00-42ec-9448-38af6308f3ab\" data-root-id=\"110060\"></div>\n"
      ]
     },
     "metadata": {},
     "output_type": "display_data"
    },
    {
     "data": {
      "application/javascript": [
       "(function(root) {\n",
       "  function embed_document(root) {\n",
       "    \n",
       "  var docs_json = {\"99036ecf-401a-481b-b895-028edfbca4fc\":{\"roots\":{\"references\":[{\"attributes\":{\"below\":[{\"id\":\"110071\",\"type\":\"DatetimeAxis\"}],\"center\":[{\"id\":\"110075\",\"type\":\"Grid\"},{\"id\":\"110080\",\"type\":\"Grid\"},{\"id\":\"110117\",\"type\":\"Legend\"}],\"left\":[{\"id\":\"110076\",\"type\":\"LinearAxis\"}],\"plot_width\":800,\"renderers\":[{\"id\":\"110097\",\"type\":\"GlyphRenderer\"},{\"id\":\"110123\",\"type\":\"GlyphRenderer\"}],\"title\":{\"id\":\"110061\",\"type\":\"Title\"},\"toolbar\":{\"id\":\"110087\",\"type\":\"Toolbar\"},\"x_range\":{\"id\":\"110063\",\"type\":\"DataRange1d\"},\"x_scale\":{\"id\":\"110067\",\"type\":\"LinearScale\"},\"y_range\":{\"id\":\"110065\",\"type\":\"DataRange1d\"},\"y_scale\":{\"id\":\"110069\",\"type\":\"LinearScale\"}},\"id\":\"110060\",\"subtype\":\"Figure\",\"type\":\"Plot\"},{\"attributes\":{\"callback\":null,\"data\":{\"x\":{\"__ndarray__\":\"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\",\"dtype\":\"float64\",\"shape\":[365]},\"y\":{\"__ndarray__\":\"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\",\"dtype\":\"float64\",\"shape\":[365]}},\"selected\":{\"id\":\"112188\",\"type\":\"Selection\"},\"selection_policy\":{\"id\":\"112189\",\"type\":\"UnionRenderers\"}},\"id\":\"110094\",\"type\":\"ColumnDataSource\"},{\"attributes\":{\"fill_color\":{\"value\":\"tomato\"},\"line_color\":{\"value\":\"tomato\"},\"size\":{\"units\":\"screen\",\"value\":5},\"x\":{\"field\":\"x\"},\"y\":{\"field\":\"y\"}},\"id\":\"110121\",\"type\":\"Circle\"},{\"attributes\":{\"active_drag\":\"auto\",\"active_inspect\":\"auto\",\"active_multi\":null,\"active_scroll\":\"auto\",\"active_tap\":\"auto\",\"tools\":[{\"id\":\"110081\",\"type\":\"PanTool\"},{\"id\":\"110082\",\"type\":\"WheelZoomTool\"},{\"id\":\"110083\",\"type\":\"BoxZoomTool\"},{\"id\":\"110084\",\"type\":\"SaveTool\"},{\"id\":\"110085\",\"type\":\"ResetTool\"},{\"id\":\"110086\",\"type\":\"HelpTool\"}]},\"id\":\"110087\",\"type\":\"Toolbar\"},{\"attributes\":{},\"id\":\"110084\",\"type\":\"SaveTool\"},{\"attributes\":{\"dimension\":1,\"ticker\":{\"id\":\"110077\",\"type\":\"BasicTicker\"}},\"id\":\"110080\",\"type\":\"Grid\"},{\"attributes\":{},\"id\":\"110085\",\"type\":\"ResetTool\"},{\"attributes\":{\"source\":{\"id\":\"110119\",\"type\":\"ColumnDataSource\"}},\"id\":\"110124\",\"type\":\"CDSView\"},{\"attributes\":{},\"id\":\"110115\",\"type\":\"YearsTicker\"},{\"attributes\":{\"ticker\":{\"id\":\"110072\",\"type\":\"DatetimeTicker\"}},\"id\":\"110075\",\"type\":\"Grid\"},{\"attributes\":{\"overlay\":{\"id\":\"110116\",\"type\":\"BoxAnnotation\"}},\"id\":\"110083\",\"type\":\"BoxZoomTool\"},{\"attributes\":{\"days\":[1,2,3,4,5,6,7,8,9,10,11,12,13,14,15,16,17,18,19,20,21,22,23,24,25,26,27,28,29,30,31]},\"id\":\"110107\",\"type\":\"DaysTicker\"},{\"attributes\":{\"formatter\":{\"id\":\"110103\",\"type\":\"DatetimeTickFormatter\"},\"ticker\":{\"id\":\"110072\",\"type\":\"DatetimeTicker\"}},\"id\":\"110071\",\"type\":\"DatetimeAxis\"},{\"attributes\":{\"base\":24,\"mantissas\":[1,2,4,6,8,12],\"max_interval\":43200000.0,\"min_interval\":3600000.0,\"num_minor_ticks\":0},\"id\":\"110106\",\"type\":\"AdaptiveTicker\"},{\"attributes\":{\"background_fill_alpha\":{\"value\":0.1},\"items\":[{\"id\":\"110118\",\"type\":\"LegendItem\"}]},\"id\":\"110117\",\"type\":\"Legend\"},{\"attributes\":{},\"id\":\"110082\",\"type\":\"WheelZoomTool\"},{\"attributes\":{\"data_source\":{\"id\":\"110119\",\"type\":\"ColumnDataSource\"},\"glyph\":{\"id\":\"110121\",\"type\":\"Circle\"},\"hover_glyph\":null,\"muted_glyph\":null,\"nonselection_glyph\":{\"id\":\"110122\",\"type\":\"Circle\"},\"selection_glyph\":null,\"view\":{\"id\":\"110124\",\"type\":\"CDSView\"}},\"id\":\"110123\",\"type\":\"GlyphRenderer\"},{\"attributes\":{\"callback\":null},\"id\":\"110063\",\"type\":\"DataRange1d\"},{\"attributes\":{\"text\":\"Batch Anomaly Detection (0 Sensitvity)\"},\"id\":\"110061\",\"type\":\"Title\"},{\"attributes\":{\"days\":[1,4,7,10,13,16,19,22,25,28]},\"id\":\"110108\",\"type\":\"DaysTicker\"},{\"attributes\":{},\"id\":\"112190\",\"type\":\"Selection\"},{\"attributes\":{\"num_minor_ticks\":5,\"tickers\":[{\"id\":\"110104\",\"type\":\"AdaptiveTicker\"},{\"id\":\"110105\",\"type\":\"AdaptiveTicker\"},{\"id\":\"110106\",\"type\":\"AdaptiveTicker\"},{\"id\":\"110107\",\"type\":\"DaysTicker\"},{\"id\":\"110108\",\"type\":\"DaysTicker\"},{\"id\":\"110109\",\"type\":\"DaysTicker\"},{\"id\":\"110110\",\"type\":\"DaysTicker\"},{\"id\":\"110111\",\"type\":\"MonthsTicker\"},{\"id\":\"110112\",\"type\":\"MonthsTicker\"},{\"id\":\"110113\",\"type\":\"MonthsTicker\"},{\"id\":\"110114\",\"type\":\"MonthsTicker\"},{\"id\":\"110115\",\"type\":\"YearsTicker\"}]},\"id\":\"110072\",\"type\":\"DatetimeTicker\"},{\"attributes\":{\"days\":[1,8,15,22]},\"id\":\"110109\",\"type\":\"DaysTicker\"},{\"attributes\":{},\"id\":\"110077\",\"type\":\"BasicTicker\"},{\"attributes\":{},\"id\":\"110067\",\"type\":\"LinearScale\"},{\"attributes\":{\"fill_alpha\":{\"value\":0.1},\"fill_color\":{\"value\":\"#1f77b4\"},\"line_alpha\":{\"value\":0.1},\"line_color\":{\"value\":\"#1f77b4\"},\"size\":{\"units\":\"screen\",\"value\":5},\"x\":{\"field\":\"x\"},\"y\":{\"field\":\"y\"}},\"id\":\"110122\",\"type\":\"Circle\"},{\"attributes\":{\"callback\":null,\"data\":{\"x\":[1442620800000.0,1442707200000.0,1442793600000.0,1442880000000.0,1442966400000.0],\"y\":[4.134613837692779,4.276762562182332,4.3918470742184645,4.468613425076003,4.499554743838239]},\"selected\":{\"id\":\"112190\",\"type\":\"Selection\"},\"selection_policy\":{\"id\":\"112191\",\"type\":\"UnionRenderers\"}},\"id\":\"110119\",\"type\":\"ColumnDataSource\"},{\"attributes\":{},\"id\":\"110081\",\"type\":\"PanTool\"},{\"attributes\":{},\"id\":\"112189\",\"type\":\"UnionRenderers\"},{\"attributes\":{\"base\":60,\"mantissas\":[1,2,5,10,15,20,30],\"max_interval\":1800000.0,\"min_interval\":1000.0,\"num_minor_ticks\":0},\"id\":\"110105\",\"type\":\"AdaptiveTicker\"},{\"attributes\":{\"months\":[0,1,2,3,4,5,6,7,8,9,10,11]},\"id\":\"110111\",\"type\":\"MonthsTicker\"},{\"attributes\":{\"days\":[1,15]},\"id\":\"110110\",\"type\":\"DaysTicker\"},{\"attributes\":{},\"id\":\"110086\",\"type\":\"HelpTool\"},{\"attributes\":{},\"id\":\"112188\",\"type\":\"Selection\"},{\"attributes\":{\"line_color\":\"#2222aa\",\"x\":{\"field\":\"x\"},\"y\":{\"field\":\"y\"}},\"id\":\"110095\",\"type\":\"Line\"},{\"attributes\":{\"months\":[0,4,8]},\"id\":\"110113\",\"type\":\"MonthsTicker\"},{\"attributes\":{\"line_alpha\":0.1,\"line_color\":\"#1f77b4\",\"x\":{\"field\":\"x\"},\"y\":{\"field\":\"y\"}},\"id\":\"110096\",\"type\":\"Line\"},{\"attributes\":{\"months\":[0,2,4,6,8,10]},\"id\":\"110112\",\"type\":\"MonthsTicker\"},{\"attributes\":{\"bottom_units\":\"screen\",\"fill_alpha\":{\"value\":0.5},\"fill_color\":{\"value\":\"lightgrey\"},\"left_units\":\"screen\",\"level\":\"overlay\",\"line_alpha\":{\"value\":1.0},\"line_color\":{\"value\":\"black\"},\"line_dash\":[4,4],\"line_width\":{\"value\":2},\"render_mode\":\"css\",\"right_units\":\"screen\",\"top_units\":\"screen\"},\"id\":\"110116\",\"type\":\"BoxAnnotation\"},{\"attributes\":{},\"id\":\"110103\",\"type\":\"DatetimeTickFormatter\"},{\"attributes\":{},\"id\":\"110069\",\"type\":\"LinearScale\"},{\"attributes\":{\"formatter\":{\"id\":\"110101\",\"type\":\"BasicTickFormatter\"},\"ticker\":{\"id\":\"110077\",\"type\":\"BasicTicker\"}},\"id\":\"110076\",\"type\":\"LinearAxis\"},{\"attributes\":{\"mantissas\":[1,2,5],\"max_interval\":500.0,\"num_minor_ticks\":0},\"id\":\"110104\",\"type\":\"AdaptiveTicker\"},{\"attributes\":{\"data_source\":{\"id\":\"110094\",\"type\":\"ColumnDataSource\"},\"glyph\":{\"id\":\"110095\",\"type\":\"Line\"},\"hover_glyph\":null,\"muted_glyph\":null,\"nonselection_glyph\":{\"id\":\"110096\",\"type\":\"Line\"},\"selection_glyph\":null,\"view\":{\"id\":\"110098\",\"type\":\"CDSView\"}},\"id\":\"110097\",\"type\":\"GlyphRenderer\"},{\"attributes\":{\"months\":[0,6]},\"id\":\"110114\",\"type\":\"MonthsTicker\"},{\"attributes\":{},\"id\":\"112191\",\"type\":\"UnionRenderers\"},{\"attributes\":{\"label\":{\"value\":\"Value\"},\"renderers\":[{\"id\":\"110097\",\"type\":\"GlyphRenderer\"}]},\"id\":\"110118\",\"type\":\"LegendItem\"},{\"attributes\":{\"callback\":null},\"id\":\"110065\",\"type\":\"DataRange1d\"},{\"attributes\":{},\"id\":\"110101\",\"type\":\"BasicTickFormatter\"},{\"attributes\":{\"source\":{\"id\":\"110094\",\"type\":\"ColumnDataSource\"}},\"id\":\"110098\",\"type\":\"CDSView\"}],\"root_ids\":[\"110060\"]},\"title\":\"Bokeh Application\",\"version\":\"1.3.4\"}};\n",
       "  var render_items = [{\"docid\":\"99036ecf-401a-481b-b895-028edfbca4fc\",\"notebook_comms_target\":\"112193\",\"roots\":{\"110060\":\"30fa91a4-fd00-42ec-9448-38af6308f3ab\"}}];\n",
       "  root.Bokeh.embed.embed_items_notebook(docs_json, render_items);\n",
       "\n",
       "  }\n",
       "  if (root.Bokeh !== undefined) {\n",
       "    embed_document(root);\n",
       "  } else {\n",
       "    var attempts = 0;\n",
       "    var timer = setInterval(function(root) {\n",
       "      if (root.Bokeh !== undefined) {\n",
       "        embed_document(root);\n",
       "        clearInterval(timer);\n",
       "      }\n",
       "      attempts++;\n",
       "      if (attempts > 100) {\n",
       "        console.log(\"Bokeh: ERROR: Unable to run BokehJS code because BokehJS library is missing\");\n",
       "        clearInterval(timer);\n",
       "      }\n",
       "    }, 10, root)\n",
       "  }\n",
       "})(window);"
      ],
      "application/vnd.bokehjs_exec.v0+json": ""
     },
     "metadata": {
      "application/vnd.bokehjs_exec.v0+json": {
       "id": "110060"
      }
     },
     "output_type": "display_data"
    }
   ],
   "source": [
    "show_windows(series,anoms, 0)"
   ]
  },
  {
   "cell_type": "code",
   "execution_count": 336,
   "metadata": {},
   "outputs": [
    {
     "name": "stdout",
     "output_type": "stream",
     "text": [
      "[201, 202, 203, 204, 205, 206, 207, 208, 209, 211, 212, 213, 214, 215, 216, 217, 218, 219, 221, 222, 223, 224, 225, 226, 227, 228, 229, 231, 232, 233, 234, 235, 236, 237, 238, 239, 241, 242, 243, 244, 245, 246, 247, 248, 249, 251, 252, 253, 254, 255, 256, 257, 258, 259]\n"
     ]
    },
    {
     "data": {
      "text/html": [
       "\n",
       "\n",
       "\n",
       "\n",
       "\n",
       "\n",
       "  <div class=\"bk-root\" id=\"5a431c3a-976a-4e66-82bd-533bef3fea01\" data-root-id=\"112326\"></div>\n"
      ]
     },
     "metadata": {},
     "output_type": "display_data"
    },
    {
     "data": {
      "application/javascript": [
       "(function(root) {\n",
       "  function embed_document(root) {\n",
       "    \n",
       "  var docs_json = {\"51fd2e5d-d719-4acd-abd2-0a137d2d3d9a\":{\"roots\":{\"references\":[{\"attributes\":{\"below\":[{\"id\":\"112337\",\"type\":\"DatetimeAxis\"}],\"center\":[{\"id\":\"112341\",\"type\":\"Grid\"},{\"id\":\"112346\",\"type\":\"Grid\"},{\"id\":\"112383\",\"type\":\"Legend\"}],\"left\":[{\"id\":\"112342\",\"type\":\"LinearAxis\"}],\"plot_width\":800,\"renderers\":[{\"id\":\"112363\",\"type\":\"GlyphRenderer\"},{\"id\":\"112388\",\"type\":\"GlyphRenderer\"},{\"id\":\"112414\",\"type\":\"GlyphRenderer\"},{\"id\":\"112443\",\"type\":\"GlyphRenderer\"}],\"title\":{\"id\":\"112327\",\"type\":\"Title\"},\"toolbar\":{\"id\":\"112353\",\"type\":\"Toolbar\"},\"x_range\":{\"id\":\"112329\",\"type\":\"DataRange1d\"},\"x_scale\":{\"id\":\"112333\",\"type\":\"LinearScale\"},\"y_range\":{\"id\":\"112331\",\"type\":\"DataRange1d\"},\"y_scale\":{\"id\":\"112335\",\"type\":\"LinearScale\"}},\"id\":\"112326\",\"subtype\":\"Figure\",\"type\":\"Plot\"},{\"attributes\":{\"data_source\":{\"id\":\"112439\",\"type\":\"ColumnDataSource\"},\"glyph\":{\"id\":\"112441\",\"type\":\"Circle\"},\"hover_glyph\":null,\"muted_glyph\":null,\"nonselection_glyph\":{\"id\":\"112442\",\"type\":\"Circle\"},\"selection_glyph\":null,\"view\":{\"id\":\"112444\",\"type\":\"CDSView\"}},\"id\":\"112443\",\"type\":\"GlyphRenderer\"},{\"attributes\":{\"callback\":null},\"id\":\"112331\",\"type\":\"DataRange1d\"},{\"attributes\":{},\"id\":\"112369\",\"type\":\"DatetimeTickFormatter\"},{\"attributes\":{\"label\":{\"value\":\"ExpectedValue\"},\"renderers\":[{\"id\":\"112414\",\"type\":\"GlyphRenderer\"}]},\"id\":\"112438\",\"type\":\"LegendItem\"},{\"attributes\":{},\"id\":\"112348\",\"type\":\"WheelZoomTool\"},{\"attributes\":{\"num_minor_ticks\":5,\"tickers\":[{\"id\":\"112370\",\"type\":\"AdaptiveTicker\"},{\"id\":\"112371\",\"type\":\"AdaptiveTicker\"},{\"id\":\"112372\",\"type\":\"AdaptiveTicker\"},{\"id\":\"112373\",\"type\":\"DaysTicker\"},{\"id\":\"112374\",\"type\":\"DaysTicker\"},{\"id\":\"112375\",\"type\":\"DaysTicker\"},{\"id\":\"112376\",\"type\":\"DaysTicker\"},{\"id\":\"112377\",\"type\":\"MonthsTicker\"},{\"id\":\"112378\",\"type\":\"MonthsTicker\"},{\"id\":\"112379\",\"type\":\"MonthsTicker\"},{\"id\":\"112380\",\"type\":\"MonthsTicker\"},{\"id\":\"112381\",\"type\":\"YearsTicker\"}]},\"id\":\"112338\",\"type\":\"DatetimeTicker\"},{\"attributes\":{\"months\":[0,4,8]},\"id\":\"112379\",\"type\":\"MonthsTicker\"},{\"attributes\":{},\"id\":\"112408\",\"type\":\"UnionRenderers\"},{\"attributes\":{\"source\":{\"id\":\"112385\",\"type\":\"ColumnDataSource\"}},\"id\":\"112389\",\"type\":\"CDSView\"},{\"attributes\":{\"months\":[0,6]},\"id\":\"112380\",\"type\":\"MonthsTicker\"},{\"attributes\":{},\"id\":\"112367\",\"type\":\"BasicTickFormatter\"},{\"attributes\":{},\"id\":\"112347\",\"type\":\"PanTool\"},{\"attributes\":{\"base\":60,\"mantissas\":[1,2,5,10,15,20,30],\"max_interval\":1800000.0,\"min_interval\":1000.0,\"num_minor_ticks\":0},\"id\":\"112371\",\"type\":\"AdaptiveTicker\"},{\"attributes\":{\"base\":24,\"mantissas\":[1,2,4,6,8,12],\"max_interval\":43200000.0,\"min_interval\":3600000.0,\"num_minor_ticks\":0},\"id\":\"112372\",\"type\":\"AdaptiveTicker\"},{\"attributes\":{},\"id\":\"112352\",\"type\":\"HelpTool\"},{\"attributes\":{\"days\":[1,4,7,10,13,16,19,22,25,28]},\"id\":\"112374\",\"type\":\"DaysTicker\"},{\"attributes\":{\"months\":[0,1,2,3,4,5,6,7,8,9,10,11]},\"id\":\"112377\",\"type\":\"MonthsTicker\"},{\"attributes\":{\"months\":[0,2,4,6,8,10]},\"id\":\"112378\",\"type\":\"MonthsTicker\"},{\"attributes\":{},\"id\":\"112335\",\"type\":\"LinearScale\"},{\"attributes\":{\"line_color\":\"olivedrab\",\"line_dash\":[2,4,6,4],\"x\":{\"field\":\"x\"},\"y\":{\"field\":\"y\"}},\"id\":\"112412\",\"type\":\"Line\"},{\"attributes\":{\"fill_alpha\":{\"value\":0.1},\"fill_color\":{\"value\":\"#1f77b4\"},\"line_alpha\":{\"value\":0.1},\"line_color\":{\"value\":\"#1f77b4\"},\"size\":{\"units\":\"screen\",\"value\":5},\"x\":{\"field\":\"x\"},\"y\":{\"field\":\"y\"}},\"id\":\"112442\",\"type\":\"Circle\"},{\"attributes\":{},\"id\":\"114534\",\"type\":\"Selection\"},{\"attributes\":{\"source\":{\"id\":\"112411\",\"type\":\"ColumnDataSource\"}},\"id\":\"112415\",\"type\":\"CDSView\"},{\"attributes\":{},\"id\":\"112435\",\"type\":\"Selection\"},{\"attributes\":{},\"id\":\"114537\",\"type\":\"UnionRenderers\"},{\"attributes\":{\"mantissas\":[1,2,5],\"max_interval\":500.0,\"num_minor_ticks\":0},\"id\":\"112370\",\"type\":\"AdaptiveTicker\"},{\"attributes\":{\"days\":[1,15]},\"id\":\"112376\",\"type\":\"DaysTicker\"},{\"attributes\":{\"bottom_units\":\"screen\",\"fill_alpha\":{\"value\":0.5},\"fill_color\":{\"value\":\"lightgrey\"},\"left_units\":\"screen\",\"level\":\"overlay\",\"line_alpha\":{\"value\":1.0},\"line_color\":{\"value\":\"black\"},\"line_dash\":[4,4],\"line_width\":{\"value\":2},\"render_mode\":\"css\",\"right_units\":\"screen\",\"top_units\":\"screen\"},\"id\":\"112382\",\"type\":\"BoxAnnotation\"},{\"attributes\":{\"callback\":null},\"id\":\"112329\",\"type\":\"DataRange1d\"},{\"attributes\":{},\"id\":\"112333\",\"type\":\"LinearScale\"},{\"attributes\":{},\"id\":\"112381\",\"type\":\"YearsTicker\"},{\"attributes\":{\"data_source\":{\"id\":\"112360\",\"type\":\"ColumnDataSource\"},\"glyph\":{\"id\":\"112361\",\"type\":\"Patch\"},\"hover_glyph\":null,\"muted_glyph\":null,\"nonselection_glyph\":{\"id\":\"112362\",\"type\":\"Patch\"},\"selection_glyph\":null,\"view\":{\"id\":\"112364\",\"type\":\"CDSView\"}},\"id\":\"112363\",\"type\":\"GlyphRenderer\"},{\"attributes\":{\"callback\":null,\"data\":{\"x\":{\"__ndarray__\":\"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\",\"dtype\":\"float64\",\"shape\":[730]},\"y\":{\"__ndarray__\":\"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\",\"dtype\":\"float64\",\"shape\":[730]}},\"selected\":{\"id\":\"112407\",\"type\":\"Selection\"},\"selection_policy\":{\"id\":\"112408\",\"type\":\"UnionRenderers\"}},\"id\":\"112360\",\"type\":\"ColumnDataSource\"},{\"attributes\":{\"fill_color\":{\"value\":\"tomato\"},\"line_color\":{\"value\":\"tomato\"},\"size\":{\"units\":\"screen\",\"value\":5},\"x\":{\"field\":\"x\"},\"y\":{\"field\":\"y\"}},\"id\":\"112441\",\"type\":\"Circle\"},{\"attributes\":{\"line_alpha\":0.1,\"line_color\":\"#1f77b4\",\"line_dash\":[2,4,6,4],\"x\":{\"field\":\"x\"},\"y\":{\"field\":\"y\"}},\"id\":\"112413\",\"type\":\"Line\"},{\"attributes\":{},\"id\":\"112407\",\"type\":\"Selection\"},{\"attributes\":{\"dimension\":1,\"ticker\":{\"id\":\"112343\",\"type\":\"BasicTicker\"}},\"id\":\"112346\",\"type\":\"Grid\"},{\"attributes\":{},\"id\":\"112343\",\"type\":\"BasicTicker\"},{\"attributes\":{\"callback\":null,\"data\":{\"x\":[1437436800000.0,1437523200000.0,1437609600000.0,1437696000000.0,1437782400000.0,1437868800000.0,1437955200000.0,1438041600000.0,1438128000000.0,1438300800000.0,1438387200000.0,1438473600000.0,1438560000000.0,1438646400000.0,1438732800000.0,1438819200000.0,1438905600000.0,1438992000000.0,1439164800000.0,1439251200000.0,1439337600000.0,1439424000000.0,1439510400000.0,1439596800000.0,1439683200000.0,1439769600000.0,1439856000000.0,1440028800000.0,1440115200000.0,1440201600000.0,1440288000000.0,1440374400000.0,1440460800000.0,1440547200000.0,1440633600000.0,1440720000000.0,1440892800000.0,1440979200000.0,1441065600000.0,1441152000000.0,1441238400000.0,1441324800000.0,1441411200000.0,1441497600000.0,1441584000000.0,1441756800000.0,1441843200000.0,1441929600000.0,1442016000000.0,1442102400000.0,1442188800000.0,1442275200000.0,1442361600000.0,1442448000000.0],\"y\":[4.0,4.0,4.0,4.0,4.0,4.0,4.0,4.0,4.0,4.0,4.0,4.0,4.0,4.0,4.0,4.0,4.0,4.0,4.0,4.0,4.0,4.0,4.0,4.0,4.0,4.0,4.0,4.0,4.0,4.0,4.0,4.0,4.0,4.0,4.0,4.0,4.0,4.0,4.0,4.0,4.0,4.0,4.0,4.0,4.0,4.0,4.0,4.0,4.0,4.0,4.0,4.0,4.0,4.0]},\"selected\":{\"id\":\"114536\",\"type\":\"Selection\"},\"selection_policy\":{\"id\":\"114537\",\"type\":\"UnionRenderers\"}},\"id\":\"112439\",\"type\":\"ColumnDataSource\"},{\"attributes\":{\"formatter\":{\"id\":\"112367\",\"type\":\"BasicTickFormatter\"},\"ticker\":{\"id\":\"112343\",\"type\":\"BasicTicker\"}},\"id\":\"112342\",\"type\":\"LinearAxis\"},{\"attributes\":{\"label\":{\"value\":\"Boundary\"},\"renderers\":[{\"id\":\"112363\",\"type\":\"GlyphRenderer\"}]},\"id\":\"112384\",\"type\":\"LegendItem\"},{\"attributes\":{\"background_fill_alpha\":{\"value\":0.1},\"items\":[{\"id\":\"112384\",\"type\":\"LegendItem\"},{\"id\":\"112410\",\"type\":\"LegendItem\"},{\"id\":\"112438\",\"type\":\"LegendItem\"}]},\"id\":\"112383\",\"type\":\"Legend\"},{\"attributes\":{\"formatter\":{\"id\":\"112369\",\"type\":\"DatetimeTickFormatter\"},\"ticker\":{\"id\":\"112338\",\"type\":\"DatetimeTicker\"}},\"id\":\"112337\",\"type\":\"DatetimeAxis\"},{\"attributes\":{\"days\":[1,2,3,4,5,6,7,8,9,10,11,12,13,14,15,16,17,18,19,20,21,22,23,24,25,26,27,28,29,30,31]},\"id\":\"112373\",\"type\":\"DaysTicker\"},{\"attributes\":{},\"id\":\"112436\",\"type\":\"UnionRenderers\"},{\"attributes\":{\"text\":\"Batch Anomaly Detection (98 Sensitvity)\"},\"id\":\"112327\",\"type\":\"Title\"},{\"attributes\":{\"callback\":null,\"data\":{\"x\":{\"__ndarray__\":\"AAAAqyyqdEIAAMAQf6p0QgAAgHbRqnRCAABA3COrdEIAAABCdqt0QgAAwKfIq3RCAACADRusdEIAAEBzbax0QgAAANm/rHRCAADAPhKtdEIAAICkZK10QgAAQAq3rXRCAAAAcAmudEIAAMDVW650QgAAgDuurnRCAABAoQCvdEIAAAAHU690QgAAwGylr3RCAACA0vevdEIAAEA4SrB0QgAAAJ6csHRCAADAA++wdEIAAIBpQbF0QgAAQM+TsXRCAAAANeaxdEIAAMCaOLJ0QgAAgACLsnRCAABAZt2ydEIAAADML7N0QgAAwDGCs3RCAACAl9SzdEIAAED9JrR0QgAAAGN5tHRCAADAyMu0dEIAAIAuHrV0QgAAQJRwtXRCAAAA+sK1dEIAAMBfFbZ0QgAAgMVntnRCAABAK7q2dEIAAACRDLd0QgAAwPZet3RCAACAXLG3dEIAAEDCA7h0QgAAAChWuHRCAADAjai4dEIAAIDz+rh0QgAAQFlNuXRCAAAAv5+5dEIAAMAk8rl0QgAAgIpEunRCAABA8Ja6dEIAAABW6bp0QgAAwLs7u3RCAACAIY67dEIAAECH4Lt0QgAAAO0yvHRCAADAUoW8dEIAAIC417x0QgAAQB4qvXRCAAAAhHy9dEIAAMDpzr10QgAAgE8hvnRCAABAtXO+dEIAAAAbxr50QgAAwIAYv3RCAACA5mq/dEIAAEBMvb90QgAAALIPwHRCAADAF2LAdEIAAIB9tMB0QgAAQOMGwXRCAAAASVnBdEIAAMCuq8F0QgAAgBT+wXRCAABAelDCdEIAAADgosJ0QgAAwEX1wnRCAACAq0fDdEIAAEARmsN0QgAAAHfsw3RCAADA3D7EdEIAAIBCkcR0QgAAQKjjxHRCAAAADjbFdEIAAMBziMV0QgAAgNnaxXRCAABAPy3GdEIAAAClf8Z0QgAAwArSxnRCAACAcCTHdEIAAEDWdsd0QgAAADzJx3RCAADAoRvIdEIAAIAHbsh0QgAAQG3AyHRCAAAA0xLJdEIAAMA4Zcl0QgAAgJ63yXRCAABABArKdEIAAABqXMp0QgAAwM+uynRCAACANQHLdEIAAECbU8t0QgAAAAGmy3RCAADAZvjLdEIAAIDMSsx0QgAAQDKdzHRCAAAAmO/MdEIAAMD9Qc10QgAAgGOUzXRCAABAyebNdEIAAAAvOc50QgAAwJSLznRCAACA+t3OdEIAAEBgMM90QgAAAMaCz3RCAADAK9XPdEIAAICRJ9B0QgAAQPd50HRCAAAAXczQdEIAAMDCHtF0QgAAgChx0XRCAABAjsPRdEIAAAD0FdJ0QgAAwFlo0nRCAACAv7rSdEIAAEAlDdN0QgAAAItf03RCAADA8LHTdEIAAIBWBNR0QgAAQLxW1HRCAAAAIqnUdEIAAMCH+9R0QgAAgO1N1XRCAABAU6DVdEIAAAC58tV0QgAAwB5F1nRCAACAhJfWdEIAAEDq6dZ0QgAAAFA813RCAADAtY7XdEIAAIAb4dd0QgAAQIEz2HRCAAAA54XYdEIAAMBM2Nh0QgAAgLIq2XRCAABAGH3ZdEIAAAB+z9l0QgAAwOMh2nRCAACASXTadEIAAECvxtp0QgAAABUZ23RCAADAemvbdEIAAIDgvdt0QgAAQEYQ3HRCAAAArGLcdEIAAMARtdx0QgAAgHcH3XRCAABA3VnddEIAAABDrN10QgAAwKj+3XRCAACADlHedEIAAEB0o950QgAAANr13nRCAADAP0jfdEIAAIClmt90QgAAQAvt33RCAAAAcT/gdEIAAMDWkeB0QgAAgDzk4HRCAABAojbhdEIAAAAIieF0QgAAwG3b4XRCAACA0y3idEIAAEA5gOJ0QgAAAJ/S4nRCAADABCXjdEIAAIBqd+N0QgAAQNDJ43RCAAAANhzkdEIAAMCbbuR0QgAAgAHB5HRCAABAZxPldEIAAADNZeV0QgAAwDK45XRCAACAmArmdEIAAED+XOZ0QgAAAGSv5nRCAADAyQHndEIAAIAvVOd0QgAAQJWm53RCAAAA+/jndEIAAMBgS+h0QgAAgMad6HRCAABALPDodEIAAACSQul0QgAAwPeU6XRCAACAXefpdEIAAEDDOep0QgAAACmM6nRCAADAjt7qdEIAAID0MOt0QgAAQFqD63RCAAAAwNXrdEIAAMAlKOx0QgAAgIt67HRCAABA8czsdEIAAABXH+10QgAAwLxx7XRCAACAIsTtdEIAAECIFu50QgAAAO5o7nRCAADAU7vudEIAAIC5De90QgAAQB9g73RCAAAAhbLvdEIAAMDqBPB0QgAAgFBX8HRCAABAtqnwdEIAAAAc/PB0QgAAwIFO8XRCAACA56DxdEIAAEBN8/F0QgAAALNF8nRCAADAGJjydEIAAIB+6vJ0QgAAQOQ883RCAAAASo/zdEIAAMCv4fN0QgAAgBU09HRCAABAe4b0dEIAAADh2PR0QgAAwEYr9XRCAACArH31dEIAAEAS0PV0QgAAAHgi9nRCAADA3XT2dEIAAIBDx/Z0QgAAQKkZ93RCAAAAD2z3dEIAAMB0vvd0QgAAgNoQ+HRCAABAQGP4dEIAAACmtfh0QgAAwAsI+XRCAACAcVr5dEIAAEDXrPl0QgAAAD3/+XRCAADAolH6dEIAAIAIpPp0QgAAQG72+nRCAAAA1Ej7dEIAAMA5m/t0QgAAgJ/t+3RCAABABUD8dEIAAABrkvx0QgAAwNDk/HRCAACANjf9dEIAAECcif10QgAAAALc/XRCAADAZy7+dEIAAIDNgP50QgAAQDPT/nRCAAAAmSX/dEIAAMD+d/90QgAAgGTK/3RCAABAyhwAdUIAAAAwbwB1QgAAwJXBAHVCAACA+xMBdUIAAEBhZgF1QgAAAMe4AXVCAADALAsCdUIAAICSXQJ1QgAAQPivAnVCAAAAXgIDdUIAAMDDVAN1QgAAgCmnA3VCAABAj/kDdUIAAAD1SwR1QgAAwFqeBHVCAACAwPAEdUIAAEAmQwV1QgAAAIyVBXVCAADA8ecFdUIAAIBXOgZ1QgAAQL2MBnVCAAAAI98GdUIAAMCIMQd1QgAAgO6DB3VCAABAVNYHdUIAAAC6KAh1QgAAwB97CHVCAACAhc0IdUIAAEDrHwl1QgAAAFFyCXVCAADAtsQJdUIAAIAcFwp1QgAAQIJpCnVCAAAA6LsKdUIAAMBNDgt1QgAAgLNgC3VCAABAGbMLdUIAAAB/BQx1QgAAwORXDHVCAACASqoMdUIAAECw/Ax1QgAAABZPDXVCAADAe6ENdUIAAIDh8w11QgAAQEdGDnVCAAAArZgOdUIAAMAS6w51QgAAgHg9D3VCAABA3o8PdUIAAABE4g91QgAAwKk0EHVCAACAD4cQdUIAAEB12RB1QgAAANsrEXVCAADAQH4RdUIAAICm0BF1QgAAQAwjEnVCAAAAcnUSdUIAAMDXxxJ1QgAAgD0aE3VCAABAo2wTdUIAAAAJvxN1QgAAwG4RFHVCAACA1GMUdUIAAEA6thR1QgAAAKAIFXVCAADABVsVdUIAAIBrrRV1QgAAQNH/FXVCAAAAN1IWdUIAAMCcpBZ1QgAAgAL3FnVCAABAaEkXdUIAAADOmxd1QgAAwDPuF3VCAACAmUAYdUIAAED/khh1QgAAAGXlGHVCAADAyjcZdUIAAIAwihl1QgAAQJbcGXVCAAAA/C4adUIAAMBhgRp1QgAAgMfTGnVCAABALSYbdUIAAACTeBt1QgAAwPjKG3VCAACAXh0cdUIAAEDEbxx1QgAAACrCHHVCAADAjxQddUIAAID1Zh11QgAAQFu5HXVCAAAAwQsedUIAAMAmXh51QgAAgIywHnVCAABA8gIfdUIAAABYVR91Qg==\",\"dtype\":\"float64\",\"shape\":[365]},\"y\":{\"__ndarray__\":\"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\",\"dtype\":\"float64\",\"shape\":[365]}},\"selected\":{\"id\":\"112435\",\"type\":\"Selection\"},\"selection_policy\":{\"id\":\"112436\",\"type\":\"UnionRenderers\"}},\"id\":\"112385\",\"type\":\"ColumnDataSource\"},{\"attributes\":{},\"id\":\"112350\",\"type\":\"SaveTool\"},{\"attributes\":{\"active_drag\":\"auto\",\"active_inspect\":\"auto\",\"active_multi\":null,\"active_scroll\":\"auto\",\"active_tap\":\"auto\",\"tools\":[{\"id\":\"112347\",\"type\":\"PanTool\"},{\"id\":\"112348\",\"type\":\"WheelZoomTool\"},{\"id\":\"112349\",\"type\":\"BoxZoomTool\"},{\"id\":\"112350\",\"type\":\"SaveTool\"},{\"id\":\"112351\",\"type\":\"ResetTool\"},{\"id\":\"112352\",\"type\":\"HelpTool\"}]},\"id\":\"112353\",\"type\":\"Toolbar\"},{\"attributes\":{},\"id\":\"114536\",\"type\":\"Selection\"},{\"attributes\":{\"line_color\":\"#2222aa\",\"x\":{\"field\":\"x\"},\"y\":{\"field\":\"y\"}},\"id\":\"112386\",\"type\":\"Line\"},{\"attributes\":{\"callback\":null,\"data\":{\"x\":{\"__ndarray__\":\"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\",\"dtype\":\"float64\",\"shape\":[365]},\"y\":{\"__ndarray__\":\"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\",\"dtype\":\"float64\",\"shape\":[365]}},\"selected\":{\"id\":\"114534\",\"type\":\"Selection\"},\"selection_policy\":{\"id\":\"114535\",\"type\":\"UnionRenderers\"}},\"id\":\"112411\",\"type\":\"ColumnDataSource\"},{\"attributes\":{\"ticker\":{\"id\":\"112338\",\"type\":\"DatetimeTicker\"}},\"id\":\"112341\",\"type\":\"Grid\"},{\"attributes\":{\"data_source\":{\"id\":\"112385\",\"type\":\"ColumnDataSource\"},\"glyph\":{\"id\":\"112386\",\"type\":\"Line\"},\"hover_glyph\":null,\"muted_glyph\":null,\"nonselection_glyph\":{\"id\":\"112387\",\"type\":\"Line\"},\"selection_glyph\":null,\"view\":{\"id\":\"112389\",\"type\":\"CDSView\"}},\"id\":\"112388\",\"type\":\"GlyphRenderer\"},{\"attributes\":{\"label\":{\"value\":\"Value\"},\"renderers\":[{\"id\":\"112388\",\"type\":\"GlyphRenderer\"}]},\"id\":\"112410\",\"type\":\"LegendItem\"},{\"attributes\":{\"overlay\":{\"id\":\"112382\",\"type\":\"BoxAnnotation\"}},\"id\":\"112349\",\"type\":\"BoxZoomTool\"},{\"attributes\":{\"days\":[1,8,15,22]},\"id\":\"112375\",\"type\":\"DaysTicker\"},{\"attributes\":{\"fill_alpha\":0.5,\"fill_color\":\"#bdd7e7\",\"line_color\":\"#bdd7e7\",\"x\":{\"field\":\"x\"},\"y\":{\"field\":\"y\"}},\"id\":\"112361\",\"type\":\"Patch\"},{\"attributes\":{\"source\":{\"id\":\"112360\",\"type\":\"ColumnDataSource\"}},\"id\":\"112364\",\"type\":\"CDSView\"},{\"attributes\":{},\"id\":\"114535\",\"type\":\"UnionRenderers\"},{\"attributes\":{\"source\":{\"id\":\"112439\",\"type\":\"ColumnDataSource\"}},\"id\":\"112444\",\"type\":\"CDSView\"},{\"attributes\":{},\"id\":\"112351\",\"type\":\"ResetTool\"},{\"attributes\":{\"fill_alpha\":0.1,\"fill_color\":\"#1f77b4\",\"line_alpha\":0.1,\"line_color\":\"#1f77b4\",\"x\":{\"field\":\"x\"},\"y\":{\"field\":\"y\"}},\"id\":\"112362\",\"type\":\"Patch\"},{\"attributes\":{\"line_alpha\":0.1,\"line_color\":\"#1f77b4\",\"x\":{\"field\":\"x\"},\"y\":{\"field\":\"y\"}},\"id\":\"112387\",\"type\":\"Line\"},{\"attributes\":{\"data_source\":{\"id\":\"112411\",\"type\":\"ColumnDataSource\"},\"glyph\":{\"id\":\"112412\",\"type\":\"Line\"},\"hover_glyph\":null,\"muted_glyph\":null,\"nonselection_glyph\":{\"id\":\"112413\",\"type\":\"Line\"},\"selection_glyph\":null,\"view\":{\"id\":\"112415\",\"type\":\"CDSView\"}},\"id\":\"112414\",\"type\":\"GlyphRenderer\"}],\"root_ids\":[\"112326\"]},\"title\":\"Bokeh Application\",\"version\":\"1.3.4\"}};\n",
       "  var render_items = [{\"docid\":\"51fd2e5d-d719-4acd-abd2-0a137d2d3d9a\",\"notebook_comms_target\":\"114539\",\"roots\":{\"112326\":\"5a431c3a-976a-4e66-82bd-533bef3fea01\"}}];\n",
       "  root.Bokeh.embed.embed_items_notebook(docs_json, render_items);\n",
       "\n",
       "  }\n",
       "  if (root.Bokeh !== undefined) {\n",
       "    embed_document(root);\n",
       "  } else {\n",
       "    var attempts = 0;\n",
       "    var timer = setInterval(function(root) {\n",
       "      if (root.Bokeh !== undefined) {\n",
       "        embed_document(root);\n",
       "        clearInterval(timer);\n",
       "      }\n",
       "      attempts++;\n",
       "      if (attempts > 100) {\n",
       "        console.log(\"Bokeh: ERROR: Unable to run BokehJS code because BokehJS library is missing\");\n",
       "        clearInterval(timer);\n",
       "      }\n",
       "    }, 10, root)\n",
       "  }\n",
       "})(window);"
      ],
      "application/vnd.bokehjs_exec.v0+json": ""
     },
     "metadata": {
      "application/vnd.bokehjs_exec.v0+json": {
       "id": "112326"
      }
     },
     "output_type": "display_data"
    }
   ],
   "source": [
    "build_figure(sample_data, 98)"
   ]
  },
  {
   "cell_type": "code",
   "execution_count": null,
   "metadata": {},
   "outputs": [],
   "source": []
  }
 ],
 "metadata": {
  "kernelspec": {
   "display_name": "Python 3",
   "language": "python",
   "name": "python3"
  },
  "language_info": {
   "codemirror_mode": {
    "name": "ipython",
    "version": 3
   },
   "file_extension": ".py",
   "mimetype": "text/x-python",
   "name": "python",
   "nbconvert_exporter": "python",
   "pygments_lexer": "ipython3",
   "version": "3.7.4"
  }
 },
 "nbformat": 4,
 "nbformat_minor": 2
}
